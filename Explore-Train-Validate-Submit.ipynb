{
 "cells": [
  {
   "cell_type": "code",
   "execution_count": 1,
   "id": "fewer-garbage",
   "metadata": {
    "ExecuteTime": {
     "end_time": "2021-12-20T20:00:22.587523Z",
     "start_time": "2021-12-20T20:00:22.584843Z"
    }
   },
   "outputs": [],
   "source": [
    "# !pip install \"cloudpathlib[azure]\" loguru tqdm typer\n",
    "# !pip install xarray xarray-spatial"
   ]
  },
  {
   "cell_type": "code",
   "execution_count": 1,
   "id": "worst-paragraph",
   "metadata": {
    "ExecuteTime": {
     "end_time": "2022-02-06T09:16:46.577898Z",
     "start_time": "2022-02-06T09:16:42.155032Z"
    }
   },
   "outputs": [
    {
     "name": "stdout",
     "output_type": "stream",
     "text": [
      "32 cpus\n"
     ]
    }
   ],
   "source": [
    "%reload_ext autoreload\n",
    "%autoreload 2\n",
    "\n",
    "# import sys\n",
    "# sys.path.insert(0, '../')\n",
    "import os\n",
    "os.environ[\"CUDA_VISIBLE_DEVICES\"] = \"1\"\n",
    "import pandas as pd\n",
    "pd.set_option(\"display.max_colwidth\", 250)\n",
    "import matplotlib.pyplot as plt\n",
    "import rasterio\n",
    "import glob\n",
    "import numpy as np\n",
    "import pyproj\n",
    "import shutil\n",
    "import bcolz\n",
    "import xarray\n",
    "import cv2\n",
    "import xrspatial.multispectral as ms\n",
    "from PIL import Image\n",
    "import multiprocessing\n",
    "from concurrent.futures import ProcessPoolExecutor, ThreadPoolExecutor\n",
    "cpus = multiprocessing.cpu_count()\n",
    "cpus = min(32, cpus)\n",
    "print(f\"{cpus} cpus\")\n",
    "\n",
    "from src.train import train\n",
    "from src.hyperparams import HyperParams, open_from_yaml\n",
    "from src.dataloader import *\n",
    "from src.datasets import LoadTifDataset\n",
    "from src.validate import *"
   ]
  },
  {
   "cell_type": "markdown",
   "id": "floating-programmer",
   "metadata": {},
   "source": [
    "# Explore"
   ]
  },
  {
   "cell_type": "code",
   "execution_count": 5,
   "id": "timely-membership",
   "metadata": {
    "ExecuteTime": {
     "end_time": "2021-12-30T19:08:23.036480Z",
     "start_time": "2021-12-30T19:08:22.974834Z"
    }
   },
   "outputs": [
    {
     "data": {
      "text/html": [
       "<div>\n",
       "<style scoped>\n",
       "    .dataframe tbody tr th:only-of-type {\n",
       "        vertical-align: middle;\n",
       "    }\n",
       "\n",
       "    .dataframe tbody tr th {\n",
       "        vertical-align: top;\n",
       "    }\n",
       "\n",
       "    .dataframe thead th {\n",
       "        text-align: right;\n",
       "    }\n",
       "</style>\n",
       "<table border=\"1\" class=\"dataframe\">\n",
       "  <thead>\n",
       "    <tr style=\"text-align: right;\">\n",
       "      <th></th>\n",
       "      <th>chip_id</th>\n",
       "      <th>location</th>\n",
       "      <th>datetime</th>\n",
       "      <th>cloudpath</th>\n",
       "    </tr>\n",
       "  </thead>\n",
       "  <tbody>\n",
       "    <tr>\n",
       "      <th>0</th>\n",
       "      <td>adwp</td>\n",
       "      <td>Chifunfu</td>\n",
       "      <td>2020-04-29T08:20:47Z</td>\n",
       "      <td>az://./train_features/adwp</td>\n",
       "    </tr>\n",
       "    <tr>\n",
       "      <th>1</th>\n",
       "      <td>adwu</td>\n",
       "      <td>Chifunfu</td>\n",
       "      <td>2020-04-29T08:20:47Z</td>\n",
       "      <td>az://./train_features/adwu</td>\n",
       "    </tr>\n",
       "    <tr>\n",
       "      <th>2</th>\n",
       "      <td>adwz</td>\n",
       "      <td>Chifunfu</td>\n",
       "      <td>2020-04-29T08:20:47Z</td>\n",
       "      <td>az://./train_features/adwz</td>\n",
       "    </tr>\n",
       "    <tr>\n",
       "      <th>3</th>\n",
       "      <td>adxp</td>\n",
       "      <td>Chifunfu</td>\n",
       "      <td>2020-04-29T08:20:47Z</td>\n",
       "      <td>az://./train_features/adxp</td>\n",
       "    </tr>\n",
       "    <tr>\n",
       "      <th>4</th>\n",
       "      <td>aeaj</td>\n",
       "      <td>Chifunfu</td>\n",
       "      <td>2020-04-29T08:20:47Z</td>\n",
       "      <td>az://./train_features/aeaj</td>\n",
       "    </tr>\n",
       "  </tbody>\n",
       "</table>\n",
       "</div>"
      ],
      "text/plain": [
       "  chip_id  location              datetime                   cloudpath\n",
       "0    adwp  Chifunfu  2020-04-29T08:20:47Z  az://./train_features/adwp\n",
       "1    adwu  Chifunfu  2020-04-29T08:20:47Z  az://./train_features/adwu\n",
       "2    adwz  Chifunfu  2020-04-29T08:20:47Z  az://./train_features/adwz\n",
       "3    adxp  Chifunfu  2020-04-29T08:20:47Z  az://./train_features/adxp\n",
       "4    aeaj  Chifunfu  2020-04-29T08:20:47Z  az://./train_features/aeaj"
      ]
     },
     "execution_count": 5,
     "metadata": {},
     "output_type": "execute_result"
    }
   ],
   "source": [
    "train_meta = pd.read_csv(\"data/train_metadata.csv\")\n",
    "train_meta.head()"
   ]
  },
  {
   "cell_type": "code",
   "execution_count": 6,
   "id": "useful-packaging",
   "metadata": {
    "ExecuteTime": {
     "end_time": "2021-12-30T19:08:23.158284Z",
     "start_time": "2021-12-30T19:08:23.109913Z"
    }
   },
   "outputs": [
    {
     "data": {
      "text/plain": [
       "chip_id     11748\n",
       "location       81\n",
       "datetime       91\n",
       "dtype: int64"
      ]
     },
     "execution_count": 6,
     "metadata": {},
     "output_type": "execute_result"
    }
   ],
   "source": [
    "# how many different chip ids, locations, and datetimes are there?\n",
    "train_meta[[\"chip_id\", \"location\", \"datetime\"]].nunique()"
   ]
  },
  {
   "cell_type": "code",
   "execution_count": 7,
   "id": "worst-brooks",
   "metadata": {
    "ExecuteTime": {
     "end_time": "2021-12-30T19:08:23.334624Z",
     "start_time": "2021-12-30T19:08:23.288669Z"
    }
   },
   "outputs": [
    {
     "data": {
      "text/plain": [
       "Chifunfu      341\n",
       "Timbuktu      321\n",
       "Chingola      321\n",
       "Lusaka        309\n",
       "Bambesa       267\n",
       "             ... \n",
       "Sudan           9\n",
       "Gabon           9\n",
       "Sfax            6\n",
       "Morocco         4\n",
       "Angkor Wat      2\n",
       "Name: location, Length: 81, dtype: int64"
      ]
     },
     "execution_count": 7,
     "metadata": {},
     "output_type": "execute_result"
    }
   ],
   "source": [
    "train_meta[\"location\"].value_counts()"
   ]
  },
  {
   "cell_type": "code",
   "execution_count": 8,
   "id": "wireless-toddler",
   "metadata": {
    "ExecuteTime": {
     "end_time": "2021-12-30T19:08:23.661723Z",
     "start_time": "2021-12-30T19:08:23.421977Z"
    }
   },
   "outputs": [
    {
     "data": {
      "image/png": "[encoded data removed]",
      "text/plain": [
       "<Figure size 864x288 with 1 Axes>"
      ]
     },
     "metadata": {
      "needs_background": "light"
     },
     "output_type": "display_data"
    }
   ],
   "source": [
    "train_location_counts = (\n",
    "    train_meta.groupby(\"location\")[\"chip_id\"].nunique().sort_values(ascending=False)\n",
    ")\n",
    "plt.figure(figsize=(12, 4))\n",
    "train_location_counts.head(25).plot(kind=\"bar\")\n",
    "plt.xticks(rotation=90)\n",
    "plt.xlabel(\"Location\")\n",
    "plt.ylabel(\"Number of Chips\")\n",
    "plt.title(\"Number of Train Chips by Location (Top 25)\")\n",
    "plt.show()"
   ]
  },
  {
   "cell_type": "code",
   "execution_count": 9,
   "id": "cooperative-conducting",
   "metadata": {
    "ExecuteTime": {
     "end_time": "2021-12-30T19:08:23.896566Z",
     "start_time": "2021-12-30T19:08:23.662893Z"
    }
   },
   "outputs": [
    {
     "data": {
      "image/png": "[encoded data removed]",
      "text/plain": [
       "<Figure size 864x288 with 1 Axes>"
      ]
     },
     "metadata": {
      "needs_background": "light"
     },
     "output_type": "display_data"
    }
   ],
   "source": [
    "train_location_counts = (\n",
    "    train_meta.groupby(\"location\")[\"chip_id\"].nunique().sort_values(ascending=False)\n",
    ")\n",
    "plt.figure(figsize=(12, 4))\n",
    "train_location_counts.tail(25).plot(kind=\"bar\")\n",
    "plt.xticks(rotation=90)\n",
    "plt.xlabel(\"Location\")\n",
    "plt.ylabel(\"Number of Chips\")\n",
    "plt.title(\"Number of Train Chips by Location (Top 25)\")\n",
    "plt.show()"
   ]
  },
  {
   "cell_type": "code",
   "execution_count": 10,
   "id": "painful-creator",
   "metadata": {
    "ExecuteTime": {
     "end_time": "2021-12-30T19:08:23.948308Z",
     "start_time": "2021-12-30T19:08:23.897759Z"
    }
   },
   "outputs": [
    {
     "data": {
      "text/html": [
       "<div>\n",
       "<style scoped>\n",
       "    .dataframe tbody tr th:only-of-type {\n",
       "        vertical-align: middle;\n",
       "    }\n",
       "\n",
       "    .dataframe tbody tr th {\n",
       "        vertical-align: top;\n",
       "    }\n",
       "\n",
       "    .dataframe thead th {\n",
       "        text-align: right;\n",
       "    }\n",
       "</style>\n",
       "<table border=\"1\" class=\"dataframe\">\n",
       "  <thead>\n",
       "    <tr style=\"text-align: right;\">\n",
       "      <th></th>\n",
       "      <th>chip_count</th>\n",
       "    </tr>\n",
       "    <tr>\n",
       "      <th>year</th>\n",
       "      <th></th>\n",
       "    </tr>\n",
       "  </thead>\n",
       "  <tbody>\n",
       "    <tr>\n",
       "      <th>2018</th>\n",
       "      <td>326</td>\n",
       "    </tr>\n",
       "    <tr>\n",
       "      <th>2019</th>\n",
       "      <td>1015</td>\n",
       "    </tr>\n",
       "    <tr>\n",
       "      <th>2020</th>\n",
       "      <td>10407</td>\n",
       "    </tr>\n",
       "  </tbody>\n",
       "</table>\n",
       "</div>"
      ],
      "text/plain": [
       "      chip_count\n",
       "year            \n",
       "2018         326\n",
       "2019        1015\n",
       "2020       10407"
      ]
     },
     "execution_count": 10,
     "metadata": {},
     "output_type": "execute_result"
    }
   ],
   "source": [
    "train_meta[\"datetime\"] = pd.to_datetime(train_meta[\"datetime\"])\n",
    "train_meta[\"year\"] = train_meta.datetime.dt.year\n",
    "train_meta.groupby(\"year\")[[\"chip_id\"]].nunique().sort_index().rename(\n",
    "    columns={\"chip_id\": \"chip_count\"}\n",
    ")"
   ]
  },
  {
   "cell_type": "code",
   "execution_count": 11,
   "id": "black-stand",
   "metadata": {
    "ExecuteTime": {
     "end_time": "2021-12-30T19:08:24.287169Z",
     "start_time": "2021-12-30T19:08:24.242217Z"
    }
   },
   "outputs": [
    {
     "data": {
      "text/plain": [
       "(Timestamp('2018-03-07 08:46:02+0000', tz='UTC'),\n",
       " Timestamp('2020-09-14 08:28:49+0000', tz='UTC'))"
      ]
     },
     "execution_count": 11,
     "metadata": {},
     "output_type": "execute_result"
    }
   ],
   "source": [
    "train_meta[\"datetime\"].min(), train_meta[\"datetime\"].max()"
   ]
  },
  {
   "cell_type": "code",
   "execution_count": 12,
   "id": "invalid-ticket",
   "metadata": {
    "ExecuteTime": {
     "end_time": "2021-12-30T19:08:24.800355Z",
     "start_time": "2021-12-30T19:08:24.748502Z"
    }
   },
   "outputs": [
    {
     "data": {
      "text/html": [
       "<div>\n",
       "<style scoped>\n",
       "    .dataframe tbody tr th:only-of-type {\n",
       "        vertical-align: middle;\n",
       "    }\n",
       "\n",
       "    .dataframe tbody tr th {\n",
       "        vertical-align: top;\n",
       "    }\n",
       "\n",
       "    .dataframe thead th {\n",
       "        text-align: right;\n",
       "    }\n",
       "</style>\n",
       "<table border=\"1\" class=\"dataframe\">\n",
       "  <thead>\n",
       "    <tr style=\"text-align: right;\">\n",
       "      <th></th>\n",
       "      <th></th>\n",
       "      <th>chip_count</th>\n",
       "    </tr>\n",
       "    <tr>\n",
       "      <th>location</th>\n",
       "      <th>datetime</th>\n",
       "      <th></th>\n",
       "    </tr>\n",
       "  </thead>\n",
       "  <tbody>\n",
       "    <tr>\n",
       "      <th>South America - Brazil</th>\n",
       "      <th>2020-09-06 15:02:37+00:00</th>\n",
       "      <td>261</td>\n",
       "    </tr>\n",
       "    <tr>\n",
       "      <th>Port Gentil</th>\n",
       "      <th>2020-09-08 09:50:58+00:00</th>\n",
       "      <td>223</td>\n",
       "    </tr>\n",
       "    <tr>\n",
       "      <th>Uganda</th>\n",
       "      <th>2019-04-25 08:29:37+00:00</th>\n",
       "      <td>220</td>\n",
       "    </tr>\n",
       "    <tr>\n",
       "      <th>Australia - Central</th>\n",
       "      <th>2020-08-11 01:24:00+00:00</th>\n",
       "      <td>209</td>\n",
       "    </tr>\n",
       "    <tr>\n",
       "      <th>Malabo</th>\n",
       "      <th>2020-09-06 10:00:03+00:00</th>\n",
       "      <td>206</td>\n",
       "    </tr>\n",
       "    <tr>\n",
       "      <th>Jimma</th>\n",
       "      <th>2020-05-31 08:07:58+00:00</th>\n",
       "      <td>201</td>\n",
       "    </tr>\n",
       "    <tr>\n",
       "      <th>Chifunfu</th>\n",
       "      <th>2020-04-29 08:20:47+00:00</th>\n",
       "      <td>197</td>\n",
       "    </tr>\n",
       "    <tr>\n",
       "      <th>South America - Suriname</th>\n",
       "      <th>2020-06-03 14:11:18+00:00</th>\n",
       "      <td>197</td>\n",
       "    </tr>\n",
       "    <tr>\n",
       "      <th>Isiro</th>\n",
       "      <th>2020-08-28 08:39:29+00:00</th>\n",
       "      <td>197</td>\n",
       "    </tr>\n",
       "    <tr>\n",
       "      <th>Pibor</th>\n",
       "      <th>2020-08-17 08:18:22+00:00</th>\n",
       "      <td>197</td>\n",
       "    </tr>\n",
       "  </tbody>\n",
       "</table>\n",
       "</div>"
      ],
      "text/plain": [
       "                                                    chip_count\n",
       "location                 datetime                             \n",
       "South America - Brazil   2020-09-06 15:02:37+00:00         261\n",
       "Port Gentil              2020-09-08 09:50:58+00:00         223\n",
       "Uganda                   2019-04-25 08:29:37+00:00         220\n",
       "Australia - Central      2020-08-11 01:24:00+00:00         209\n",
       "Malabo                   2020-09-06 10:00:03+00:00         206\n",
       "Jimma                    2020-05-31 08:07:58+00:00         201\n",
       "Chifunfu                 2020-04-29 08:20:47+00:00         197\n",
       "South America - Suriname 2020-06-03 14:11:18+00:00         197\n",
       "Isiro                    2020-08-28 08:39:29+00:00         197\n",
       "Pibor                    2020-08-17 08:18:22+00:00         197"
      ]
     },
     "execution_count": 12,
     "metadata": {},
     "output_type": "execute_result"
    }
   ],
   "source": [
    "chips_per_locationtime = (\n",
    "    train_meta.groupby([\"location\", \"datetime\"])[[\"chip_id\"]]\n",
    "    .nunique()\n",
    "    .sort_values(by=\"chip_id\", ascending=False)\n",
    "    .rename(columns={\"chip_id\": \"chip_count\"})\n",
    ")\n",
    "chips_per_locationtime.head(10)"
   ]
  },
  {
   "cell_type": "code",
   "execution_count": 13,
   "id": "flying-lindsay",
   "metadata": {
    "ExecuteTime": {
     "end_time": "2021-12-30T19:08:25.817196Z",
     "start_time": "2021-12-30T19:08:25.752215Z"
    }
   },
   "outputs": [
    {
     "data": {
      "text/html": [
       "<div>\n",
       "<style scoped>\n",
       "    .dataframe tbody tr th:only-of-type {\n",
       "        vertical-align: middle;\n",
       "    }\n",
       "\n",
       "    .dataframe tbody tr th {\n",
       "        vertical-align: top;\n",
       "    }\n",
       "\n",
       "    .dataframe thead th {\n",
       "        text-align: right;\n",
       "    }\n",
       "</style>\n",
       "<table border=\"1\" class=\"dataframe\">\n",
       "  <thead>\n",
       "    <tr style=\"text-align: right;\">\n",
       "      <th></th>\n",
       "      <th>chip_id</th>\n",
       "      <th>location</th>\n",
       "      <th>datetime</th>\n",
       "      <th>cloudpath</th>\n",
       "      <th>year</th>\n",
       "      <th>B02_path</th>\n",
       "      <th>B03_path</th>\n",
       "      <th>B04_path</th>\n",
       "      <th>B08_path</th>\n",
       "      <th>label_path</th>\n",
       "    </tr>\n",
       "  </thead>\n",
       "  <tbody>\n",
       "    <tr>\n",
       "      <th>0</th>\n",
       "      <td>adwp</td>\n",
       "      <td>Chifunfu</td>\n",
       "      <td>2020-04-29 08:20:47+00:00</td>\n",
       "      <td>az://./train_features/adwp</td>\n",
       "      <td>2020</td>\n",
       "      <td>data/train_features/adwp/B02.tif</td>\n",
       "      <td>data/train_features/adwp/B03.tif</td>\n",
       "      <td>data/train_features/adwp/B04.tif</td>\n",
       "      <td>data/train_features/adwp/B08.tif</td>\n",
       "      <td>data/train_labels/adwp.tif</td>\n",
       "    </tr>\n",
       "    <tr>\n",
       "      <th>1</th>\n",
       "      <td>adwu</td>\n",
       "      <td>Chifunfu</td>\n",
       "      <td>2020-04-29 08:20:47+00:00</td>\n",
       "      <td>az://./train_features/adwu</td>\n",
       "      <td>2020</td>\n",
       "      <td>data/train_features/adwu/B02.tif</td>\n",
       "      <td>data/train_features/adwu/B03.tif</td>\n",
       "      <td>data/train_features/adwu/B04.tif</td>\n",
       "      <td>data/train_features/adwu/B08.tif</td>\n",
       "      <td>data/train_labels/adwu.tif</td>\n",
       "    </tr>\n",
       "    <tr>\n",
       "      <th>2</th>\n",
       "      <td>adwz</td>\n",
       "      <td>Chifunfu</td>\n",
       "      <td>2020-04-29 08:20:47+00:00</td>\n",
       "      <td>az://./train_features/adwz</td>\n",
       "      <td>2020</td>\n",
       "      <td>data/train_features/adwz/B02.tif</td>\n",
       "      <td>data/train_features/adwz/B03.tif</td>\n",
       "      <td>data/train_features/adwz/B04.tif</td>\n",
       "      <td>data/train_features/adwz/B08.tif</td>\n",
       "      <td>data/train_labels/adwz.tif</td>\n",
       "    </tr>\n",
       "    <tr>\n",
       "      <th>3</th>\n",
       "      <td>adxp</td>\n",
       "      <td>Chifunfu</td>\n",
       "      <td>2020-04-29 08:20:47+00:00</td>\n",
       "      <td>az://./train_features/adxp</td>\n",
       "      <td>2020</td>\n",
       "      <td>data/train_features/adxp/B02.tif</td>\n",
       "      <td>data/train_features/adxp/B03.tif</td>\n",
       "      <td>data/train_features/adxp/B04.tif</td>\n",
       "      <td>data/train_features/adxp/B08.tif</td>\n",
       "      <td>data/train_labels/adxp.tif</td>\n",
       "    </tr>\n",
       "    <tr>\n",
       "      <th>4</th>\n",
       "      <td>aeaj</td>\n",
       "      <td>Chifunfu</td>\n",
       "      <td>2020-04-29 08:20:47+00:00</td>\n",
       "      <td>az://./train_features/aeaj</td>\n",
       "      <td>2020</td>\n",
       "      <td>data/train_features/aeaj/B02.tif</td>\n",
       "      <td>data/train_features/aeaj/B03.tif</td>\n",
       "      <td>data/train_features/aeaj/B04.tif</td>\n",
       "      <td>data/train_features/aeaj/B08.tif</td>\n",
       "      <td>data/train_labels/aeaj.tif</td>\n",
       "    </tr>\n",
       "  </tbody>\n",
       "</table>\n",
       "</div>"
      ],
      "text/plain": [
       "  chip_id  location                  datetime                   cloudpath  \\\n",
       "0    adwp  Chifunfu 2020-04-29 08:20:47+00:00  az://./train_features/adwp   \n",
       "1    adwu  Chifunfu 2020-04-29 08:20:47+00:00  az://./train_features/adwu   \n",
       "2    adwz  Chifunfu 2020-04-29 08:20:47+00:00  az://./train_features/adwz   \n",
       "3    adxp  Chifunfu 2020-04-29 08:20:47+00:00  az://./train_features/adxp   \n",
       "4    aeaj  Chifunfu 2020-04-29 08:20:47+00:00  az://./train_features/aeaj   \n",
       "\n",
       "   year                          B02_path                          B03_path  \\\n",
       "0  2020  data/train_features/adwp/B02.tif  data/train_features/adwp/B03.tif   \n",
       "1  2020  data/train_features/adwu/B02.tif  data/train_features/adwu/B03.tif   \n",
       "2  2020  data/train_features/adwz/B02.tif  data/train_features/adwz/B03.tif   \n",
       "3  2020  data/train_features/adxp/B02.tif  data/train_features/adxp/B03.tif   \n",
       "4  2020  data/train_features/aeaj/B02.tif  data/train_features/aeaj/B03.tif   \n",
       "\n",
       "                           B04_path                          B08_path  \\\n",
       "0  data/train_features/adwp/B04.tif  data/train_features/adwp/B08.tif   \n",
       "1  data/train_features/adwu/B04.tif  data/train_features/adwu/B08.tif   \n",
       "2  data/train_features/adwz/B04.tif  data/train_features/adwz/B08.tif   \n",
       "3  data/train_features/adxp/B04.tif  data/train_features/adxp/B08.tif   \n",
       "4  data/train_features/aeaj/B04.tif  data/train_features/aeaj/B08.tif   \n",
       "\n",
       "                   label_path  \n",
       "0  data/train_labels/adwp.tif  \n",
       "1  data/train_labels/adwu.tif  \n",
       "2  data/train_labels/adwz.tif  \n",
       "3  data/train_labels/adxp.tif  \n",
       "4  data/train_labels/aeaj.tif  "
      ]
     },
     "execution_count": 13,
     "metadata": {},
     "output_type": "execute_result"
    }
   ],
   "source": [
    "BANDS = [\"B02\", \"B03\", \"B04\", \"B08\"]\n",
    "\n",
    "def add_paths(df, feature_dir, label_dir=None, bands=BANDS):\n",
    "    \"\"\"\n",
    "    Given dataframe with a column for chip_id, returns a dataframe with a column\n",
    "    added indicating the path to each band's TIF image as \"{band}_path\", eg \"B02_path\".\n",
    "    A column is also added to the dataframe with paths to the label TIF, if the\n",
    "    path to the labels directory is provided.\n",
    "    \"\"\"\n",
    "    for band in bands:\n",
    "        df[f\"{band}_path\"] = df[\"chip_id\"].apply(lambda x: f\"{feature_dir}/{x}/{band}.tif\")\n",
    "#         assert df[f\"{band}_path\"].path.exists().all()\n",
    "    if label_dir is not None:\n",
    "        df[\"label_path\"] = df[\"chip_id\"].apply(lambda x: f\"{label_dir}/{x}.tif\")\n",
    "#         assert df[\"label_path\"].path.exists().all()\n",
    "\n",
    "    return df\n",
    "\n",
    "\n",
    "train_meta = add_paths(train_meta, \"data/train_features\", \"data/train_labels\")\n",
    "train_meta.head()"
   ]
  },
  {
   "cell_type": "code",
   "execution_count": 14,
   "id": "distinct-occupation",
   "metadata": {
    "ExecuteTime": {
     "end_time": "2021-12-30T19:08:29.100034Z",
     "start_time": "2021-12-30T19:08:28.848090Z"
    }
   },
   "outputs": [
    {
     "data": {
      "text/plain": [
       "(11748, 46992)"
      ]
     },
     "execution_count": 14,
     "metadata": {},
     "output_type": "execute_result"
    }
   ],
   "source": [
    "len(glob.glob(\"data/train_features/*\")), len(glob.glob(\"data/train_features/*/*\"))"
   ]
  },
  {
   "cell_type": "code",
   "execution_count": 15,
   "id": "taken-defensive",
   "metadata": {
    "ExecuteTime": {
     "end_time": "2021-12-30T19:08:29.182500Z",
     "start_time": "2021-12-30T19:08:29.112159Z"
    }
   },
   "outputs": [
    {
     "data": {
      "text/plain": [
       "12798"
      ]
     },
     "execution_count": 15,
     "metadata": {},
     "output_type": "execute_result"
    }
   ],
   "source": [
    "len(glob.glob(\"data/train_labels/*\"))"
   ]
  },
  {
   "cell_type": "code",
   "execution_count": 16,
   "id": "banner-belief",
   "metadata": {
    "ExecuteTime": {
     "end_time": "2021-12-30T19:08:29.406895Z",
     "start_time": "2021-12-30T19:08:29.360783Z"
    }
   },
   "outputs": [],
   "source": [
    "example_chip = train_meta.sample(1)"
   ]
  },
  {
   "cell_type": "code",
   "execution_count": 17,
   "id": "flexible-thursday",
   "metadata": {
    "ExecuteTime": {
     "end_time": "2021-12-30T19:08:29.668930Z",
     "start_time": "2021-12-30T19:08:29.569197Z"
    }
   },
   "outputs": [
    {
     "data": {
      "text/plain": [
       "{'driver': 'GTiff',\n",
       " 'dtype': 'uint16',\n",
       " 'nodata': 0.0,\n",
       " 'width': 512,\n",
       " 'height': 512,\n",
       " 'count': 1,\n",
       " 'crs': CRS.from_epsg(32722),\n",
       " 'transform': Affine(10.0, 0.0, 340740.0,\n",
       "        0.0, -10.0, 6742130.0)}"
      ]
     },
     "execution_count": 17,
     "metadata": {},
     "output_type": "execute_result"
    }
   ],
   "source": [
    "example_chip = example_chip.iloc[0]\n",
    "with rasterio.open(example_chip[\"B04_path\"]) as img:\n",
    "    chip_metadata = img.meta\n",
    "    img_array = img.read(1)\n",
    "\n",
    "chip_metadata"
   ]
  },
  {
   "cell_type": "code",
   "execution_count": 18,
   "id": "absolute-tolerance",
   "metadata": {
    "ExecuteTime": {
     "end_time": "2021-12-30T19:08:29.861833Z",
     "start_time": "2021-12-30T19:08:29.813665Z"
    }
   },
   "outputs": [
    {
     "name": "stdout",
     "output_type": "stream",
     "text": [
      "Image array shape: (512, 512)\n"
     ]
    },
    {
     "data": {
      "text/plain": [
       "array([[3724, 3532, 3216, ..., 1148, 1102, 1032],\n",
       "       [3630, 3362, 2928, ..., 1322, 1164, 1062],\n",
       "       [3496, 3000, 2702, ..., 1460, 1278, 1138],\n",
       "       ...,\n",
       "       [5092, 5748, 5956, ..., 1198, 1226, 1224],\n",
       "       [4912, 5724, 5988, ..., 1212, 1226, 1208],\n",
       "       [4792, 5556, 5816, ..., 1176, 1216, 1246]], dtype=uint16)"
      ]
     },
     "execution_count": 18,
     "metadata": {},
     "output_type": "execute_result"
    }
   ],
   "source": [
    "# what does the image array look like?\n",
    "print(\"Image array shape:\", img_array.shape)\n",
    "img_array"
   ]
  },
  {
   "cell_type": "code",
   "execution_count": 19,
   "id": "coupled-declaration",
   "metadata": {
    "ExecuteTime": {
     "end_time": "2021-12-30T19:08:30.217183Z",
     "start_time": "2021-12-30T19:08:30.171796Z"
    }
   },
   "outputs": [
    {
     "data": {
      "text/plain": [
       "0"
      ]
     },
     "execution_count": 19,
     "metadata": {},
     "output_type": "execute_result"
    }
   ],
   "source": [
    "np.isnan(img_array).sum()"
   ]
  },
  {
   "cell_type": "code",
   "execution_count": 20,
   "id": "hydraulic-nigeria",
   "metadata": {
    "ExecuteTime": {
     "end_time": "2021-12-30T19:08:31.280298Z",
     "start_time": "2021-12-30T19:08:31.119999Z"
    }
   },
   "outputs": [
    {
     "data": {
      "image/png": "[encoded data removed]",
      "text/plain": [
       "<Figure size 432x288 with 1 Axes>"
      ]
     },
     "metadata": {
      "needs_background": "light"
     },
     "output_type": "display_data"
    }
   ],
   "source": [
    "plt.imshow(img_array)\n",
    "plt.title(f\"B04 band for chip id {example_chip.chip_id}\")\n",
    "plt.show()"
   ]
  },
  {
   "cell_type": "code",
   "execution_count": 21,
   "id": "southwest-horizon",
   "metadata": {
    "ExecuteTime": {
     "end_time": "2021-12-30T19:08:31.603677Z",
     "start_time": "2021-12-30T19:08:31.558486Z"
    }
   },
   "outputs": [
    {
     "name": "stdout",
     "output_type": "stream",
     "text": [
      "Longitude: -52.615982199160364, latitude: -29.46353304963184\n"
     ]
    }
   ],
   "source": [
    "# longitude/latitude of image's center\n",
    "with rasterio.open(example_chip[\"B04_path\"]) as img:\n",
    "    lon, lat = img.lnglat()\n",
    "    bounds = img.bounds\n",
    "print(f\"Longitude: {lon}, latitude: {lat}\")"
   ]
  },
  {
   "cell_type": "code",
   "execution_count": 22,
   "id": "attended-mystery",
   "metadata": {
    "ExecuteTime": {
     "end_time": "2021-12-30T19:08:31.994404Z",
     "start_time": "2021-12-30T19:08:31.950390Z"
    }
   },
   "outputs": [
    {
     "data": {
      "text/plain": [
       "BoundingBox(left=340740.0, bottom=6737010.0, right=345860.0, top=6742130.0)"
      ]
     },
     "execution_count": 22,
     "metadata": {},
     "output_type": "execute_result"
    }
   ],
   "source": [
    "bounds"
   ]
  },
  {
   "cell_type": "code",
   "execution_count": 23,
   "id": "perfect-fields",
   "metadata": {
    "ExecuteTime": {
     "end_time": "2021-12-30T19:08:32.427671Z",
     "start_time": "2021-12-30T19:08:32.308573Z"
    }
   },
   "outputs": [
    {
     "name": "stdout",
     "output_type": "stream",
     "text": [
      "Image coordinates (lat, long):\n",
      "Start: (-29.486946830796455, -52.6427458966144)\n",
      "End: (-29.44011455494337, -52.589230450963804)\n"
     ]
    }
   ],
   "source": [
    "def lat_long_bounds(filepath):\n",
    "    \"\"\"Given the path to a GeoTIFF, returns the image bounds in latitude and\n",
    "    longitude coordinates.\n",
    "\n",
    "    Returns points as a tuple of (left, bottom, right, top)\n",
    "    \"\"\"\n",
    "    with rasterio.open(filepath) as im:\n",
    "        bounds = im.bounds\n",
    "        meta = im.meta\n",
    "    # create a converter starting with the current projection\n",
    "    current_crs = pyproj.CRS(meta[\"crs\"])\n",
    "    crs_transform = pyproj.Transformer.from_crs(current_crs, current_crs.geodetic_crs)\n",
    "\n",
    "    # returns left, bottom, right, top\n",
    "    return crs_transform.transform_bounds(*bounds)\n",
    "left, bottom, right, top = lat_long_bounds(example_chip[\"B04_path\"])\n",
    "print(\n",
    "    f\"Image coordinates (lat, long):\\nStart: ({left}, {bottom})\"\n",
    "    f\"\\nEnd: ({right}, {top})\"\n",
    ")"
   ]
  },
  {
   "cell_type": "code",
   "execution_count": 24,
   "id": "desperate-chorus",
   "metadata": {
    "ExecuteTime": {
     "end_time": "2021-12-30T19:08:32.954025Z",
     "start_time": "2021-12-30T19:08:32.904681Z"
    }
   },
   "outputs": [],
   "source": [
    "def get_xarray(filepath):\n",
    "    \"\"\"Put images in xarray.DataArray format\"\"\"\n",
    "    im_arr = np.array(Image.open(filepath))\n",
    "    return xarray.DataArray(im_arr, dims=[\"y\", \"x\"])\n",
    "\n",
    "\n",
    "def true_color_img(chip_id, data_dir=\"data/train_features\"):\n",
    "    \"\"\"Given the path to the directory of Sentinel-2 chip feature images,\n",
    "    plots the true color image\"\"\"\n",
    "    chip_dir = f\"{data_dir}/{chip_id}\"\n",
    "    red = get_xarray(f\"{chip_dir}/B04.tif\")\n",
    "    green = get_xarray(f\"{chip_dir}/B03.tif\")\n",
    "    blue = get_xarray(f\"{chip_dir}/B02.tif\")\n",
    "\n",
    "    return ms.true_color(r=red, g=green, b=blue)"
   ]
  },
  {
   "cell_type": "code",
   "execution_count": 25,
   "id": "behavioral-offset",
   "metadata": {
    "ExecuteTime": {
     "end_time": "2021-12-30T19:08:33.866421Z",
     "start_time": "2021-12-30T19:08:33.427441Z"
    }
   },
   "outputs": [
    {
     "data": {
      "image/png": "[encoded data removed]",
      "text/plain": [
       "<Figure size 360x360 with 1 Axes>"
      ]
     },
     "metadata": {
      "needs_background": "light"
     },
     "output_type": "display_data"
    }
   ],
   "source": [
    "fig, ax = plt.subplots(figsize=(5, 5))\n",
    "im = true_color_img(example_chip.chip_id)\n",
    "ax.imshow(im)\n",
    "plt.title(f\"True color image for chip id {example_chip.chip_id}\")\n",
    "plt.show()"
   ]
  },
  {
   "cell_type": "code",
   "execution_count": 26,
   "id": "chinese-forty",
   "metadata": {
    "ExecuteTime": {
     "end_time": "2021-12-30T19:08:34.094611Z",
     "start_time": "2021-12-30T19:08:34.049632Z"
    }
   },
   "outputs": [],
   "source": [
    "def display_random_chip(random_state):\n",
    "    fig, ax = plt.subplots(1, 2, figsize=(8, 4))\n",
    "    random_chip = train_meta.sample(random_state=random_state).iloc[0]\n",
    "    ax[0].imshow(true_color_img(random_chip.chip_id))\n",
    "    ax[0].set_title(f\"Chip {random_chip.chip_id}\\n(Location: {random_chip.location})\")\n",
    "    label_im = np.array(Image.open(random_chip.label_path))\n",
    "    ax[1].imshow(label_im, cmap=\"gray\")\n",
    "    ax[1].set_title(f\"Chip {random_chip.chip_id} label, {100 * (label_im.sum()/512**2):.1f}% clouds\")\n",
    "\n",
    "    plt.tight_layout()\n",
    "    plt.show()"
   ]
  },
  {
   "cell_type": "code",
   "execution_count": 27,
   "id": "acoustic-wyoming",
   "metadata": {
    "ExecuteTime": {
     "end_time": "2021-12-30T19:08:34.796263Z",
     "start_time": "2021-12-30T19:08:34.752266Z"
    },
    "scrolled": false
   },
   "outputs": [],
   "source": [
    "# for k in range(100):\n",
    "#     display_random_chip(k)"
   ]
  },
  {
   "cell_type": "code",
   "execution_count": 28,
   "id": "authentic-southwest",
   "metadata": {
    "ExecuteTime": {
     "end_time": "2021-12-30T19:08:37.493222Z",
     "start_time": "2021-12-30T19:08:37.425998Z"
    }
   },
   "outputs": [],
   "source": [
    "train_meta = pd.read_csv(\"data/train_metadata.csv\")\n",
    "bands = [\"B02\", \"B03\", \"B04\", \"B08\"]\n",
    "feature_dir = \"data/train_features\"\n",
    "label_dir = \"data/train_labels\"\n",
    "\n",
    "for band in bands:\n",
    "    train_meta[f\"{band}_path\"] = train_meta[\"chip_id\"].apply(lambda x: f\"{feature_dir}/{x}/{band}.tif\")\n",
    "if label_dir is not None:\n",
    "    train_meta[\"label_path\"] = train_meta[\"chip_id\"].apply(lambda x: f\"{label_dir}/{x}.tif\")"
   ]
  },
  {
   "cell_type": "code",
   "execution_count": 29,
   "id": "honest-budget",
   "metadata": {
    "ExecuteTime": {
     "end_time": "2021-12-30T19:08:40.289599Z",
     "start_time": "2021-12-30T19:08:40.243987Z"
    }
   },
   "outputs": [],
   "source": [
    "folds = [0, 1, 2, 3, 4] * (len(train_meta) // 5 + 1)\n",
    "folds = folds[:len(train_meta)]\n",
    "\n",
    "seed = 1337\n",
    "np.random.seed(seed)\n",
    "np.random.shuffle(folds)"
   ]
  },
  {
   "cell_type": "code",
   "execution_count": 30,
   "id": "automotive-consciousness",
   "metadata": {
    "ExecuteTime": {
     "end_time": "2021-12-30T19:08:42.434405Z",
     "start_time": "2021-12-30T19:08:42.379667Z"
    }
   },
   "outputs": [
    {
     "data": {
      "text/html": [
       "<div>\n",
       "<style scoped>\n",
       "    .dataframe tbody tr th:only-of-type {\n",
       "        vertical-align: middle;\n",
       "    }\n",
       "\n",
       "    .dataframe tbody tr th {\n",
       "        vertical-align: top;\n",
       "    }\n",
       "\n",
       "    .dataframe thead th {\n",
       "        text-align: right;\n",
       "    }\n",
       "</style>\n",
       "<table border=\"1\" class=\"dataframe\">\n",
       "  <thead>\n",
       "    <tr style=\"text-align: right;\">\n",
       "      <th></th>\n",
       "      <th>chip_id</th>\n",
       "      <th>location</th>\n",
       "      <th>datetime</th>\n",
       "      <th>cloudpath</th>\n",
       "      <th>B02_path</th>\n",
       "      <th>B03_path</th>\n",
       "      <th>B04_path</th>\n",
       "      <th>B08_path</th>\n",
       "      <th>label_path</th>\n",
       "      <th>fold</th>\n",
       "    </tr>\n",
       "  </thead>\n",
       "  <tbody>\n",
       "    <tr>\n",
       "      <th>4428</th>\n",
       "      <td>jxti</td>\n",
       "      <td>Australia - Central West</td>\n",
       "      <td>2020-09-02T02:06:04Z</td>\n",
       "      <td>az://./train_features/jxti</td>\n",
       "      <td>data/train_features/jxti/B02.tif</td>\n",
       "      <td>data/train_features/jxti/B03.tif</td>\n",
       "      <td>data/train_features/jxti/B04.tif</td>\n",
       "      <td>data/train_features/jxti/B08.tif</td>\n",
       "      <td>data/train_labels/jxti.tif</td>\n",
       "      <td>1</td>\n",
       "    </tr>\n",
       "    <tr>\n",
       "      <th>2760</th>\n",
       "      <td>ewyz</td>\n",
       "      <td>Ethiopia</td>\n",
       "      <td>2020-09-12T08:39:12Z</td>\n",
       "      <td>az://./train_features/ewyz</td>\n",
       "      <td>data/train_features/ewyz/B02.tif</td>\n",
       "      <td>data/train_features/ewyz/B03.tif</td>\n",
       "      <td>data/train_features/ewyz/B04.tif</td>\n",
       "      <td>data/train_features/ewyz/B08.tif</td>\n",
       "      <td>data/train_labels/ewyz.tif</td>\n",
       "      <td>1</td>\n",
       "    </tr>\n",
       "    <tr>\n",
       "      <th>10558</th>\n",
       "      <td>xrft</td>\n",
       "      <td>Malemba Nkulu</td>\n",
       "      <td>2020-09-07T08:42:26Z</td>\n",
       "      <td>az://./train_features/xrft</td>\n",
       "      <td>data/train_features/xrft/B02.tif</td>\n",
       "      <td>data/train_features/xrft/B03.tif</td>\n",
       "      <td>data/train_features/xrft/B04.tif</td>\n",
       "      <td>data/train_features/xrft/B08.tif</td>\n",
       "      <td>data/train_labels/xrft.tif</td>\n",
       "      <td>3</td>\n",
       "    </tr>\n",
       "    <tr>\n",
       "      <th>7317</th>\n",
       "      <td>rcbj</td>\n",
       "      <td>Lusaka</td>\n",
       "      <td>2020-08-22T08:24:41Z</td>\n",
       "      <td>az://./train_features/rcbj</td>\n",
       "      <td>data/train_features/rcbj/B02.tif</td>\n",
       "      <td>data/train_features/rcbj/B03.tif</td>\n",
       "      <td>data/train_features/rcbj/B04.tif</td>\n",
       "      <td>data/train_features/rcbj/B08.tif</td>\n",
       "      <td>data/train_labels/rcbj.tif</td>\n",
       "      <td>1</td>\n",
       "    </tr>\n",
       "    <tr>\n",
       "      <th>6783</th>\n",
       "      <td>pibw</td>\n",
       "      <td>Canary Islands</td>\n",
       "      <td>2020-05-15T11:53:46Z</td>\n",
       "      <td>az://./train_features/pibw</td>\n",
       "      <td>data/train_features/pibw/B02.tif</td>\n",
       "      <td>data/train_features/pibw/B03.tif</td>\n",
       "      <td>data/train_features/pibw/B04.tif</td>\n",
       "      <td>data/train_features/pibw/B08.tif</td>\n",
       "      <td>data/train_labels/pibw.tif</td>\n",
       "      <td>1</td>\n",
       "    </tr>\n",
       "  </tbody>\n",
       "</table>\n",
       "</div>"
      ],
      "text/plain": [
       "      chip_id                  location              datetime  \\\n",
       "4428     jxti  Australia - Central West  2020-09-02T02:06:04Z   \n",
       "2760     ewyz                  Ethiopia  2020-09-12T08:39:12Z   \n",
       "10558    xrft             Malemba Nkulu  2020-09-07T08:42:26Z   \n",
       "7317     rcbj                    Lusaka  2020-08-22T08:24:41Z   \n",
       "6783     pibw            Canary Islands  2020-05-15T11:53:46Z   \n",
       "\n",
       "                        cloudpath                          B02_path  \\\n",
       "4428   az://./train_features/jxti  data/train_features/jxti/B02.tif   \n",
       "2760   az://./train_features/ewyz  data/train_features/ewyz/B02.tif   \n",
       "10558  az://./train_features/xrft  data/train_features/xrft/B02.tif   \n",
       "7317   az://./train_features/rcbj  data/train_features/rcbj/B02.tif   \n",
       "6783   az://./train_features/pibw  data/train_features/pibw/B02.tif   \n",
       "\n",
       "                               B03_path                          B04_path  \\\n",
       "4428   data/train_features/jxti/B03.tif  data/train_features/jxti/B04.tif   \n",
       "2760   data/train_features/ewyz/B03.tif  data/train_features/ewyz/B04.tif   \n",
       "10558  data/train_features/xrft/B03.tif  data/train_features/xrft/B04.tif   \n",
       "7317   data/train_features/rcbj/B03.tif  data/train_features/rcbj/B04.tif   \n",
       "6783   data/train_features/pibw/B03.tif  data/train_features/pibw/B04.tif   \n",
       "\n",
       "                               B08_path                  label_path  fold  \n",
       "4428   data/train_features/jxti/B08.tif  data/train_labels/jxti.tif     1  \n",
       "2760   data/train_features/ewyz/B08.tif  data/train_labels/ewyz.tif     1  \n",
       "10558  data/train_features/xrft/B08.tif  data/train_labels/xrft.tif     3  \n",
       "7317   data/train_features/rcbj/B08.tif  data/train_labels/rcbj.tif     1  \n",
       "6783   data/train_features/pibw/B08.tif  data/train_labels/pibw.tif     1  "
      ]
     },
     "execution_count": 30,
     "metadata": {},
     "output_type": "execute_result"
    }
   ],
   "source": [
    "train_meta[\"fold\"] = folds\n",
    "train_meta.sample(5)"
   ]
  },
  {
   "cell_type": "code",
   "execution_count": 31,
   "id": "touched-cookbook",
   "metadata": {
    "ExecuteTime": {
     "end_time": "2021-12-30T19:08:43.099518Z",
     "start_time": "2021-12-30T19:08:43.022015Z"
    }
   },
   "outputs": [
    {
     "data": {
      "text/plain": [
       "(11748, 11)"
      ]
     },
     "execution_count": 31,
     "metadata": {},
     "output_type": "execute_result"
    }
   ],
   "source": [
    "train_meta[\"path_exists\"] = train_meta[\"B02_path\"].apply(lambda x: os.path.exists(x))\n",
    "train_meta = train_meta[train_meta[\"path_exists\"]==True]\n",
    "train_meta.shape"
   ]
  },
  {
   "cell_type": "code",
   "execution_count": 33,
   "id": "union-artist",
   "metadata": {
    "ExecuteTime": {
     "end_time": "2021-12-30T19:08:48.263984Z",
     "start_time": "2021-12-30T19:08:48.210938Z"
    }
   },
   "outputs": [],
   "source": [
    "train_meta.to_pickle(\"data/trainval_2021_12_30.pkl\")"
   ]
  },
  {
   "cell_type": "markdown",
   "id": "unavailable-milan",
   "metadata": {},
   "source": [
    "# Resize additional bands"
   ]
  },
  {
   "cell_type": "code",
   "execution_count": 48,
   "id": "center-example",
   "metadata": {
    "ExecuteTime": {
     "end_time": "2022-01-18T14:18:46.807793Z",
     "start_time": "2022-01-18T14:18:46.555071Z"
    }
   },
   "outputs": [
    {
     "name": "stdout",
     "output_type": "stream",
     "text": [
      "True    11748\n",
      "Name: B01_path_exists, dtype: int64\n",
      "True    11748\n",
      "Name: B09_path_exists, dtype: int64\n",
      "True    11748\n",
      "Name: B11_path_exists, dtype: int64\n",
      "True    11748\n",
      "Name: B12_path_exists, dtype: int64\n"
     ]
    }
   ],
   "source": [
    "df = pd.read_csv(\"data/train_metadata.csv\")\n",
    "new_bands = ['B01', 'B09', 'B11', 'B12']\n",
    "feature_dir = \"data/train_features\"\n",
    "label_dir = \"data/train_labels\"\n",
    "\n",
    "for band in new_bands:\n",
    "    df[f\"{band}_path\"] = df[\"chip_id\"].apply(lambda x: f\"{feature_dir}/{x}/{band}.tif\")\n",
    "    df[f\"{band}_path_exists\"] = df[f\"{band}_path\"].apply(lambda x: os.path.exists(x))\n",
    "    print(df[f\"{band}_path_exists\"].value_counts())\n",
    "    \n",
    "paths_b1 = df[\"B01_path\"].tolist()"
   ]
  },
  {
   "cell_type": "code",
   "execution_count": 44,
   "id": "spectacular-lover",
   "metadata": {
    "ExecuteTime": {
     "end_time": "2022-01-18T14:17:47.087424Z",
     "start_time": "2022-01-18T14:17:46.993324Z"
    }
   },
   "outputs": [],
   "source": [
    "visualize = False\n",
    "\n",
    "def resize_and_save(idx):\n",
    "    if idx%1000==999: print(idx)\n",
    "        \n",
    "    path_b1 = paths_b1[idx]\n",
    "    resized_b1_output_path = path_b1.replace(\".tif\", \"_resized512.tif\")\n",
    "    for band in new_bands:\n",
    "        output_path = resized_b1_output_path.replace(\"B01_resized512.tif\", f\"{band}_resized512.tif\")\n",
    "#         if os.path.exists(output_path):\n",
    "#             continue\n",
    "        input_path = path_b1.replace(\"B01.tif\", f\"{band}.tif\")\n",
    "        img = tifffile.imread(input_path)\n",
    "        if visualize:\n",
    "            plt.imshow(img)\n",
    "            plt.show()\n",
    "            print(img.shape)\n",
    "        img = cv2.resize(img, (512, 512), interpolation=cv2.INTER_CUBIC)\n",
    "        if visualize:\n",
    "            print(img.shape)\n",
    "            plt.imshow(img)\n",
    "            plt.show()\n",
    "        \n",
    "        if input_path != output_path:\n",
    "            tifffile.imwrite(output_path, img)"
   ]
  },
  {
   "cell_type": "code",
   "execution_count": 33,
   "id": "continuous-render",
   "metadata": {
    "ExecuteTime": {
     "end_time": "2022-01-18T14:14:29.633843Z",
     "start_time": "2022-01-18T14:14:29.548215Z"
    },
    "scrolled": false
   },
   "outputs": [],
   "source": [
    "resize_and_save(2)"
   ]
  },
  {
   "cell_type": "code",
   "execution_count": 45,
   "id": "thrown-wrapping",
   "metadata": {
    "ExecuteTime": {
     "end_time": "2022-01-18T14:17:59.874982Z",
     "start_time": "2022-01-18T14:17:47.824839Z"
    }
   },
   "outputs": [
    {
     "name": "stdout",
     "output_type": "stream",
     "text": [
      "999\n",
      "1999\n",
      "2999\n",
      "3999\n",
      "4999\n",
      "5999\n",
      "6999\n",
      "7999\n",
      "8999\n",
      "9999\n",
      "10999\n"
     ]
    }
   ],
   "source": [
    "with ProcessPoolExecutor(cpus) as e: \n",
    "    e.map(resize_and_save, list(range(len(paths_b1))))"
   ]
  },
  {
   "cell_type": "code",
   "execution_count": 47,
   "id": "textile-brazil",
   "metadata": {
    "ExecuteTime": {
     "end_time": "2022-01-18T14:18:40.611132Z",
     "start_time": "2022-01-18T14:18:40.359667Z"
    }
   },
   "outputs": [
    {
     "name": "stdout",
     "output_type": "stream",
     "text": [
      "True    11748\n",
      "Name: B01_path_exists, dtype: int64\n",
      "True    11748\n",
      "Name: B09_path_exists, dtype: int64\n",
      "True    11748\n",
      "Name: B11_path_exists, dtype: int64\n",
      "True    11748\n",
      "Name: B12_path_exists, dtype: int64\n"
     ]
    }
   ],
   "source": [
    "df = pd.read_csv(\"data/train_metadata.csv\")\n",
    "new_bands = ['B01', 'B09', 'B11', 'B12']\n",
    "feature_dir = \"data/train_features\"\n",
    "label_dir = \"data/train_labels\"\n",
    "\n",
    "for band in new_bands:\n",
    "    df[f\"{band}_path\"] = df[\"chip_id\"].apply(lambda x: f\"{feature_dir}/{x}/{band}_resized512.tif\")\n",
    "    df[f\"{band}_path_exists\"] = df[f\"{band}_path\"].apply(lambda x: os.path.exists(x))\n",
    "    print(df[f\"{band}_path_exists\"].value_counts())"
   ]
  },
  {
   "cell_type": "markdown",
   "id": "worldwide-tobacco",
   "metadata": {},
   "source": [
    "# Split"
   ]
  },
  {
   "cell_type": "code",
   "execution_count": 83,
   "id": "conceptual-vault",
   "metadata": {
    "ExecuteTime": {
     "end_time": "2022-01-27T21:13:32.381263Z",
     "start_time": "2022-01-27T21:13:31.909641Z"
    }
   },
   "outputs": [
    {
     "name": "stdout",
     "output_type": "stream",
     "text": [
      "True    11748\n",
      "Name: B02_path_exists, dtype: int64\n",
      "True    11748\n",
      "Name: B03_path_exists, dtype: int64\n",
      "True    11748\n",
      "Name: B04_path_exists, dtype: int64\n",
      "True    11748\n",
      "Name: B08_path_exists, dtype: int64\n",
      "True    11748\n",
      "Name: B01_path_exists, dtype: int64\n",
      "True    11748\n",
      "Name: B09_path_exists, dtype: int64\n",
      "True    11748\n",
      "Name: B11_path_exists, dtype: int64\n",
      "True    11748\n",
      "Name: B12_path_exists, dtype: int64\n"
     ]
    }
   ],
   "source": [
    "df = pd.read_csv(\"data/train_metadata.csv\")\n",
    "bands = [\"B02\", \"B03\", \"B04\", \"B08\"]\n",
    "new_bands = ['B01', 'B09', 'B11', 'B12']\n",
    "feature_dir = \"data/train_features\"\n",
    "label_dir = \"data/train_labels\"\n",
    "\n",
    "for band in bands:\n",
    "    df[f\"{band}_path\"] = df[\"chip_id\"].apply(lambda x: f\"{feature_dir}/{x}/{band}.tif\")\n",
    "    df[f\"{band}_path_exists\"] = df[f\"{band}_path\"].apply(lambda x: os.path.exists(x))\n",
    "    print(df[f\"{band}_path_exists\"].value_counts())\n",
    "    \n",
    "for band in new_bands:\n",
    "    df[f\"{band}_path\"] = df[\"chip_id\"].apply(lambda x: f\"{feature_dir}/{x}/{band}_resized512.tif\")\n",
    "    df[f\"{band}_path_exists\"] = df[f\"{band}_path\"].apply(lambda x: os.path.exists(x))\n",
    "    print(df[f\"{band}_path_exists\"].value_counts())"
   ]
  },
  {
   "cell_type": "code",
   "execution_count": 84,
   "id": "fourth-reducing",
   "metadata": {
    "ExecuteTime": {
     "end_time": "2022-01-27T21:13:38.885862Z",
     "start_time": "2022-01-27T21:13:38.718958Z"
    }
   },
   "outputs": [
    {
     "data": {
      "text/plain": [
       "11748"
      ]
     },
     "execution_count": 84,
     "metadata": {},
     "output_type": "execute_result"
    }
   ],
   "source": [
    "df[\"label_path\"] = df[\"chip_id\"].apply(lambda x: f\"{label_dir}/{x}.tif\")\n",
    "\n",
    "folds = [0, 1, 2, 3, 4] * (len(df) // 5 + 1)\n",
    "folds = folds[:len(df)]\n",
    "\n",
    "seed = 11111\n",
    "np.random.seed(seed)\n",
    "np.random.shuffle(folds)\n",
    "df[\"fold\"] = folds\n",
    "\n",
    "df[\"label_path\"] = df[\"label_path\"].apply(lambda x: x.replace(\".tif\", \"_improved_weakly.tif\") if os.path.exists(x.replace(\".tif\", \"_improved_weakly.tif\")) else x)\n",
    "df[\"label_path\"] = df[\"label_path\"].apply(lambda x: x.replace(\".tif\", \"_improved.tif\") if os.path.exists(x.replace(\".tif\", \"_improved.tif\")) else x)\n",
    "df[\"label_path\"].apply(lambda x: os.path.exists(x)).sum()"
   ]
  },
  {
   "cell_type": "code",
   "execution_count": 92,
   "id": "attempted-december",
   "metadata": {
    "ExecuteTime": {
     "end_time": "2022-01-27T21:13:49.068628Z",
     "start_time": "2022-01-27T21:13:49.005913Z"
    }
   },
   "outputs": [
    {
     "data": {
      "text/plain": [
       "5322     data/train_labels/mbhf_improved_weakly.tif\n",
       "7283     data/train_labels/razr_improved_weakly.tif\n",
       "443      data/train_labels/aqek_improved_weakly.tif\n",
       "7988            data/train_labels/snal_improved.tif\n",
       "11318    data/train_labels/yuig_improved_weakly.tif\n",
       "2790     data/train_labels/exvn_improved_weakly.tif\n",
       "11074    data/train_labels/yknh_improved_weakly.tif\n",
       "11535    data/train_labels/zaub_improved_weakly.tif\n",
       "4968                     data/train_labels/lpvc.tif\n",
       "3093     data/train_labels/ghcp_improved_weakly.tif\n",
       "Name: label_path, dtype: object"
      ]
     },
     "execution_count": 92,
     "metadata": {},
     "output_type": "execute_result"
    }
   ],
   "source": [
    "df[\"label_path\"].sample(10)"
   ]
  },
  {
   "cell_type": "code",
   "execution_count": 93,
   "id": "burning-profile",
   "metadata": {
    "ExecuteTime": {
     "end_time": "2022-01-27T21:13:52.380125Z",
     "start_time": "2022-01-27T21:13:52.317614Z"
    }
   },
   "outputs": [],
   "source": [
    "counts = df[\"location\"].value_counts().reset_index()\n",
    "# counts"
   ]
  },
  {
   "cell_type": "code",
   "execution_count": 94,
   "id": "liked-there",
   "metadata": {
    "ExecuteTime": {
     "end_time": "2022-01-27T21:13:52.644922Z",
     "start_time": "2022-01-27T21:13:52.480682Z"
    },
    "scrolled": true
   },
   "outputs": [
    {
     "name": "stdout",
     "output_type": "stream",
     "text": [
      "Setting Chifunfu                       to 1.0\n",
      "Setting Timbuktu                       to 1.0\n",
      "Setting Chingola                       to 1.0\n",
      "Setting Lusaka                         to 1.0\n",
      "Setting Bambesa                        to 1.0\n",
      "Setting South America - Brazil         to 1.0\n",
      "Setting Canary Islands                 to 1.0\n",
      "Setting Port Gentil                    to 1.0\n",
      "Setting Uganda                         to 1.0\n",
      "Setting Australia - Central            to 1.0\n",
      "Setting Malabo                         to 1.0\n",
      "Setting Jimma                          to 1.0\n",
      "Setting Pibor                          to 1.0\n",
      "Setting South America - Suriname       to 1.0\n",
      "Setting Isiro                          to 1.0\n",
      "Setting San Lorenzo                    to 1.0\n",
      "Setting Eswatini                       to 1.0\n",
      "Setting Riobamba                       to 1.0\n",
      "Setting South America - Peru           to 1.0\n",
      "Setting Porto Velho                    to 1.0\n",
      "Setting Australia - North West         to 1.0\n",
      "Setting Matadi                         to 1.0\n",
      "Setting Paijan                         to 1.0\n",
      "Setting Lodwar                         to 1.0\n",
      "Setting Georgetown                     to 1.0\n",
      "Setting Macapa                         to 1.0\n",
      "Setting Para                           to 1.0\n",
      "Setting Manaus                         to 1.0\n",
      "Setting Bahir Dar                      to 1.0\n",
      "Setting Ethiopia                       to 1.0\n",
      "Setting Eritrea                        to 1.0\n",
      "Setting Nairobi                        to 1.0\n",
      "Setting Malemba Nkulu                  to 1.0\n",
      "Setting Bor                            to 1.0\n",
      "Setting Kolwezi                        to 1.0\n",
      "Setting Harare                         to 1.0\n",
      "Setting Ghana                          to 1.0\n",
      "Setting Mahajanga                      to 1.0\n",
      "Setting Madagascar                     to 1.0\n",
      "Setting Senanga                        to 1.0\n",
      "Setting Juba                           to 1.0\n",
      "Setting Monongue                       to 1.0\n",
      "Setting Santa Cruz de la Sierra        to 1.0\n",
      "Setting Kalamie                        to 1.0\n",
      "Setting Bechar                         to 1.0\n",
      "Setting Vitoria                        to 1.0\n",
      "Setting Cabo Verdo                     to 1.0\n",
      "Setting Beira                          to 1.0\n",
      "Setting Kimberley                      to 1.0\n",
      "Setting Chibemba                       to 1.0\n",
      "Setting Alexander Bay                  to 1.0\n",
      "Setting Addis Ababa                    to 1.0\n",
      "Setting Tunis                          to 1.0\n",
      "Setting Australia - Central West       to 1.0\n",
      "Setting Rio Branco                     to 1.0\n",
      "Setting Santa Fe                       to 1.0\n",
      "Setting Port Augusta                   to 1.0\n",
      "Setting Santa Cruz do Sul              to 1.0\n",
      "Setting Rustenburg                     to 1.0\n",
      "Setting Bunbury                        to 1.0\n",
      "Setting Asmara nort                    to 1.0\n",
      "Setting Adelaide                       to 1.0\n",
      "Setting San Sabastian de La Gomera     to 1.0\n",
      "Setting Cordoba                        to 1.0\n",
      "Setting Adi Ramets                     to 1.0\n",
      "Setting Launceston                     to 1.0\n",
      "Setting South America - Argentina      to 1.0\n",
      "Setting South Africa                   to 1.0\n",
      "Setting Angola                         to 1.0\n",
      "Setting DRC                            to 1.0\n",
      "Setting Paraguay                       to 1.0\n",
      "Setting Malawi                         to 1.0\n",
      "Setting Sierra Leone                   to 1.0\n",
      "Setting Kenya                          to 1.0\n",
      "Setting Ecuador                        to 1.0\n",
      "Setting Alto Hama                      to 1.0\n",
      "Setting Sudan                          to 1.0\n",
      "Setting Gabon                          to 1.0\n",
      "Setting Sfax                           to 1.0\n",
      "Setting Morocco                        to 1.0\n",
      "Setting Angkor Wat                     to 1.0\n"
     ]
    }
   ],
   "source": [
    "df[\"weight\"] = 1\n",
    "power = 0.0\n",
    "max_ = counts[\"location\"].max()\n",
    "for idx, row in counts.iterrows():\n",
    "    df.loc[df[\"location\"]==row[\"index\"], \"weight\"] *= (max_ / row[\"location\"]) ** power\n",
    "    print(f\"Setting {row['index']:30} to {(max_ / row['location']) ** power:.1f}\")"
   ]
  },
  {
   "cell_type": "code",
   "execution_count": 95,
   "id": "bottom-butterfly",
   "metadata": {
    "ExecuteTime": {
     "end_time": "2022-01-27T21:13:58.367260Z",
     "start_time": "2022-01-27T21:13:58.287872Z"
    },
    "scrolled": true
   },
   "outputs": [],
   "source": [
    "df.to_pickle(\"data/trainval_2022_01_27.pkl\")"
   ]
  },
  {
   "cell_type": "code",
   "execution_count": 5,
   "id": "neural-sociology",
   "metadata": {
    "ExecuteTime": {
     "end_time": "2022-02-05T22:12:51.981152Z",
     "start_time": "2022-02-05T22:12:51.899845Z"
    }
   },
   "outputs": [
    {
     "data": {
      "text/plain": [
       "11735"
      ]
     },
     "execution_count": 5,
     "metadata": {},
     "output_type": "execute_result"
    }
   ],
   "source": [
    "df[\"label_path\"].apply(lambda x: os.path.exists(x)).sum()"
   ]
  },
  {
   "cell_type": "code",
   "execution_count": 6,
   "id": "endless-toilet",
   "metadata": {
    "ExecuteTime": {
     "end_time": "2022-02-05T22:12:54.054796Z",
     "start_time": "2022-02-05T22:12:53.967341Z"
    }
   },
   "outputs": [
    {
     "data": {
      "text/plain": [
       "11748"
      ]
     },
     "execution_count": 6,
     "metadata": {},
     "output_type": "execute_result"
    }
   ],
   "source": [
    "df[\"label_path\"] = df[\"label_path\"].apply(lambda x: x if os.path.exists(x) else x.replace(\"_improved.tif\", \".tif\"))\n",
    "df[\"label_path\"].apply(lambda x: os.path.exists(x)).sum()"
   ]
  },
  {
   "cell_type": "code",
   "execution_count": 7,
   "id": "complete-nickname",
   "metadata": {
    "ExecuteTime": {
     "end_time": "2022-02-05T22:13:09.213312Z",
     "start_time": "2022-02-05T22:13:09.178354Z"
    }
   },
   "outputs": [],
   "source": [
    "df.to_pickle(\"data/trainval_2022_02_05.pkl\")"
   ]
  },
  {
   "cell_type": "markdown",
   "id": "vulnerable-clinic",
   "metadata": {},
   "source": [
    "# Train"
   ]
  },
  {
   "cell_type": "code",
   "execution_count": 2,
   "id": "contrary-forward",
   "metadata": {
    "ExecuteTime": {
     "end_time": "2022-02-06T05:44:16.942884Z",
     "start_time": "2022-02-05T23:24:01.734848Z"
    },
    "scrolled": true
   },
   "outputs": [
    {
     "name": "stderr",
     "output_type": "stream",
     "text": [
      "05-Feb-22 23:24:01 - Training with 1 GPUS\n"
     ]
    },
    {
     "name": "stdout",
     "output_type": "stream",
     "text": [
      "Train Data Augmentations: [RandomCrop(always_apply=False, p=1.0, height=384, width=384)]\n",
      "Train Image Data Augmentations: []\n",
      "####################################################################################################\n",
      "####################################################################################################\n",
      "Fold 0 --> Train: 9398, Val: 2350\n",
      "####################################################################################################\n",
      "Last 5 sample weights: [1.0, 1.0, 1.0, 1.0, 1.0]\n",
      "unet timm-efficientnet-b1 noisy-student BatchNorm: True Decoder Channel: [256, 128, 64, 32, 16], Decoder Attention Type: None\n"
     ]
    },
    {
     "name": "stderr",
     "output_type": "stream",
     "text": [
      "05-Feb-22 23:24:03 - Training is done with mixed precision\n",
      "05-Feb-22 23:25:16 - Ep: [1] TotalT: 1.2 min, BatchT: 0.292s, DataT: 0.003s, GpuDaT: 0.002s, Loss: 0.1407\n",
      "05-Feb-22 23:25:30 - Ep: [1]  ValT: 0.23 min, BatchT: 0.183s, DataT: 0.015s, Loss: 0.0553, IoU: 0.9376 (val)\n",
      "05-Feb-22 23:26:38 - Ep: [2] TotalT: 2.6 min, BatchT: 0.271s, DataT: 0.003s, GpuDaT: 0.002s, Loss: 0.0498\n",
      "05-Feb-22 23:26:48 - Ep: [2]  ValT: 0.17 min, BatchT: 0.141s, DataT: 0.015s, Loss: 0.0373, IoU: 0.9478 (val)\n",
      "05-Feb-22 23:27:57 - Ep: [3] TotalT: 3.9 min, BatchT: 0.270s, DataT: 0.004s, GpuDaT: 0.002s, Loss: 0.0373\n",
      "05-Feb-22 23:28:06 - Ep: [3]  ValT: 0.16 min, BatchT: 0.133s, DataT: 0.012s, Loss: 0.0298, IoU: 0.9542 (val)\n",
      "05-Feb-22 23:29:15 - Ep: [4] TotalT: 5.2 min, BatchT: 0.271s, DataT: 0.003s, GpuDaT: 0.002s, Loss: 0.0321\n",
      "05-Feb-22 23:29:25 - Ep: [4]  ValT: 0.16 min, BatchT: 0.133s, DataT: 0.013s, Loss: 0.0268, IoU: 0.9572 (val)\n",
      "05-Feb-22 23:30:32 - Ep: [5] TotalT: 6.5 min, BatchT: 0.269s, DataT: 0.003s, GpuDaT: 0.002s, Loss: 0.0286\n",
      "05-Feb-22 23:30:43 - Ep: [5]  ValT: 0.17 min, BatchT: 0.139s, DataT: 0.015s, Loss: 0.0251, IoU: 0.9583 (val)\n",
      "05-Feb-22 23:31:51 - Ep: [6] TotalT: 7.8 min, BatchT: 0.270s, DataT: 0.003s, GpuDaT: 0.002s, Loss: 0.0249\n",
      "05-Feb-22 23:32:01 - Ep: [6]  ValT: 0.17 min, BatchT: 0.136s, DataT: 0.013s, Loss: 0.0233, IoU: 0.9609 (val)\n",
      "05-Feb-22 23:33:09 - Ep: [7] TotalT: 9.1 min, BatchT: 0.271s, DataT: 0.004s, GpuDaT: 0.002s, Loss: 0.0238\n",
      "05-Feb-22 23:33:19 - Ep: [7]  ValT: 0.17 min, BatchT: 0.137s, DataT: 0.016s, Loss: 0.0225, IoU: 0.9617 (val)\n",
      "05-Feb-22 23:34:27 - Ep: [8] TotalT: 10.4 min, BatchT: 0.270s, DataT: 0.003s, GpuDaT: 0.002s, Loss: 0.0222\n",
      "05-Feb-22 23:34:38 - Ep: [8]  ValT: 0.17 min, BatchT: 0.139s, DataT: 0.014s, Loss: 0.0213, IoU: 0.9630 (val)\n",
      "05-Feb-22 23:35:47 - Ep: [9] TotalT: 11.7 min, BatchT: 0.273s, DataT: 0.003s, GpuDaT: 0.002s, Loss: 0.0208\n",
      "05-Feb-22 23:35:57 - Ep: [9]  ValT: 0.17 min, BatchT: 0.136s, DataT: 0.013s, Loss: 0.0199, IoU: 0.9652 (val)\n",
      "05-Feb-22 23:37:05 - Ep: [10] TotalT: 13.0 min, BatchT: 0.271s, DataT: 0.003s, GpuDaT: 0.002s, Loss: 0.0202\n",
      "05-Feb-22 23:37:16 - Ep: [10]  ValT: 0.18 min, BatchT: 0.146s, DataT: 0.016s, Loss: 0.0197, IoU: 0.9655 (val)\n",
      "05-Feb-22 23:38:25 - Ep: [11] TotalT: 14.4 min, BatchT: 0.273s, DataT: 0.004s, GpuDaT: 0.002s, Loss: 0.0194\n",
      "05-Feb-22 23:38:35 - Ep: [11]  ValT: 0.17 min, BatchT: 0.138s, DataT: 0.015s, Loss: 0.0194, IoU: 0.9659 (val)\n",
      "05-Feb-22 23:39:44 - Ep: [12] TotalT: 15.7 min, BatchT: 0.272s, DataT: 0.004s, GpuDaT: 0.002s, Loss: 0.0186\n",
      "05-Feb-22 23:39:54 - Ep: [12]  ValT: 0.17 min, BatchT: 0.139s, DataT: 0.013s, Loss: 0.0188, IoU: 0.9667 (val)\n",
      "05-Feb-22 23:41:03 - Ep: [13] TotalT: 17.0 min, BatchT: 0.274s, DataT: 0.004s, GpuDaT: 0.002s, Loss: 0.0179\n",
      "05-Feb-22 23:41:14 - Ep: [13]  ValT: 0.18 min, BatchT: 0.143s, DataT: 0.015s, Loss: 0.0187, IoU: 0.9669 (val)\n",
      "05-Feb-22 23:42:22 - Ep: [14] TotalT: 18.3 min, BatchT: 0.273s, DataT: 0.003s, GpuDaT: 0.002s, Loss: 0.0178\n",
      "05-Feb-22 23:42:33 - Ep: [14]  ValT: 0.17 min, BatchT: 0.139s, DataT: 0.015s, Loss: 0.0174, IoU: 0.9689 (val)\n",
      "05-Feb-22 23:43:41 - Ep: [15] TotalT: 19.6 min, BatchT: 0.270s, DataT: 0.003s, GpuDaT: 0.002s, Loss: 0.0180\n",
      "05-Feb-22 23:43:51 - Ep: [15]  ValT: 0.17 min, BatchT: 0.134s, DataT: 0.012s, Loss: 0.0186, IoU: 0.9665 (val)\n",
      "05-Feb-22 23:44:59 - Ep: [16] TotalT: 20.9 min, BatchT: 0.272s, DataT: 0.004s, GpuDaT: 0.002s, Loss: 0.0173\n",
      "05-Feb-22 23:45:10 - Ep: [16]  ValT: 0.17 min, BatchT: 0.137s, DataT: 0.014s, Loss: 0.0179, IoU: 0.9678 (val)\n",
      "05-Feb-22 23:46:18 - Ep: [17] TotalT: 22.3 min, BatchT: 0.270s, DataT: 0.003s, GpuDaT: 0.002s, Loss: 0.0176\n",
      "05-Feb-22 23:46:28 - Ep: [17]  ValT: 0.17 min, BatchT: 0.140s, DataT: 0.015s, Loss: 0.0195, IoU: 0.9649 (val)\n",
      "05-Feb-22 23:47:36 - Ep: [18] TotalT: 23.6 min, BatchT: 0.270s, DataT: 0.003s, GpuDaT: 0.002s, Loss: 0.0171\n",
      "05-Feb-22 23:47:46 - Ep: [18]  ValT: 0.17 min, BatchT: 0.137s, DataT: 0.013s, Loss: 0.0164, IoU: 0.9706 (val)\n",
      "05-Feb-22 23:48:55 - Ep: [19] TotalT: 24.9 min, BatchT: 0.273s, DataT: 0.004s, GpuDaT: 0.002s, Loss: 0.0158\n",
      "05-Feb-22 23:49:05 - Ep: [19]  ValT: 0.17 min, BatchT: 0.135s, DataT: 0.014s, Loss: 0.0162, IoU: 0.9708 (val)\n",
      "05-Feb-22 23:50:13 - Ep: [20] TotalT: 26.2 min, BatchT: 0.270s, DataT: 0.003s, GpuDaT: 0.002s, Loss: 0.0165\n",
      "05-Feb-22 23:50:23 - Ep: [20]  ValT: 0.17 min, BatchT: 0.136s, DataT: 0.015s, Loss: 0.0162, IoU: 0.9708 (val)\n",
      "05-Feb-22 23:51:31 - Ep: [21] TotalT: 27.5 min, BatchT: 0.270s, DataT: 0.003s, GpuDaT: 0.002s, Loss: 0.0153\n",
      "05-Feb-22 23:51:41 - Ep: [21]  ValT: 0.16 min, BatchT: 0.132s, DataT: 0.012s, Loss: 0.0173, IoU: 0.9689 (val)\n",
      "05-Feb-22 23:52:49 - Ep: [22] TotalT: 28.8 min, BatchT: 0.269s, DataT: 0.003s, GpuDaT: 0.002s, Loss: 0.0149\n",
      "05-Feb-22 23:53:00 - Ep: [22]  ValT: 0.18 min, BatchT: 0.146s, DataT: 0.017s, Loss: 0.0151, IoU: 0.9727 (val)\n",
      "05-Feb-22 23:54:09 - Ep: [23] TotalT: 30.1 min, BatchT: 0.274s, DataT: 0.004s, GpuDaT: 0.002s, Loss: 0.0149\n",
      "05-Feb-22 23:54:19 - Ep: [23]  ValT: 0.17 min, BatchT: 0.137s, DataT: 0.012s, Loss: 0.0156, IoU: 0.9715 (val)\n",
      "05-Feb-22 23:55:27 - Ep: [24] TotalT: 31.4 min, BatchT: 0.272s, DataT: 0.003s, GpuDaT: 0.002s, Loss: 0.0145\n",
      "05-Feb-22 23:55:37 - Ep: [24]  ValT: 0.17 min, BatchT: 0.136s, DataT: 0.013s, Loss: 0.0154, IoU: 0.9720 (val)\n",
      "05-Feb-22 23:56:46 - Ep: [25] TotalT: 32.7 min, BatchT: 0.272s, DataT: 0.003s, GpuDaT: 0.002s, Loss: 0.0148\n",
      "05-Feb-22 23:56:56 - Ep: [25]  ValT: 0.17 min, BatchT: 0.141s, DataT: 0.015s, Loss: 0.0150, IoU: 0.9727 (val)\n",
      "05-Feb-22 23:58:05 - Ep: [26] TotalT: 34.0 min, BatchT: 0.273s, DataT: 0.004s, GpuDaT: 0.002s, Loss: 0.0146\n",
      "05-Feb-22 23:58:16 - Ep: [26]  ValT: 0.18 min, BatchT: 0.144s, DataT: 0.017s, Loss: 0.0158, IoU: 0.9712 (val)\n",
      "05-Feb-22 23:59:24 - Ep: [27] TotalT: 35.4 min, BatchT: 0.272s, DataT: 0.004s, GpuDaT: 0.002s, Loss: 0.0140\n",
      "05-Feb-22 23:59:36 - Ep: [27]  ValT: 0.19 min, BatchT: 0.153s, DataT: 0.026s, Loss: 0.0143, IoU: 0.9739 (val)\n",
      "06-Feb-22 00:00:44 - Ep: [28] TotalT: 36.7 min, BatchT: 0.272s, DataT: 0.003s, GpuDaT: 0.002s, Loss: 0.0139\n",
      "06-Feb-22 00:00:55 - Ep: [28]  ValT: 0.18 min, BatchT: 0.146s, DataT: 0.018s, Loss: 0.0152, IoU: 0.9720 (val)\n",
      "06-Feb-22 00:00:55 - LR was reduced to 5.0000e-05\n"
     ]
    },
    {
     "name": "stdout",
     "output_type": "stream",
     "text": [
      "Epoch    22: reducing learning rate of group 0 to 5.0000e-05.\n"
     ]
    },
    {
     "name": "stderr",
     "output_type": "stream",
     "text": [
      "06-Feb-22 00:02:04 - Ep: [29] TotalT: 38.0 min, BatchT: 0.273s, DataT: 0.004s, GpuDaT: 0.002s, Loss: 0.0131\n",
      "06-Feb-22 00:02:14 - Ep: [29]  ValT: 0.17 min, BatchT: 0.136s, DataT: 0.015s, Loss: 0.0150, IoU: 0.9724 (val)\n",
      "06-Feb-22 00:03:22 - Ep: [30] TotalT: 39.3 min, BatchT: 0.271s, DataT: 0.003s, GpuDaT: 0.002s, Loss: 0.0128\n",
      "06-Feb-22 00:03:32 - Ep: [30]  ValT: 0.17 min, BatchT: 0.136s, DataT: 0.013s, Loss: 0.0145, IoU: 0.9735 (val)\n",
      "06-Feb-22 00:04:41 - Ep: [31] TotalT: 40.6 min, BatchT: 0.273s, DataT: 0.003s, GpuDaT: 0.002s, Loss: 0.0125\n",
      "06-Feb-22 00:04:51 - Ep: [31]  ValT: 0.17 min, BatchT: 0.136s, DataT: 0.013s, Loss: 0.0150, IoU: 0.9724 (val)\n",
      "06-Feb-22 00:05:59 - Ep: [32] TotalT: 41.9 min, BatchT: 0.270s, DataT: 0.003s, GpuDaT: 0.002s, Loss: 0.0127\n",
      "06-Feb-22 00:06:09 - Ep: [32]  ValT: 0.17 min, BatchT: 0.139s, DataT: 0.014s, Loss: 0.0145, IoU: 0.9735 (val)\n",
      "06-Feb-22 00:07:17 - Ep: [33] TotalT: 43.2 min, BatchT: 0.270s, DataT: 0.003s, GpuDaT: 0.002s, Loss: 0.0127\n",
      "06-Feb-22 00:07:27 - Ep: [33]  ValT: 0.17 min, BatchT: 0.135s, DataT: 0.013s, Loss: 0.0148, IoU: 0.9729 (val)\n",
      "06-Feb-22 00:08:35 - Ep: [34] TotalT: 44.5 min, BatchT: 0.270s, DataT: 0.003s, GpuDaT: 0.002s, Loss: 0.0126\n",
      "06-Feb-22 00:08:45 - Ep: [34]  ValT: 0.17 min, BatchT: 0.138s, DataT: 0.014s, Loss: 0.0145, IoU: 0.9735 (val)\n",
      "06-Feb-22 00:08:45 - LR was reduced to 2.5000e-05\n"
     ]
    },
    {
     "name": "stdout",
     "output_type": "stream",
     "text": [
      "Epoch    28: reducing learning rate of group 0 to 2.5000e-05.\n"
     ]
    },
    {
     "name": "stderr",
     "output_type": "stream",
     "text": [
      "06-Feb-22 00:09:54 - Ep: [35] TotalT: 45.9 min, BatchT: 0.273s, DataT: 0.003s, GpuDaT: 0.002s, Loss: 0.0123\n",
      "06-Feb-22 00:10:05 - Ep: [35]  ValT: 0.18 min, BatchT: 0.146s, DataT: 0.017s, Loss: 0.0141, IoU: 0.9741 (val)\n",
      "06-Feb-22 00:11:14 - Ep: [36] TotalT: 47.2 min, BatchT: 0.273s, DataT: 0.004s, GpuDaT: 0.003s, Loss: 0.0116\n",
      "06-Feb-22 00:11:24 - Ep: [36]  ValT: 0.17 min, BatchT: 0.138s, DataT: 0.014s, Loss: 0.0139, IoU: 0.9746 (val)\n",
      "06-Feb-22 00:12:32 - Ep: [37] TotalT: 48.5 min, BatchT: 0.272s, DataT: 0.003s, GpuDaT: 0.002s, Loss: 0.0124\n",
      "06-Feb-22 00:12:43 - Ep: [37]  ValT: 0.17 min, BatchT: 0.137s, DataT: 0.012s, Loss: 0.0140, IoU: 0.9742 (val)\n",
      "06-Feb-22 00:13:51 - Ep: [38] TotalT: 49.8 min, BatchT: 0.272s, DataT: 0.003s, GpuDaT: 0.002s, Loss: 0.0117\n",
      "06-Feb-22 00:14:02 - Ep: [38]  ValT: 0.17 min, BatchT: 0.140s, DataT: 0.012s, Loss: 0.0138, IoU: 0.9747 (val)\n",
      "06-Feb-22 00:15:11 - Ep: [39] TotalT: 51.1 min, BatchT: 0.274s, DataT: 0.004s, GpuDaT: 0.003s, Loss: 0.0116\n",
      "06-Feb-22 00:15:21 - Ep: [39]  ValT: 0.18 min, BatchT: 0.143s, DataT: 0.017s, Loss: 0.0136, IoU: 0.9750 (val)\n",
      "06-Feb-22 00:16:30 - Ep: [40] TotalT: 52.5 min, BatchT: 0.272s, DataT: 0.003s, GpuDaT: 0.002s, Loss: 0.0120\n",
      "06-Feb-22 00:16:40 - Ep: [40]  ValT: 0.16 min, BatchT: 0.133s, DataT: 0.011s, Loss: 0.0138, IoU: 0.9746 (val)\n",
      "06-Feb-22 00:17:48 - Ep: [41] TotalT: 53.8 min, BatchT: 0.272s, DataT: 0.003s, GpuDaT: 0.002s, Loss: 0.0119\n",
      "06-Feb-22 00:17:58 - Ep: [41]  ValT: 0.17 min, BatchT: 0.136s, DataT: 0.011s, Loss: 0.0139, IoU: 0.9743 (val)\n",
      "06-Feb-22 00:19:07 - Ep: [42] TotalT: 55.1 min, BatchT: 0.274s, DataT: 0.003s, GpuDaT: 0.002s, Loss: 0.0118\n",
      "06-Feb-22 00:19:18 - Ep: [42]  ValT: 0.18 min, BatchT: 0.145s, DataT: 0.018s, Loss: 0.0139, IoU: 0.9745 (val)\n",
      "06-Feb-22 00:19:18 - LR was reduced to 1.2500e-05\n"
     ]
    },
    {
     "name": "stdout",
     "output_type": "stream",
     "text": [
      "Epoch    36: reducing learning rate of group 0 to 1.2500e-05.\n"
     ]
    },
    {
     "name": "stderr",
     "output_type": "stream",
     "text": [
      "06-Feb-22 00:20:26 - Ep: [43] TotalT: 56.4 min, BatchT: 0.272s, DataT: 0.004s, GpuDaT: 0.002s, Loss: 0.0119\n",
      "06-Feb-22 00:20:36 - Ep: [43]  ValT: 0.17 min, BatchT: 0.135s, DataT: 0.013s, Loss: 0.0140, IoU: 0.9743 (val)\n",
      "06-Feb-22 00:21:45 - Ep: [44] TotalT: 57.7 min, BatchT: 0.271s, DataT: 0.003s, GpuDaT: 0.002s, Loss: 0.0115\n",
      "06-Feb-22 00:21:55 - Ep: [44]  ValT: 0.17 min, BatchT: 0.140s, DataT: 0.018s, Loss: 0.0139, IoU: 0.9745 (val)\n",
      "06-Feb-22 00:23:03 - Ep: [45] TotalT: 59.0 min, BatchT: 0.272s, DataT: 0.003s, GpuDaT: 0.002s, Loss: 0.0116\n",
      "06-Feb-22 00:23:14 - Ep: [45]  ValT: 0.17 min, BatchT: 0.138s, DataT: 0.013s, Loss: 0.0138, IoU: 0.9745 (val)\n",
      "06-Feb-22 00:24:22 - Ep: [46] TotalT: 60.3 min, BatchT: 0.271s, DataT: 0.003s, GpuDaT: 0.002s, Loss: 0.0113\n",
      "06-Feb-22 00:24:33 - Ep: [46]  ValT: 0.18 min, BatchT: 0.142s, DataT: 0.015s, Loss: 0.0136, IoU: 0.9749 (val)\n",
      "06-Feb-22 00:25:41 - Ep: [47] TotalT: 61.6 min, BatchT: 0.274s, DataT: 0.004s, GpuDaT: 0.003s, Loss: 0.0117\n",
      "06-Feb-22 00:25:52 - Ep: [47]  ValT: 0.17 min, BatchT: 0.140s, DataT: 0.014s, Loss: 0.0137, IoU: 0.9747 (val)\n",
      "06-Feb-22 00:27:01 - Ep: [48] TotalT: 63.0 min, BatchT: 0.275s, DataT: 0.004s, GpuDaT: 0.002s, Loss: 0.0116\n",
      "06-Feb-22 00:27:11 - Ep: [48]  ValT: 0.17 min, BatchT: 0.138s, DataT: 0.015s, Loss: 0.0138, IoU: 0.9745 (val)\n",
      "06-Feb-22 00:27:11 - LR was reduced to 6.2500e-06\n"
     ]
    },
    {
     "name": "stdout",
     "output_type": "stream",
     "text": [
      "Epoch    42: reducing learning rate of group 0 to 6.2500e-06.\n"
     ]
    },
    {
     "name": "stderr",
     "output_type": "stream",
     "text": [
      "06-Feb-22 00:28:20 - Ep: [49] TotalT: 64.3 min, BatchT: 0.273s, DataT: 0.004s, GpuDaT: 0.002s, Loss: 0.0112\n",
      "06-Feb-22 00:28:31 - Ep: [49]  ValT: 0.17 min, BatchT: 0.141s, DataT: 0.013s, Loss: 0.0137, IoU: 0.9748 (val)\n",
      "06-Feb-22 00:29:39 - Ep: [50] TotalT: 65.6 min, BatchT: 0.274s, DataT: 0.004s, GpuDaT: 0.003s, Loss: 0.0115\n",
      "06-Feb-22 00:29:50 - Ep: [50]  ValT: 0.18 min, BatchT: 0.142s, DataT: 0.017s, Loss: 0.0137, IoU: 0.9747 (val)\n",
      "06-Feb-22 00:30:58 - Ep: [51] TotalT: 66.9 min, BatchT: 0.271s, DataT: 0.003s, GpuDaT: 0.002s, Loss: 0.0114\n",
      "06-Feb-22 00:31:08 - Ep: [51]  ValT: 0.16 min, BatchT: 0.132s, DataT: 0.012s, Loss: 0.0137, IoU: 0.9747 (val)\n",
      "06-Feb-22 00:32:17 - Ep: [52] TotalT: 68.2 min, BatchT: 0.272s, DataT: 0.004s, GpuDaT: 0.002s, Loss: 0.0110\n",
      "06-Feb-22 00:32:27 - Ep: [52]  ValT: 0.18 min, BatchT: 0.142s, DataT: 0.018s, Loss: 0.0137, IoU: 0.9748 (val)\n",
      "06-Feb-22 00:32:27 - Early Stopping\n",
      "06-Feb-22 00:32:27 - Best validation combination metric of 0.97501 in epoch 39.\n",
      "06-Feb-22 00:32:28 - Training with 1 GPUS\n",
      "06-Feb-22 00:32:28 - Training is done with mixed precision\n"
     ]
    },
    {
     "name": "stdout",
     "output_type": "stream",
     "text": [
      "Train Data Augmentations: [RandomCrop(always_apply=False, p=1.0, height=384, width=384)]\n",
      "Train Image Data Augmentations: []\n",
      "####################################################################################################\n",
      "####################################################################################################\n",
      "Fold 1 --> Train: 9398, Val: 2350\n",
      "####################################################################################################\n",
      "Last 5 sample weights: [1.0, 1.0, 1.0, 1.0, 1.0]\n",
      "unet timm-efficientnet-b1 noisy-student BatchNorm: True Decoder Channel: [256, 128, 64, 32, 16], Decoder Attention Type: None\n"
     ]
    },
    {
     "name": "stderr",
     "output_type": "stream",
     "text": [
      "06-Feb-22 00:33:35 - Ep: [1] TotalT: 1.1 min, BatchT: 0.268s, DataT: 0.003s, GpuDaT: 0.002s, Loss: 0.1252\n",
      "06-Feb-22 00:33:45 - Ep: [1]  ValT: 0.17 min, BatchT: 0.137s, DataT: 0.012s, Loss: 0.0540, IoU: 0.9406 (val)\n",
      "06-Feb-22 00:34:53 - Ep: [2] TotalT: 2.4 min, BatchT: 0.269s, DataT: 0.004s, GpuDaT: 0.002s, Loss: 0.0476\n",
      "06-Feb-22 00:35:04 - Ep: [2]  ValT: 0.18 min, BatchT: 0.143s, DataT: 0.018s, Loss: 0.0357, IoU: 0.9519 (val)\n",
      "06-Feb-22 00:36:11 - Ep: [3] TotalT: 3.7 min, BatchT: 0.268s, DataT: 0.003s, GpuDaT: 0.002s, Loss: 0.0370\n",
      "06-Feb-22 00:36:21 - Ep: [3]  ValT: 0.16 min, BatchT: 0.133s, DataT: 0.013s, Loss: 0.0300, IoU: 0.9556 (val)\n",
      "06-Feb-22 00:37:29 - Ep: [4] TotalT: 5.0 min, BatchT: 0.268s, DataT: 0.003s, GpuDaT: 0.002s, Loss: 0.0322\n",
      "06-Feb-22 00:37:39 - Ep: [4]  ValT: 0.17 min, BatchT: 0.134s, DataT: 0.014s, Loss: 0.0267, IoU: 0.9585 (val)\n",
      "06-Feb-22 00:38:46 - Ep: [5] TotalT: 6.3 min, BatchT: 0.269s, DataT: 0.003s, GpuDaT: 0.002s, Loss: 0.0283\n",
      "06-Feb-22 00:38:57 - Ep: [5]  ValT: 0.17 min, BatchT: 0.138s, DataT: 0.015s, Loss: 0.0240, IoU: 0.9616 (val)\n",
      "06-Feb-22 00:40:05 - Ep: [6] TotalT: 7.6 min, BatchT: 0.271s, DataT: 0.003s, GpuDaT: 0.002s, Loss: 0.0253\n",
      "06-Feb-22 00:40:16 - Ep: [6]  ValT: 0.17 min, BatchT: 0.142s, DataT: 0.015s, Loss: 0.0227, IoU: 0.9631 (val)\n",
      "06-Feb-22 00:41:24 - Ep: [7] TotalT: 8.9 min, BatchT: 0.269s, DataT: 0.003s, GpuDaT: 0.002s, Loss: 0.0241\n",
      "06-Feb-22 00:41:34 - Ep: [7]  ValT: 0.17 min, BatchT: 0.135s, DataT: 0.013s, Loss: 0.0212, IoU: 0.9650 (val)\n",
      "06-Feb-22 00:42:42 - Ep: [8] TotalT: 10.2 min, BatchT: 0.269s, DataT: 0.003s, GpuDaT: 0.002s, Loss: 0.0223\n",
      "06-Feb-22 00:42:52 - Ep: [8]  ValT: 0.17 min, BatchT: 0.135s, DataT: 0.013s, Loss: 0.0206, IoU: 0.9657 (val)\n",
      "06-Feb-22 00:44:00 - Ep: [9] TotalT: 11.5 min, BatchT: 0.270s, DataT: 0.004s, GpuDaT: 0.002s, Loss: 0.0208\n",
      "06-Feb-22 00:44:10 - Ep: [9]  ValT: 0.17 min, BatchT: 0.142s, DataT: 0.016s, Loss: 0.0202, IoU: 0.9663 (val)\n",
      "06-Feb-22 00:45:18 - Ep: [10] TotalT: 12.8 min, BatchT: 0.269s, DataT: 0.003s, GpuDaT: 0.002s, Loss: 0.0203\n",
      "06-Feb-22 00:45:29 - Ep: [10]  ValT: 0.18 min, BatchT: 0.142s, DataT: 0.018s, Loss: 0.0192, IoU: 0.9679 (val)\n",
      "06-Feb-22 00:46:37 - Ep: [11] TotalT: 14.2 min, BatchT: 0.269s, DataT: 0.003s, GpuDaT: 0.002s, Loss: 0.0199\n",
      "06-Feb-22 00:46:48 - Ep: [11]  ValT: 0.18 min, BatchT: 0.146s, DataT: 0.016s, Loss: 0.0179, IoU: 0.9696 (val)\n",
      "06-Feb-22 00:47:56 - Ep: [12] TotalT: 15.5 min, BatchT: 0.270s, DataT: 0.004s, GpuDaT: 0.002s, Loss: 0.0189\n",
      "06-Feb-22 00:48:06 - Ep: [12]  ValT: 0.17 min, BatchT: 0.134s, DataT: 0.014s, Loss: 0.0172, IoU: 0.9709 (val)\n",
      "06-Feb-22 00:49:14 - Ep: [13] TotalT: 16.8 min, BatchT: 0.270s, DataT: 0.003s, GpuDaT: 0.002s, Loss: 0.0187\n",
      "06-Feb-22 00:49:24 - Ep: [13]  ValT: 0.17 min, BatchT: 0.137s, DataT: 0.014s, Loss: 0.0180, IoU: 0.9695 (val)\n",
      "06-Feb-22 00:50:31 - Ep: [14] TotalT: 18.1 min, BatchT: 0.267s, DataT: 0.003s, GpuDaT: 0.002s, Loss: 0.0183\n",
      "06-Feb-22 00:50:41 - Ep: [14]  ValT: 0.17 min, BatchT: 0.136s, DataT: 0.013s, Loss: 0.0176, IoU: 0.9700 (val)\n",
      "06-Feb-22 00:51:49 - Ep: [15] TotalT: 19.4 min, BatchT: 0.269s, DataT: 0.004s, GpuDaT: 0.002s, Loss: 0.0177\n",
      "06-Feb-22 00:51:59 - Ep: [15]  ValT: 0.16 min, BatchT: 0.132s, DataT: 0.011s, Loss: 0.0164, IoU: 0.9719 (val)\n",
      "06-Feb-22 00:53:06 - Ep: [16] TotalT: 20.6 min, BatchT: 0.268s, DataT: 0.003s, GpuDaT: 0.002s, Loss: 0.0177\n",
      "06-Feb-22 00:53:16 - Ep: [16]  ValT: 0.16 min, BatchT: 0.134s, DataT: 0.012s, Loss: 0.0170, IoU: 0.9710 (val)\n",
      "06-Feb-22 00:54:23 - Ep: [17] TotalT: 21.9 min, BatchT: 0.268s, DataT: 0.003s, GpuDaT: 0.002s, Loss: 0.0180\n",
      "06-Feb-22 00:54:34 - Ep: [17]  ValT: 0.17 min, BatchT: 0.141s, DataT: 0.016s, Loss: 0.0177, IoU: 0.9700 (val)\n",
      "06-Feb-22 00:55:41 - Ep: [18] TotalT: 23.2 min, BatchT: 0.268s, DataT: 0.003s, GpuDaT: 0.002s, Loss: 0.0162\n",
      "06-Feb-22 00:55:51 - Ep: [18]  ValT: 0.17 min, BatchT: 0.135s, DataT: 0.013s, Loss: 0.0163, IoU: 0.9720 (val)\n",
      "06-Feb-22 00:56:59 - Ep: [19] TotalT: 24.5 min, BatchT: 0.270s, DataT: 0.003s, GpuDaT: 0.002s, Loss: 0.0163\n",
      "06-Feb-22 00:57:10 - Ep: [19]  ValT: 0.18 min, BatchT: 0.146s, DataT: 0.018s, Loss: 0.0155, IoU: 0.9734 (val)\n",
      "06-Feb-22 00:58:19 - Ep: [20] TotalT: 25.9 min, BatchT: 0.271s, DataT: 0.004s, GpuDaT: 0.002s, Loss: 0.0154\n",
      "06-Feb-22 00:58:29 - Ep: [20]  ValT: 0.17 min, BatchT: 0.138s, DataT: 0.014s, Loss: 0.0154, IoU: 0.9734 (val)\n",
      "06-Feb-22 00:59:37 - Ep: [21] TotalT: 27.2 min, BatchT: 0.270s, DataT: 0.004s, GpuDaT: 0.002s, Loss: 0.0156\n",
      "06-Feb-22 00:59:48 - Ep: [21]  ValT: 0.18 min, BatchT: 0.146s, DataT: 0.018s, Loss: 0.0152, IoU: 0.9737 (val)\n",
      "06-Feb-22 01:00:56 - Ep: [22] TotalT: 28.5 min, BatchT: 0.271s, DataT: 0.004s, GpuDaT: 0.002s, Loss: 0.0154\n",
      "06-Feb-22 01:01:06 - Ep: [22]  ValT: 0.17 min, BatchT: 0.137s, DataT: 0.013s, Loss: 0.0151, IoU: 0.9741 (val)\n",
      "06-Feb-22 01:02:14 - Ep: [23] TotalT: 29.8 min, BatchT: 0.269s, DataT: 0.003s, GpuDaT: 0.002s, Loss: 0.0150\n",
      "06-Feb-22 01:02:24 - Ep: [23]  ValT: 0.17 min, BatchT: 0.136s, DataT: 0.013s, Loss: 0.0151, IoU: 0.9739 (val)\n",
      "06-Feb-22 01:03:32 - Ep: [24] TotalT: 31.1 min, BatchT: 0.271s, DataT: 0.003s, GpuDaT: 0.002s, Loss: 0.0149\n",
      "06-Feb-22 01:03:43 - Ep: [24]  ValT: 0.17 min, BatchT: 0.142s, DataT: 0.016s, Loss: 0.0154, IoU: 0.9732 (val)\n",
      "06-Feb-22 01:04:50 - Ep: [25] TotalT: 32.4 min, BatchT: 0.269s, DataT: 0.003s, GpuDaT: 0.002s, Loss: 0.0144\n",
      "06-Feb-22 01:05:01 - Ep: [25]  ValT: 0.17 min, BatchT: 0.135s, DataT: 0.012s, Loss: 0.0145, IoU: 0.9747 (val)\n"
     ]
    },
    {
     "name": "stdout",
     "output_type": "stream",
     "text": [
      "Epoch    19: reducing learning rate of group 0 to 5.0000e-05.\n"
     ]
    },
    {
     "name": "stderr",
     "output_type": "stream",
     "text": [
      "06-Feb-22 01:06:08 - Ep: [26] TotalT: 33.7 min, BatchT: 0.269s, DataT: 0.003s, GpuDaT: 0.002s, Loss: 0.0142\n",
      "06-Feb-22 01:06:19 - Ep: [26]  ValT: 0.17 min, BatchT: 0.138s, DataT: 0.018s, Loss: 0.0139, IoU: 0.9759 (val)\n",
      "06-Feb-22 01:07:26 - Ep: [27] TotalT: 35.0 min, BatchT: 0.269s, DataT: 0.003s, GpuDaT: 0.002s, Loss: 0.0141\n",
      "06-Feb-22 01:07:37 - Ep: [27]  ValT: 0.17 min, BatchT: 0.136s, DataT: 0.014s, Loss: 0.0138, IoU: 0.9759 (val)\n",
      "06-Feb-22 01:08:45 - Ep: [28] TotalT: 36.3 min, BatchT: 0.270s, DataT: 0.004s, GpuDaT: 0.002s, Loss: 0.0136\n",
      "06-Feb-22 01:08:55 - Ep: [28]  ValT: 0.17 min, BatchT: 0.138s, DataT: 0.013s, Loss: 0.0137, IoU: 0.9761 (val)\n",
      "06-Feb-22 01:10:03 - Ep: [29] TotalT: 37.6 min, BatchT: 0.268s, DataT: 0.003s, GpuDaT: 0.002s, Loss: 0.0134\n",
      "06-Feb-22 01:10:13 - Ep: [29]  ValT: 0.17 min, BatchT: 0.138s, DataT: 0.014s, Loss: 0.0145, IoU: 0.9748 (val)\n",
      "06-Feb-22 01:11:20 - Ep: [30] TotalT: 38.9 min, BatchT: 0.268s, DataT: 0.004s, GpuDaT: 0.002s, Loss: 0.0132\n",
      "06-Feb-22 01:11:31 - Ep: [30]  ValT: 0.17 min, BatchT: 0.136s, DataT: 0.011s, Loss: 0.0137, IoU: 0.9762 (val)\n",
      "06-Feb-22 01:12:38 - Ep: [31] TotalT: 40.2 min, BatchT: 0.268s, DataT: 0.003s, GpuDaT: 0.002s, Loss: 0.0128\n",
      "06-Feb-22 01:12:48 - Ep: [31]  ValT: 0.17 min, BatchT: 0.137s, DataT: 0.014s, Loss: 0.0136, IoU: 0.9764 (val)\n",
      "06-Feb-22 01:13:56 - Ep: [32] TotalT: 41.5 min, BatchT: 0.268s, DataT: 0.004s, GpuDaT: 0.002s, Loss: 0.0131\n",
      "06-Feb-22 01:14:06 - Ep: [32]  ValT: 0.17 min, BatchT: 0.138s, DataT: 0.014s, Loss: 0.0142, IoU: 0.9750 (val)\n",
      "06-Feb-22 01:14:06 - LR was reduced to 2.5000e-05\n"
     ]
    },
    {
     "name": "stdout",
     "output_type": "stream",
     "text": [
      "Epoch    26: reducing learning rate of group 0 to 2.5000e-05.\n"
     ]
    },
    {
     "name": "stderr",
     "output_type": "stream",
     "text": [
      "06-Feb-22 01:15:14 - Ep: [33] TotalT: 42.8 min, BatchT: 0.271s, DataT: 0.004s, GpuDaT: 0.002s, Loss: 0.0131\n",
      "06-Feb-22 01:15:25 - Ep: [33]  ValT: 0.17 min, BatchT: 0.139s, DataT: 0.015s, Loss: 0.0133, IoU: 0.9767 (val)\n",
      "06-Feb-22 01:16:33 - Ep: [34] TotalT: 44.1 min, BatchT: 0.270s, DataT: 0.003s, GpuDaT: 0.002s, Loss: 0.0127\n",
      "06-Feb-22 01:16:43 - Ep: [34]  ValT: 0.17 min, BatchT: 0.138s, DataT: 0.014s, Loss: 0.0131, IoU: 0.9769 (val)\n",
      "06-Feb-22 01:17:51 - Ep: [35] TotalT: 45.4 min, BatchT: 0.269s, DataT: 0.003s, GpuDaT: 0.002s, Loss: 0.0122\n",
      "06-Feb-22 01:18:01 - Ep: [35]  ValT: 0.17 min, BatchT: 0.138s, DataT: 0.013s, Loss: 0.0132, IoU: 0.9768 (val)\n",
      "06-Feb-22 01:19:09 - Ep: [36] TotalT: 46.7 min, BatchT: 0.271s, DataT: 0.004s, GpuDaT: 0.002s, Loss: 0.0126\n",
      "06-Feb-22 01:19:20 - Ep: [36]  ValT: 0.18 min, BatchT: 0.144s, DataT: 0.017s, Loss: 0.0128, IoU: 0.9776 (val)\n",
      "06-Feb-22 01:20:28 - Ep: [37] TotalT: 48.0 min, BatchT: 0.270s, DataT: 0.004s, GpuDaT: 0.002s, Loss: 0.0121\n",
      "06-Feb-22 01:20:39 - Ep: [37]  ValT: 0.17 min, BatchT: 0.141s, DataT: 0.016s, Loss: 0.0127, IoU: 0.9776 (val)\n",
      "06-Feb-22 01:21:47 - Ep: [38] TotalT: 49.3 min, BatchT: 0.269s, DataT: 0.003s, GpuDaT: 0.002s, Loss: 0.0121\n",
      "06-Feb-22 01:21:57 - Ep: [38]  ValT: 0.17 min, BatchT: 0.137s, DataT: 0.014s, Loss: 0.0129, IoU: 0.9772 (val)\n",
      "06-Feb-22 01:23:05 - Ep: [39] TotalT: 50.6 min, BatchT: 0.272s, DataT: 0.004s, GpuDaT: 0.002s, Loss: 0.0123\n",
      "06-Feb-22 01:23:15 - Ep: [39]  ValT: 0.17 min, BatchT: 0.136s, DataT: 0.012s, Loss: 0.0128, IoU: 0.9775 (val)\n",
      "06-Feb-22 01:24:23 - Ep: [40] TotalT: 51.9 min, BatchT: 0.271s, DataT: 0.003s, GpuDaT: 0.002s, Loss: 0.0118\n",
      "06-Feb-22 01:24:34 - Ep: [40]  ValT: 0.17 min, BatchT: 0.141s, DataT: 0.015s, Loss: 0.0133, IoU: 0.9766 (val)\n",
      "06-Feb-22 01:25:42 - Ep: [41] TotalT: 53.2 min, BatchT: 0.270s, DataT: 0.003s, GpuDaT: 0.002s, Loss: 0.0119\n",
      "06-Feb-22 01:25:52 - Ep: [41]  ValT: 0.17 min, BatchT: 0.142s, DataT: 0.016s, Loss: 0.0132, IoU: 0.9769 (val)\n",
      "06-Feb-22 01:27:00 - Ep: [42] TotalT: 54.5 min, BatchT: 0.269s, DataT: 0.004s, GpuDaT: 0.002s, Loss: 0.0121\n",
      "06-Feb-22 01:27:10 - Ep: [42]  ValT: 0.17 min, BatchT: 0.136s, DataT: 0.014s, Loss: 0.0126, IoU: 0.9778 (val)\n"
     ]
    },
    {
     "name": "stdout",
     "output_type": "stream",
     "text": [
      "Epoch    36: reducing learning rate of group 0 to 1.2500e-05.\n"
     ]
    },
    {
     "name": "stderr",
     "output_type": "stream",
     "text": [
      "06-Feb-22 01:28:18 - Ep: [43] TotalT: 55.8 min, BatchT: 0.268s, DataT: 0.003s, GpuDaT: 0.002s, Loss: 0.0117\n",
      "06-Feb-22 01:28:29 - Ep: [43]  ValT: 0.17 min, BatchT: 0.141s, DataT: 0.015s, Loss: 0.0128, IoU: 0.9775 (val)\n",
      "06-Feb-22 01:29:36 - Ep: [44] TotalT: 57.1 min, BatchT: 0.268s, DataT: 0.003s, GpuDaT: 0.002s, Loss: 0.0119\n",
      "06-Feb-22 01:29:46 - Ep: [44]  ValT: 0.16 min, BatchT: 0.133s, DataT: 0.011s, Loss: 0.0128, IoU: 0.9776 (val)\n",
      "06-Feb-22 01:30:53 - Ep: [45] TotalT: 58.4 min, BatchT: 0.268s, DataT: 0.003s, GpuDaT: 0.002s, Loss: 0.0120\n",
      "06-Feb-22 01:31:04 - Ep: [45]  ValT: 0.17 min, BatchT: 0.137s, DataT: 0.016s, Loss: 0.0128, IoU: 0.9776 (val)\n",
      "06-Feb-22 01:32:11 - Ep: [46] TotalT: 59.7 min, BatchT: 0.268s, DataT: 0.003s, GpuDaT: 0.002s, Loss: 0.0118\n",
      "06-Feb-22 01:32:22 - Ep: [46]  ValT: 0.18 min, BatchT: 0.147s, DataT: 0.020s, Loss: 0.0128, IoU: 0.9776 (val)\n",
      "06-Feb-22 01:33:29 - Ep: [47] TotalT: 61.0 min, BatchT: 0.269s, DataT: 0.003s, GpuDaT: 0.002s, Loss: 0.0119\n",
      "06-Feb-22 01:33:40 - Ep: [47]  ValT: 0.17 min, BatchT: 0.137s, DataT: 0.012s, Loss: 0.0127, IoU: 0.9778 (val)\n",
      "06-Feb-22 01:34:48 - Ep: [48] TotalT: 62.3 min, BatchT: 0.273s, DataT: 0.004s, GpuDaT: 0.002s, Loss: 0.0117\n",
      "06-Feb-22 01:34:58 - Ep: [48]  ValT: 0.17 min, BatchT: 0.135s, DataT: 0.012s, Loss: 0.0130, IoU: 0.9772 (val)\n",
      "06-Feb-22 01:34:58 - LR was reduced to 6.2500e-06\n"
     ]
    },
    {
     "name": "stdout",
     "output_type": "stream",
     "text": [
      "Epoch    42: reducing learning rate of group 0 to 6.2500e-06.\n"
     ]
    },
    {
     "name": "stderr",
     "output_type": "stream",
     "text": [
      "06-Feb-22 01:36:07 - Ep: [49] TotalT: 63.7 min, BatchT: 0.272s, DataT: 0.003s, GpuDaT: 0.002s, Loss: 0.0117\n",
      "06-Feb-22 01:36:17 - Ep: [49]  ValT: 0.17 min, BatchT: 0.140s, DataT: 0.013s, Loss: 0.0130, IoU: 0.9772 (val)\n",
      "06-Feb-22 01:37:25 - Ep: [50] TotalT: 65.0 min, BatchT: 0.269s, DataT: 0.003s, GpuDaT: 0.002s, Loss: 0.0118\n",
      "06-Feb-22 01:37:35 - Ep: [50]  ValT: 0.17 min, BatchT: 0.139s, DataT: 0.015s, Loss: 0.0127, IoU: 0.9778 (val)\n",
      "06-Feb-22 01:38:43 - Ep: [51] TotalT: 66.3 min, BatchT: 0.270s, DataT: 0.003s, GpuDaT: 0.002s, Loss: 0.0117\n",
      "06-Feb-22 01:38:54 - Ep: [51]  ValT: 0.17 min, BatchT: 0.140s, DataT: 0.014s, Loss: 0.0126, IoU: 0.9779 (val)\n",
      "06-Feb-22 01:40:02 - Ep: [52] TotalT: 67.6 min, BatchT: 0.271s, DataT: 0.004s, GpuDaT: 0.002s, Loss: 0.0115\n",
      "06-Feb-22 01:40:12 - Ep: [52]  ValT: 0.17 min, BatchT: 0.140s, DataT: 0.013s, Loss: 0.0125, IoU: 0.9780 (val)\n",
      "06-Feb-22 01:41:20 - Ep: [53] TotalT: 68.9 min, BatchT: 0.270s, DataT: 0.004s, GpuDaT: 0.002s, Loss: 0.0117\n",
      "06-Feb-22 01:41:31 - Ep: [53]  ValT: 0.17 min, BatchT: 0.136s, DataT: 0.013s, Loss: 0.0124, IoU: 0.9781 (val)\n",
      "06-Feb-22 01:42:38 - Ep: [54] TotalT: 70.2 min, BatchT: 0.269s, DataT: 0.003s, GpuDaT: 0.002s, Loss: 0.0115\n",
      "06-Feb-22 01:42:49 - Ep: [54]  ValT: 0.17 min, BatchT: 0.141s, DataT: 0.014s, Loss: 0.0124, IoU: 0.9781 (val)\n",
      "06-Feb-22 01:42:49 - LR was reduced to 3.1250e-06\n"
     ]
    },
    {
     "name": "stdout",
     "output_type": "stream",
     "text": [
      "Epoch    48: reducing learning rate of group 0 to 3.1250e-06.\n"
     ]
    },
    {
     "name": "stderr",
     "output_type": "stream",
     "text": [
      "06-Feb-22 01:43:56 - Ep: [55] TotalT: 71.5 min, BatchT: 0.269s, DataT: 0.004s, GpuDaT: 0.002s, Loss: 0.0117\n",
      "06-Feb-22 01:44:07 - Ep: [55]  ValT: 0.18 min, BatchT: 0.145s, DataT: 0.019s, Loss: 0.0125, IoU: 0.9780 (val)\n",
      "06-Feb-22 01:45:15 - Ep: [56] TotalT: 72.8 min, BatchT: 0.269s, DataT: 0.003s, GpuDaT: 0.002s, Loss: 0.0115\n",
      "06-Feb-22 01:45:25 - Ep: [56]  ValT: 0.17 min, BatchT: 0.138s, DataT: 0.015s, Loss: 0.0124, IoU: 0.9782 (val)\n",
      "06-Feb-22 01:46:33 - Ep: [57] TotalT: 74.1 min, BatchT: 0.268s, DataT: 0.003s, GpuDaT: 0.002s, Loss: 0.0112\n",
      "06-Feb-22 01:46:43 - Ep: [57]  ValT: 0.17 min, BatchT: 0.138s, DataT: 0.014s, Loss: 0.0124, IoU: 0.9782 (val)\n",
      "06-Feb-22 01:47:51 - Ep: [58] TotalT: 75.4 min, BatchT: 0.268s, DataT: 0.003s, GpuDaT: 0.002s, Loss: 0.0117\n",
      "06-Feb-22 01:48:01 - Ep: [58]  ValT: 0.17 min, BatchT: 0.139s, DataT: 0.015s, Loss: 0.0125, IoU: 0.9780 (val)\n",
      "06-Feb-22 01:49:09 - Ep: [59] TotalT: 76.7 min, BatchT: 0.270s, DataT: 0.003s, GpuDaT: 0.002s, Loss: 0.0115\n",
      "06-Feb-22 01:49:20 - Ep: [59]  ValT: 0.18 min, BatchT: 0.145s, DataT: 0.016s, Loss: 0.0127, IoU: 0.9777 (val)\n",
      "06-Feb-22 01:50:28 - Ep: [60] TotalT: 78.0 min, BatchT: 0.271s, DataT: 0.004s, GpuDaT: 0.002s, Loss: 0.0114\n",
      "06-Feb-22 01:50:38 - Ep: [60]  ValT: 0.17 min, BatchT: 0.139s, DataT: 0.013s, Loss: 0.0125, IoU: 0.9780 (val)\n",
      "06-Feb-22 01:50:38 - LR was reduced to 1.5625e-06\n"
     ]
    },
    {
     "name": "stdout",
     "output_type": "stream",
     "text": [
      "Epoch    54: reducing learning rate of group 0 to 1.5625e-06.\n"
     ]
    },
    {
     "name": "stderr",
     "output_type": "stream",
     "text": [
      "06-Feb-22 01:51:47 - Ep: [61] TotalT: 79.3 min, BatchT: 0.273s, DataT: 0.004s, GpuDaT: 0.002s, Loss: 0.0114\n",
      "06-Feb-22 01:51:57 - Ep: [61]  ValT: 0.17 min, BatchT: 0.135s, DataT: 0.013s, Loss: 0.0125, IoU: 0.9780 (val)\n",
      "06-Feb-22 01:53:04 - Ep: [62] TotalT: 80.6 min, BatchT: 0.270s, DataT: 0.003s, GpuDaT: 0.002s, Loss: 0.0115\n",
      "06-Feb-22 01:53:15 - Ep: [62]  ValT: 0.18 min, BatchT: 0.142s, DataT: 0.016s, Loss: 0.0125, IoU: 0.9780 (val)\n",
      "06-Feb-22 01:54:23 - Ep: [63] TotalT: 81.9 min, BatchT: 0.271s, DataT: 0.004s, GpuDaT: 0.002s, Loss: 0.0114\n",
      "06-Feb-22 01:54:34 - Ep: [63]  ValT: 0.18 min, BatchT: 0.144s, DataT: 0.016s, Loss: 0.0126, IoU: 0.9780 (val)\n",
      "06-Feb-22 01:55:41 - Ep: [64] TotalT: 83.2 min, BatchT: 0.269s, DataT: 0.003s, GpuDaT: 0.002s, Loss: 0.0115\n",
      "06-Feb-22 01:55:52 - Ep: [64]  ValT: 0.17 min, BatchT: 0.138s, DataT: 0.013s, Loss: 0.0125, IoU: 0.9781 (val)\n",
      "06-Feb-22 01:57:00 - Ep: [65] TotalT: 84.5 min, BatchT: 0.270s, DataT: 0.004s, GpuDaT: 0.002s, Loss: 0.0115\n",
      "06-Feb-22 01:57:10 - Ep: [65]  ValT: 0.17 min, BatchT: 0.142s, DataT: 0.013s, Loss: 0.0125, IoU: 0.9781 (val)\n",
      "06-Feb-22 01:58:18 - Ep: [66] TotalT: 85.8 min, BatchT: 0.271s, DataT: 0.004s, GpuDaT: 0.002s, Loss: 0.0113\n",
      "06-Feb-22 01:58:28 - Ep: [66]  ValT: 0.17 min, BatchT: 0.135s, DataT: 0.012s, Loss: 0.0125, IoU: 0.9781 (val)\n",
      "06-Feb-22 01:58:28 - Early Stopping\n",
      "06-Feb-22 01:58:28 - Best validation combination metric of 0.97820 in epoch 56.\n"
     ]
    },
    {
     "name": "stdout",
     "output_type": "stream",
     "text": [
      "Epoch    60: reducing learning rate of group 0 to 7.8125e-07.\n",
      "Train Data Augmentations: [RandomCrop(always_apply=False, p=1.0, height=384, width=384)]\n",
      "Train Image Data Augmentations: []\n",
      "####################################################################################################\n",
      "####################################################################################################\n",
      "Fold 2 --> Train: 9398, Val: 2350\n",
      "####################################################################################################\n",
      "Last 5 sample weights: [1.0, 1.0, 1.0, 1.0, 1.0]\n",
      "unet timm-efficientnet-b1 noisy-student BatchNorm: True Decoder Channel: [256, 128, 64, 32, 16], Decoder Attention Type: None\n"
     ]
    },
    {
     "name": "stderr",
     "output_type": "stream",
     "text": [
      "06-Feb-22 01:58:29 - Training with 1 GPUS\n",
      "06-Feb-22 01:58:29 - Training is done with mixed precision\n",
      "06-Feb-22 01:59:36 - Ep: [1] TotalT: 1.1 min, BatchT: 0.269s, DataT: 0.004s, GpuDaT: 0.002s, Loss: 0.1110\n",
      "06-Feb-22 01:59:47 - Ep: [1]  ValT: 0.17 min, BatchT: 0.138s, DataT: 0.015s, Loss: 0.0459, IoU: 0.9442 (val)\n",
      "06-Feb-22 02:00:54 - Ep: [2] TotalT: 2.4 min, BatchT: 0.268s, DataT: 0.003s, GpuDaT: 0.002s, Loss: 0.0447\n",
      "06-Feb-22 02:01:04 - Ep: [2]  ValT: 0.16 min, BatchT: 0.129s, DataT: 0.012s, Loss: 0.0335, IoU: 0.9497 (val)\n",
      "06-Feb-22 02:02:12 - Ep: [3] TotalT: 3.7 min, BatchT: 0.270s, DataT: 0.004s, GpuDaT: 0.002s, Loss: 0.0363\n",
      "06-Feb-22 02:02:22 - Ep: [3]  ValT: 0.16 min, BatchT: 0.130s, DataT: 0.012s, Loss: 0.0300, IoU: 0.9532 (val)\n",
      "06-Feb-22 02:03:29 - Ep: [4] TotalT: 5.0 min, BatchT: 0.268s, DataT: 0.003s, GpuDaT: 0.002s, Loss: 0.0309\n",
      "06-Feb-22 02:03:39 - Ep: [4]  ValT: 0.16 min, BatchT: 0.131s, DataT: 0.012s, Loss: 0.0277, IoU: 0.9561 (val)\n",
      "06-Feb-22 02:04:46 - Ep: [5] TotalT: 6.3 min, BatchT: 0.268s, DataT: 0.003s, GpuDaT: 0.002s, Loss: 0.0278\n",
      "06-Feb-22 02:04:57 - Ep: [5]  ValT: 0.17 min, BatchT: 0.138s, DataT: 0.014s, Loss: 0.0245, IoU: 0.9599 (val)\n",
      "06-Feb-22 02:06:05 - Ep: [6] TotalT: 7.6 min, BatchT: 0.270s, DataT: 0.004s, GpuDaT: 0.002s, Loss: 0.0258\n",
      "06-Feb-22 02:06:15 - Ep: [6]  ValT: 0.17 min, BatchT: 0.135s, DataT: 0.015s, Loss: 0.0227, IoU: 0.9628 (val)\n",
      "06-Feb-22 02:07:23 - Ep: [7] TotalT: 8.9 min, BatchT: 0.269s, DataT: 0.003s, GpuDaT: 0.002s, Loss: 0.0237\n",
      "06-Feb-22 02:07:33 - Ep: [7]  ValT: 0.17 min, BatchT: 0.140s, DataT: 0.015s, Loss: 0.0238, IoU: 0.9607 (val)\n",
      "06-Feb-22 02:08:41 - Ep: [8] TotalT: 10.2 min, BatchT: 0.270s, DataT: 0.003s, GpuDaT: 0.002s, Loss: 0.0229\n",
      "06-Feb-22 02:08:52 - Ep: [8]  ValT: 0.18 min, BatchT: 0.142s, DataT: 0.014s, Loss: 0.0203, IoU: 0.9661 (val)\n",
      "06-Feb-22 02:10:00 - Ep: [9] TotalT: 11.5 min, BatchT: 0.270s, DataT: 0.004s, GpuDaT: 0.002s, Loss: 0.0215\n",
      "06-Feb-22 02:10:10 - Ep: [9]  ValT: 0.16 min, BatchT: 0.131s, DataT: 0.011s, Loss: 0.0194, IoU: 0.9672 (val)\n",
      "06-Feb-22 02:11:17 - Ep: [10] TotalT: 12.8 min, BatchT: 0.269s, DataT: 0.003s, GpuDaT: 0.002s, Loss: 0.0206\n",
      "06-Feb-22 02:11:28 - Ep: [10]  ValT: 0.17 min, BatchT: 0.135s, DataT: 0.012s, Loss: 0.0218, IoU: 0.9622 (val)\n",
      "06-Feb-22 02:12:35 - Ep: [11] TotalT: 14.1 min, BatchT: 0.269s, DataT: 0.004s, GpuDaT: 0.002s, Loss: 0.0197\n",
      "06-Feb-22 02:12:45 - Ep: [11]  ValT: 0.16 min, BatchT: 0.130s, DataT: 0.013s, Loss: 0.0187, IoU: 0.9678 (val)\n",
      "06-Feb-22 02:13:53 - Ep: [12] TotalT: 15.4 min, BatchT: 0.269s, DataT: 0.003s, GpuDaT: 0.002s, Loss: 0.0186\n",
      "06-Feb-22 02:14:03 - Ep: [12]  ValT: 0.17 min, BatchT: 0.137s, DataT: 0.017s, Loss: 0.0178, IoU: 0.9695 (val)\n",
      "06-Feb-22 02:15:10 - Ep: [13] TotalT: 16.7 min, BatchT: 0.268s, DataT: 0.003s, GpuDaT: 0.002s, Loss: 0.0181\n",
      "06-Feb-22 02:15:21 - Ep: [13]  ValT: 0.17 min, BatchT: 0.136s, DataT: 0.013s, Loss: 0.0182, IoU: 0.9687 (val)\n",
      "06-Feb-22 02:16:28 - Ep: [14] TotalT: 18.0 min, BatchT: 0.267s, DataT: 0.003s, GpuDaT: 0.002s, Loss: 0.0182\n",
      "06-Feb-22 02:16:38 - Ep: [14]  ValT: 0.16 min, BatchT: 0.133s, DataT: 0.013s, Loss: 0.0176, IoU: 0.9697 (val)\n",
      "06-Feb-22 02:17:45 - Ep: [15] TotalT: 19.3 min, BatchT: 0.269s, DataT: 0.003s, GpuDaT: 0.002s, Loss: 0.0187\n",
      "06-Feb-22 02:17:56 - Ep: [15]  ValT: 0.17 min, BatchT: 0.139s, DataT: 0.020s, Loss: 0.0175, IoU: 0.9696 (val)\n",
      "06-Feb-22 02:19:03 - Ep: [16] TotalT: 20.6 min, BatchT: 0.267s, DataT: 0.003s, GpuDaT: 0.002s, Loss: 0.0168\n",
      "06-Feb-22 02:19:13 - Ep: [16]  ValT: 0.17 min, BatchT: 0.138s, DataT: 0.015s, Loss: 0.0177, IoU: 0.9686 (val)\n",
      "06-Feb-22 02:20:21 - Ep: [17] TotalT: 21.9 min, BatchT: 0.268s, DataT: 0.003s, GpuDaT: 0.002s, Loss: 0.0178\n",
      "06-Feb-22 02:20:31 - Ep: [17]  ValT: 0.16 min, BatchT: 0.133s, DataT: 0.013s, Loss: 0.0171, IoU: 0.9701 (val)\n",
      "06-Feb-22 02:21:38 - Ep: [18] TotalT: 23.2 min, BatchT: 0.267s, DataT: 0.003s, GpuDaT: 0.002s, Loss: 0.0169\n",
      "06-Feb-22 02:21:48 - Ep: [18]  ValT: 0.16 min, BatchT: 0.134s, DataT: 0.014s, Loss: 0.0171, IoU: 0.9701 (val)\n",
      "06-Feb-22 02:21:48 - LR was reduced to 5.0000e-05\n"
     ]
    },
    {
     "name": "stdout",
     "output_type": "stream",
     "text": [
      "Epoch    12: reducing learning rate of group 0 to 5.0000e-05.\n"
     ]
    },
    {
     "name": "stderr",
     "output_type": "stream",
     "text": [
      "06-Feb-22 02:22:55 - Ep: [19] TotalT: 24.4 min, BatchT: 0.267s, DataT: 0.003s, GpuDaT: 0.002s, Loss: 0.0160\n",
      "06-Feb-22 02:23:05 - Ep: [19]  ValT: 0.17 min, BatchT: 0.135s, DataT: 0.015s, Loss: 0.0156, IoU: 0.9728 (val)\n",
      "06-Feb-22 02:24:13 - Ep: [20] TotalT: 25.7 min, BatchT: 0.267s, DataT: 0.003s, GpuDaT: 0.002s, Loss: 0.0153\n",
      "06-Feb-22 02:24:23 - Ep: [20]  ValT: 0.17 min, BatchT: 0.138s, DataT: 0.015s, Loss: 0.0156, IoU: 0.9728 (val)\n",
      "06-Feb-22 02:25:31 - Ep: [21] TotalT: 27.0 min, BatchT: 0.268s, DataT: 0.003s, GpuDaT: 0.002s, Loss: 0.0148\n",
      "06-Feb-22 02:25:41 - Ep: [21]  ValT: 0.17 min, BatchT: 0.136s, DataT: 0.013s, Loss: 0.0150, IoU: 0.9738 (val)\n",
      "06-Feb-22 02:26:49 - Ep: [22] TotalT: 28.3 min, BatchT: 0.270s, DataT: 0.003s, GpuDaT: 0.002s, Loss: 0.0153\n",
      "06-Feb-22 02:26:59 - Ep: [22]  ValT: 0.17 min, BatchT: 0.135s, DataT: 0.013s, Loss: 0.0149, IoU: 0.9740 (val)\n",
      "06-Feb-22 02:28:07 - Ep: [23] TotalT: 29.6 min, BatchT: 0.269s, DataT: 0.003s, GpuDaT: 0.002s, Loss: 0.0146\n",
      "06-Feb-22 02:28:17 - Ep: [23]  ValT: 0.16 min, BatchT: 0.134s, DataT: 0.012s, Loss: 0.0152, IoU: 0.9735 (val)\n",
      "06-Feb-22 02:29:24 - Ep: [24] TotalT: 30.9 min, BatchT: 0.270s, DataT: 0.003s, GpuDaT: 0.002s, Loss: 0.0146\n",
      "06-Feb-22 02:29:35 - Ep: [24]  ValT: 0.18 min, BatchT: 0.144s, DataT: 0.016s, Loss: 0.0152, IoU: 0.9734 (val)\n",
      "06-Feb-22 02:30:43 - Ep: [25] TotalT: 32.2 min, BatchT: 0.269s, DataT: 0.003s, GpuDaT: 0.002s, Loss: 0.0150\n",
      "06-Feb-22 02:30:54 - Ep: [25]  ValT: 0.18 min, BatchT: 0.145s, DataT: 0.016s, Loss: 0.0149, IoU: 0.9740 (val)\n",
      "06-Feb-22 02:30:54 - LR was reduced to 2.5000e-05\n"
     ]
    },
    {
     "name": "stdout",
     "output_type": "stream",
     "text": [
      "Epoch    19: reducing learning rate of group 0 to 2.5000e-05.\n"
     ]
    },
    {
     "name": "stderr",
     "output_type": "stream",
     "text": [
      "06-Feb-22 02:32:01 - Ep: [26] TotalT: 33.5 min, BatchT: 0.268s, DataT: 0.003s, GpuDaT: 0.002s, Loss: 0.0142\n",
      "06-Feb-22 02:32:11 - Ep: [26]  ValT: 0.17 min, BatchT: 0.140s, DataT: 0.014s, Loss: 0.0147, IoU: 0.9745 (val)\n",
      "06-Feb-22 02:33:19 - Ep: [27] TotalT: 34.8 min, BatchT: 0.269s, DataT: 0.004s, GpuDaT: 0.002s, Loss: 0.0144\n",
      "06-Feb-22 02:33:29 - Ep: [27]  ValT: 0.16 min, BatchT: 0.134s, DataT: 0.013s, Loss: 0.0146, IoU: 0.9744 (val)\n",
      "06-Feb-22 02:34:37 - Ep: [28] TotalT: 36.1 min, BatchT: 0.269s, DataT: 0.003s, GpuDaT: 0.002s, Loss: 0.0139\n",
      "06-Feb-22 02:34:47 - Ep: [28]  ValT: 0.17 min, BatchT: 0.134s, DataT: 0.013s, Loss: 0.0145, IoU: 0.9746 (val)\n",
      "06-Feb-22 02:35:55 - Ep: [29] TotalT: 37.4 min, BatchT: 0.270s, DataT: 0.003s, GpuDaT: 0.002s, Loss: 0.0136\n",
      "06-Feb-22 02:36:05 - Ep: [29]  ValT: 0.16 min, BatchT: 0.133s, DataT: 0.014s, Loss: 0.0144, IoU: 0.9748 (val)\n",
      "06-Feb-22 02:37:13 - Ep: [30] TotalT: 38.7 min, BatchT: 0.268s, DataT: 0.003s, GpuDaT: 0.002s, Loss: 0.0139\n",
      "06-Feb-22 02:37:23 - Ep: [30]  ValT: 0.17 min, BatchT: 0.136s, DataT: 0.016s, Loss: 0.0143, IoU: 0.9750 (val)\n",
      "06-Feb-22 02:38:30 - Ep: [31] TotalT: 40.0 min, BatchT: 0.267s, DataT: 0.003s, GpuDaT: 0.002s, Loss: 0.0138\n",
      "06-Feb-22 02:38:40 - Ep: [31]  ValT: 0.17 min, BatchT: 0.135s, DataT: 0.013s, Loss: 0.0145, IoU: 0.9745 (val)\n",
      "06-Feb-22 02:39:47 - Ep: [32] TotalT: 41.3 min, BatchT: 0.268s, DataT: 0.003s, GpuDaT: 0.002s, Loss: 0.0133\n",
      "06-Feb-22 02:39:58 - Ep: [32]  ValT: 0.17 min, BatchT: 0.135s, DataT: 0.015s, Loss: 0.0145, IoU: 0.9746 (val)\n",
      "06-Feb-22 02:39:58 - LR was reduced to 1.2500e-05\n"
     ]
    },
    {
     "name": "stdout",
     "output_type": "stream",
     "text": [
      "Epoch    26: reducing learning rate of group 0 to 1.2500e-05.\n"
     ]
    },
    {
     "name": "stderr",
     "output_type": "stream",
     "text": [
      "06-Feb-22 02:41:05 - Ep: [33] TotalT: 42.6 min, BatchT: 0.269s, DataT: 0.004s, GpuDaT: 0.002s, Loss: 0.0133\n",
      "06-Feb-22 02:41:15 - Ep: [33]  ValT: 0.17 min, BatchT: 0.134s, DataT: 0.014s, Loss: 0.0144, IoU: 0.9747 (val)\n",
      "06-Feb-22 02:42:23 - Ep: [34] TotalT: 43.9 min, BatchT: 0.268s, DataT: 0.003s, GpuDaT: 0.002s, Loss: 0.0134\n",
      "06-Feb-22 02:42:33 - Ep: [34]  ValT: 0.17 min, BatchT: 0.138s, DataT: 0.012s, Loss: 0.0142, IoU: 0.9750 (val)\n",
      "06-Feb-22 02:43:41 - Ep: [35] TotalT: 45.2 min, BatchT: 0.270s, DataT: 0.003s, GpuDaT: 0.002s, Loss: 0.0133\n",
      "06-Feb-22 02:43:51 - Ep: [35]  ValT: 0.17 min, BatchT: 0.135s, DataT: 0.014s, Loss: 0.0143, IoU: 0.9750 (val)\n",
      "06-Feb-22 02:44:59 - Ep: [36] TotalT: 46.5 min, BatchT: 0.270s, DataT: 0.003s, GpuDaT: 0.002s, Loss: 0.0135\n",
      "06-Feb-22 02:45:09 - Ep: [36]  ValT: 0.18 min, BatchT: 0.142s, DataT: 0.016s, Loss: 0.0142, IoU: 0.9751 (val)\n",
      "06-Feb-22 02:46:18 - Ep: [37] TotalT: 47.8 min, BatchT: 0.271s, DataT: 0.004s, GpuDaT: 0.002s, Loss: 0.0133\n",
      "06-Feb-22 02:46:28 - Ep: [37]  ValT: 0.17 min, BatchT: 0.139s, DataT: 0.017s, Loss: 0.0140, IoU: 0.9754 (val)\n",
      "06-Feb-22 02:47:36 - Ep: [38] TotalT: 49.1 min, BatchT: 0.269s, DataT: 0.004s, GpuDaT: 0.002s, Loss: 0.0130\n",
      "06-Feb-22 02:47:46 - Ep: [38]  ValT: 0.17 min, BatchT: 0.135s, DataT: 0.013s, Loss: 0.0140, IoU: 0.9754 (val)\n",
      "06-Feb-22 02:47:46 - LR was reduced to 6.2500e-06\n"
     ]
    },
    {
     "name": "stdout",
     "output_type": "stream",
     "text": [
      "Epoch    32: reducing learning rate of group 0 to 6.2500e-06.\n"
     ]
    },
    {
     "name": "stderr",
     "output_type": "stream",
     "text": [
      "06-Feb-22 02:48:54 - Ep: [39] TotalT: 50.4 min, BatchT: 0.270s, DataT: 0.003s, GpuDaT: 0.002s, Loss: 0.0131\n",
      "06-Feb-22 02:49:05 - Ep: [39]  ValT: 0.18 min, BatchT: 0.144s, DataT: 0.018s, Loss: 0.0139, IoU: 0.9757 (val)\n",
      "06-Feb-22 02:50:13 - Ep: [40] TotalT: 51.7 min, BatchT: 0.270s, DataT: 0.004s, GpuDaT: 0.002s, Loss: 0.0128\n",
      "06-Feb-22 02:50:23 - Ep: [40]  ValT: 0.17 min, BatchT: 0.136s, DataT: 0.013s, Loss: 0.0140, IoU: 0.9754 (val)\n",
      "06-Feb-22 02:51:30 - Ep: [41] TotalT: 53.0 min, BatchT: 0.269s, DataT: 0.003s, GpuDaT: 0.002s, Loss: 0.0129\n",
      "06-Feb-22 02:51:41 - Ep: [41]  ValT: 0.17 min, BatchT: 0.142s, DataT: 0.016s, Loss: 0.0141, IoU: 0.9753 (val)\n",
      "06-Feb-22 02:52:49 - Ep: [42] TotalT: 54.3 min, BatchT: 0.270s, DataT: 0.004s, GpuDaT: 0.002s, Loss: 0.0130\n",
      "06-Feb-22 02:52:59 - Ep: [42]  ValT: 0.17 min, BatchT: 0.136s, DataT: 0.012s, Loss: 0.0139, IoU: 0.9757 (val)\n",
      "06-Feb-22 02:54:07 - Ep: [43] TotalT: 55.6 min, BatchT: 0.269s, DataT: 0.003s, GpuDaT: 0.002s, Loss: 0.0129\n",
      "06-Feb-22 02:54:18 - Ep: [43]  ValT: 0.18 min, BatchT: 0.146s, DataT: 0.018s, Loss: 0.0140, IoU: 0.9754 (val)\n",
      "06-Feb-22 02:55:25 - Ep: [44] TotalT: 56.9 min, BatchT: 0.268s, DataT: 0.003s, GpuDaT: 0.002s, Loss: 0.0127\n",
      "06-Feb-22 02:55:35 - Ep: [44]  ValT: 0.16 min, BatchT: 0.133s, DataT: 0.012s, Loss: 0.0139, IoU: 0.9757 (val)\n",
      "06-Feb-22 02:55:35 - LR was reduced to 3.1250e-06\n"
     ]
    },
    {
     "name": "stdout",
     "output_type": "stream",
     "text": [
      "Epoch    38: reducing learning rate of group 0 to 3.1250e-06.\n"
     ]
    },
    {
     "name": "stderr",
     "output_type": "stream",
     "text": [
      "06-Feb-22 02:56:43 - Ep: [45] TotalT: 58.2 min, BatchT: 0.270s, DataT: 0.004s, GpuDaT: 0.002s, Loss: 0.0131\n",
      "06-Feb-22 02:56:53 - Ep: [45]  ValT: 0.16 min, BatchT: 0.133s, DataT: 0.013s, Loss: 0.0139, IoU: 0.9756 (val)\n",
      "06-Feb-22 02:58:00 - Ep: [46] TotalT: 59.5 min, BatchT: 0.268s, DataT: 0.003s, GpuDaT: 0.002s, Loss: 0.0130\n",
      "06-Feb-22 02:58:11 - Ep: [46]  ValT: 0.17 min, BatchT: 0.141s, DataT: 0.014s, Loss: 0.0139, IoU: 0.9755 (val)\n",
      "06-Feb-22 02:59:19 - Ep: [47] TotalT: 60.8 min, BatchT: 0.271s, DataT: 0.004s, GpuDaT: 0.002s, Loss: 0.0131\n",
      "06-Feb-22 02:59:29 - Ep: [47]  ValT: 0.17 min, BatchT: 0.137s, DataT: 0.015s, Loss: 0.0139, IoU: 0.9756 (val)\n",
      "06-Feb-22 03:00:37 - Ep: [48] TotalT: 62.1 min, BatchT: 0.270s, DataT: 0.003s, GpuDaT: 0.002s, Loss: 0.0132\n",
      "06-Feb-22 03:00:47 - Ep: [48]  ValT: 0.17 min, BatchT: 0.134s, DataT: 0.012s, Loss: 0.0139, IoU: 0.9756 (val)\n",
      "06-Feb-22 03:01:55 - Ep: [49] TotalT: 63.4 min, BatchT: 0.270s, DataT: 0.003s, GpuDaT: 0.002s, Loss: 0.0132\n",
      "06-Feb-22 03:02:05 - Ep: [49]  ValT: 0.17 min, BatchT: 0.137s, DataT: 0.013s, Loss: 0.0140, IoU: 0.9755 (val)\n",
      "06-Feb-22 03:03:13 - Ep: [50] TotalT: 64.7 min, BatchT: 0.271s, DataT: 0.004s, GpuDaT: 0.002s, Loss: 0.0125\n",
      "06-Feb-22 03:03:24 - Ep: [50]  ValT: 0.18 min, BatchT: 0.143s, DataT: 0.016s, Loss: 0.0139, IoU: 0.9756 (val)\n",
      "06-Feb-22 03:03:24 - LR was reduced to 1.5625e-06\n"
     ]
    },
    {
     "name": "stdout",
     "output_type": "stream",
     "text": [
      "Epoch    44: reducing learning rate of group 0 to 1.5625e-06.\n"
     ]
    },
    {
     "name": "stderr",
     "output_type": "stream",
     "text": [
      "06-Feb-22 03:04:31 - Ep: [51] TotalT: 66.0 min, BatchT: 0.269s, DataT: 0.004s, GpuDaT: 0.002s, Loss: 0.0128\n",
      "06-Feb-22 03:04:42 - Ep: [51]  ValT: 0.17 min, BatchT: 0.136s, DataT: 0.014s, Loss: 0.0138, IoU: 0.9758 (val)\n",
      "06-Feb-22 03:05:49 - Ep: [52] TotalT: 67.3 min, BatchT: 0.269s, DataT: 0.003s, GpuDaT: 0.002s, Loss: 0.0129\n",
      "06-Feb-22 03:06:00 - Ep: [52]  ValT: 0.17 min, BatchT: 0.141s, DataT: 0.013s, Loss: 0.0138, IoU: 0.9758 (val)\n",
      "06-Feb-22 03:06:00 - Early Stopping\n",
      "06-Feb-22 03:06:00 - Best validation combination metric of 0.97580 in epoch 52.\n"
     ]
    },
    {
     "name": "stdout",
     "output_type": "stream",
     "text": [
      "Train Data Augmentations: [RandomCrop(always_apply=False, p=1.0, height=384, width=384)]\n",
      "Train Image Data Augmentations: []\n",
      "####################################################################################################\n",
      "####################################################################################################\n",
      "Fold 3 --> Train: 9399, Val: 2349\n",
      "####################################################################################################\n",
      "Last 5 sample weights: [1.0, 1.0, 1.0, 1.0, 1.0]\n",
      "unet timm-efficientnet-b1 noisy-student BatchNorm: True Decoder Channel: [256, 128, 64, 32, 16], Decoder Attention Type: None\n"
     ]
    },
    {
     "name": "stderr",
     "output_type": "stream",
     "text": [
      "06-Feb-22 03:06:01 - Training with 1 GPUS\n",
      "06-Feb-22 03:06:01 - Training is done with mixed precision\n",
      "06-Feb-22 03:07:09 - Ep: [1] TotalT: 1.1 min, BatchT: 0.273s, DataT: 0.004s, GpuDaT: 0.002s, Loss: 0.1314\n",
      "06-Feb-22 03:07:21 - Ep: [1]  ValT: 0.20 min, BatchT: 0.159s, DataT: 0.014s, Loss: 0.0550, IoU: 0.9340 (val)\n",
      "06-Feb-22 03:08:30 - Ep: [2] TotalT: 2.5 min, BatchT: 0.273s, DataT: 0.004s, GpuDaT: 0.002s, Loss: 0.0498\n",
      "06-Feb-22 03:08:41 - Ep: [2]  ValT: 0.17 min, BatchT: 0.142s, DataT: 0.015s, Loss: 0.0385, IoU: 0.9453 (val)\n",
      "06-Feb-22 03:09:49 - Ep: [3] TotalT: 3.8 min, BatchT: 0.272s, DataT: 0.004s, GpuDaT: 0.002s, Loss: 0.0376\n",
      "06-Feb-22 03:09:59 - Ep: [3]  ValT: 0.17 min, BatchT: 0.134s, DataT: 0.012s, Loss: 0.0301, IoU: 0.9525 (val)\n",
      "06-Feb-22 03:11:07 - Ep: [4] TotalT: 5.1 min, BatchT: 0.270s, DataT: 0.003s, GpuDaT: 0.002s, Loss: 0.0322\n",
      "06-Feb-22 03:11:18 - Ep: [4]  ValT: 0.17 min, BatchT: 0.142s, DataT: 0.016s, Loss: 0.0277, IoU: 0.9547 (val)\n",
      "06-Feb-22 03:12:26 - Ep: [5] TotalT: 6.4 min, BatchT: 0.270s, DataT: 0.003s, GpuDaT: 0.002s, Loss: 0.0284\n",
      "06-Feb-22 03:12:36 - Ep: [5]  ValT: 0.17 min, BatchT: 0.136s, DataT: 0.013s, Loss: 0.0248, IoU: 0.9583 (val)\n",
      "06-Feb-22 03:13:44 - Ep: [6] TotalT: 7.7 min, BatchT: 0.271s, DataT: 0.004s, GpuDaT: 0.002s, Loss: 0.0263\n",
      "06-Feb-22 03:13:54 - Ep: [6]  ValT: 0.17 min, BatchT: 0.135s, DataT: 0.012s, Loss: 0.0231, IoU: 0.9609 (val)\n",
      "06-Feb-22 03:15:03 - Ep: [7] TotalT: 9.0 min, BatchT: 0.271s, DataT: 0.003s, GpuDaT: 0.002s, Loss: 0.0238\n",
      "06-Feb-22 03:15:13 - Ep: [7]  ValT: 0.17 min, BatchT: 0.136s, DataT: 0.012s, Loss: 0.0209, IoU: 0.9644 (val)\n",
      "06-Feb-22 03:16:21 - Ep: [8] TotalT: 10.3 min, BatchT: 0.271s, DataT: 0.003s, GpuDaT: 0.002s, Loss: 0.0221\n",
      "06-Feb-22 03:16:31 - Ep: [8]  ValT: 0.17 min, BatchT: 0.139s, DataT: 0.015s, Loss: 0.0204, IoU: 0.9648 (val)\n",
      "06-Feb-22 03:17:40 - Ep: [9] TotalT: 11.7 min, BatchT: 0.273s, DataT: 0.003s, GpuDaT: 0.002s, Loss: 0.0213\n",
      "06-Feb-22 03:17:51 - Ep: [9]  ValT: 0.17 min, BatchT: 0.140s, DataT: 0.015s, Loss: 0.0198, IoU: 0.9653 (val)\n",
      "06-Feb-22 03:18:59 - Ep: [10] TotalT: 13.0 min, BatchT: 0.272s, DataT: 0.003s, GpuDaT: 0.002s, Loss: 0.0205\n",
      "06-Feb-22 03:19:10 - Ep: [10]  ValT: 0.17 min, BatchT: 0.142s, DataT: 0.015s, Loss: 0.0201, IoU: 0.9645 (val)\n",
      "06-Feb-22 03:20:19 - Ep: [11] TotalT: 14.3 min, BatchT: 0.275s, DataT: 0.004s, GpuDaT: 0.003s, Loss: 0.0193\n",
      "06-Feb-22 03:20:29 - Ep: [11]  ValT: 0.17 min, BatchT: 0.139s, DataT: 0.013s, Loss: 0.0200, IoU: 0.9650 (val)\n",
      "06-Feb-22 03:21:38 - Ep: [12] TotalT: 15.6 min, BatchT: 0.275s, DataT: 0.003s, GpuDaT: 0.002s, Loss: 0.0190\n",
      "06-Feb-22 03:21:48 - Ep: [12]  ValT: 0.17 min, BatchT: 0.138s, DataT: 0.013s, Loss: 0.0183, IoU: 0.9677 (val)\n",
      "06-Feb-22 03:22:57 - Ep: [13] TotalT: 16.9 min, BatchT: 0.272s, DataT: 0.003s, GpuDaT: 0.002s, Loss: 0.0188\n",
      "06-Feb-22 03:23:08 - Ep: [13]  ValT: 0.18 min, BatchT: 0.144s, DataT: 0.015s, Loss: 0.0181, IoU: 0.9675 (val)\n",
      "06-Feb-22 03:24:17 - Ep: [14] TotalT: 18.3 min, BatchT: 0.274s, DataT: 0.004s, GpuDaT: 0.002s, Loss: 0.0180\n",
      "06-Feb-22 03:24:27 - Ep: [14]  ValT: 0.17 min, BatchT: 0.142s, DataT: 0.014s, Loss: 0.0179, IoU: 0.9678 (val)\n",
      "06-Feb-22 03:25:35 - Ep: [15] TotalT: 19.6 min, BatchT: 0.270s, DataT: 0.003s, GpuDaT: 0.002s, Loss: 0.0173\n",
      "06-Feb-22 03:25:46 - Ep: [15]  ValT: 0.17 min, BatchT: 0.138s, DataT: 0.013s, Loss: 0.0168, IoU: 0.9699 (val)\n",
      "06-Feb-22 03:26:54 - Ep: [16] TotalT: 20.9 min, BatchT: 0.272s, DataT: 0.003s, GpuDaT: 0.002s, Loss: 0.0170\n",
      "06-Feb-22 03:27:04 - Ep: [16]  ValT: 0.17 min, BatchT: 0.139s, DataT: 0.015s, Loss: 0.0193, IoU: 0.9650 (val)\n",
      "06-Feb-22 03:28:12 - Ep: [17] TotalT: 22.2 min, BatchT: 0.270s, DataT: 0.003s, GpuDaT: 0.002s, Loss: 0.0170\n",
      "06-Feb-22 03:28:23 - Ep: [17]  ValT: 0.17 min, BatchT: 0.139s, DataT: 0.012s, Loss: 0.0162, IoU: 0.9709 (val)\n",
      "06-Feb-22 03:29:32 - Ep: [18] TotalT: 23.5 min, BatchT: 0.273s, DataT: 0.004s, GpuDaT: 0.002s, Loss: 0.0165\n",
      "06-Feb-22 03:29:42 - Ep: [18]  ValT: 0.17 min, BatchT: 0.141s, DataT: 0.016s, Loss: 0.0166, IoU: 0.9698 (val)\n",
      "06-Feb-22 03:30:50 - Ep: [19] TotalT: 24.8 min, BatchT: 0.270s, DataT: 0.003s, GpuDaT: 0.002s, Loss: 0.0165\n",
      "06-Feb-22 03:31:00 - Ep: [19]  ValT: 0.18 min, BatchT: 0.143s, DataT: 0.014s, Loss: 0.0159, IoU: 0.9711 (val)\n",
      "06-Feb-22 03:32:09 - Ep: [20] TotalT: 26.1 min, BatchT: 0.270s, DataT: 0.004s, GpuDaT: 0.002s, Loss: 0.0158\n",
      "06-Feb-22 03:32:19 - Ep: [20]  ValT: 0.17 min, BatchT: 0.136s, DataT: 0.013s, Loss: 0.0169, IoU: 0.9694 (val)\n",
      "06-Feb-22 03:33:27 - Ep: [21] TotalT: 27.4 min, BatchT: 0.271s, DataT: 0.003s, GpuDaT: 0.002s, Loss: 0.0160\n",
      "06-Feb-22 03:33:38 - Ep: [21]  ValT: 0.18 min, BatchT: 0.146s, DataT: 0.019s, Loss: 0.0165, IoU: 0.9698 (val)\n",
      "06-Feb-22 03:33:38 - LR was reduced to 5.0000e-05\n"
     ]
    },
    {
     "name": "stdout",
     "output_type": "stream",
     "text": [
      "Epoch    15: reducing learning rate of group 0 to 5.0000e-05.\n"
     ]
    },
    {
     "name": "stderr",
     "output_type": "stream",
     "text": [
      "06-Feb-22 03:34:46 - Ep: [22] TotalT: 28.8 min, BatchT: 0.271s, DataT: 0.003s, GpuDaT: 0.002s, Loss: 0.0145\n",
      "06-Feb-22 03:34:56 - Ep: [22]  ValT: 0.17 min, BatchT: 0.139s, DataT: 0.014s, Loss: 0.0154, IoU: 0.9720 (val)\n",
      "06-Feb-22 03:36:05 - Ep: [23] TotalT: 30.1 min, BatchT: 0.272s, DataT: 0.004s, GpuDaT: 0.002s, Loss: 0.0147\n",
      "06-Feb-22 03:36:15 - Ep: [23]  ValT: 0.17 min, BatchT: 0.139s, DataT: 0.012s, Loss: 0.0149, IoU: 0.9730 (val)\n",
      "06-Feb-22 03:37:24 - Ep: [24] TotalT: 31.4 min, BatchT: 0.273s, DataT: 0.004s, GpuDaT: 0.002s, Loss: 0.0144\n",
      "06-Feb-22 03:37:35 - Ep: [24]  ValT: 0.17 min, BatchT: 0.142s, DataT: 0.018s, Loss: 0.0148, IoU: 0.9731 (val)\n",
      "06-Feb-22 03:38:43 - Ep: [25] TotalT: 32.7 min, BatchT: 0.272s, DataT: 0.003s, GpuDaT: 0.002s, Loss: 0.0140\n",
      "06-Feb-22 03:38:53 - Ep: [25]  ValT: 0.17 min, BatchT: 0.138s, DataT: 0.013s, Loss: 0.0144, IoU: 0.9740 (val)\n",
      "06-Feb-22 03:40:02 - Ep: [26] TotalT: 34.0 min, BatchT: 0.272s, DataT: 0.003s, GpuDaT: 0.002s, Loss: 0.0140\n",
      "06-Feb-22 03:40:13 - Ep: [26]  ValT: 0.18 min, BatchT: 0.147s, DataT: 0.017s, Loss: 0.0148, IoU: 0.9731 (val)\n",
      "06-Feb-22 03:41:22 - Ep: [27] TotalT: 35.4 min, BatchT: 0.274s, DataT: 0.004s, GpuDaT: 0.002s, Loss: 0.0140\n",
      "06-Feb-22 03:41:32 - Ep: [27]  ValT: 0.18 min, BatchT: 0.143s, DataT: 0.014s, Loss: 0.0148, IoU: 0.9730 (val)\n",
      "06-Feb-22 03:42:41 - Ep: [28] TotalT: 36.7 min, BatchT: 0.273s, DataT: 0.004s, GpuDaT: 0.002s, Loss: 0.0138\n",
      "06-Feb-22 03:42:52 - Ep: [28]  ValT: 0.18 min, BatchT: 0.144s, DataT: 0.015s, Loss: 0.0150, IoU: 0.9725 (val)\n",
      "06-Feb-22 03:44:00 - Ep: [29] TotalT: 38.0 min, BatchT: 0.271s, DataT: 0.003s, GpuDaT: 0.002s, Loss: 0.0133\n",
      "06-Feb-22 03:44:10 - Ep: [29]  ValT: 0.17 min, BatchT: 0.138s, DataT: 0.014s, Loss: 0.0146, IoU: 0.9733 (val)\n",
      "06-Feb-22 03:45:19 - Ep: [30] TotalT: 39.3 min, BatchT: 0.272s, DataT: 0.003s, GpuDaT: 0.002s, Loss: 0.0134\n",
      "06-Feb-22 03:45:29 - Ep: [30]  ValT: 0.18 min, BatchT: 0.145s, DataT: 0.018s, Loss: 0.0139, IoU: 0.9747 (val)\n",
      "06-Feb-22 03:46:37 - Ep: [31] TotalT: 40.6 min, BatchT: 0.270s, DataT: 0.003s, GpuDaT: 0.002s, Loss: 0.0134\n",
      "06-Feb-22 03:46:48 - Ep: [31]  ValT: 0.17 min, BatchT: 0.140s, DataT: 0.012s, Loss: 0.0140, IoU: 0.9744 (val)\n",
      "06-Feb-22 03:46:48 - LR was reduced to 2.5000e-05\n"
     ]
    },
    {
     "name": "stdout",
     "output_type": "stream",
     "text": [
      "Epoch    25: reducing learning rate of group 0 to 2.5000e-05.\n"
     ]
    },
    {
     "name": "stderr",
     "output_type": "stream",
     "text": [
      "06-Feb-22 03:47:56 - Ep: [32] TotalT: 41.9 min, BatchT: 0.273s, DataT: 0.005s, GpuDaT: 0.002s, Loss: 0.0128\n",
      "06-Feb-22 03:48:07 - Ep: [32]  ValT: 0.17 min, BatchT: 0.137s, DataT: 0.011s, Loss: 0.0138, IoU: 0.9749 (val)\n",
      "06-Feb-22 03:49:15 - Ep: [33] TotalT: 43.2 min, BatchT: 0.270s, DataT: 0.004s, GpuDaT: 0.002s, Loss: 0.0134\n",
      "06-Feb-22 03:49:25 - Ep: [33]  ValT: 0.18 min, BatchT: 0.142s, DataT: 0.017s, Loss: 0.0135, IoU: 0.9755 (val)\n",
      "06-Feb-22 03:50:33 - Ep: [34] TotalT: 44.5 min, BatchT: 0.269s, DataT: 0.003s, GpuDaT: 0.002s, Loss: 0.0126\n",
      "06-Feb-22 03:50:44 - Ep: [34]  ValT: 0.18 min, BatchT: 0.144s, DataT: 0.017s, Loss: 0.0134, IoU: 0.9756 (val)\n",
      "06-Feb-22 03:51:52 - Ep: [35] TotalT: 45.9 min, BatchT: 0.270s, DataT: 0.004s, GpuDaT: 0.002s, Loss: 0.0127\n",
      "06-Feb-22 03:52:02 - Ep: [35]  ValT: 0.17 min, BatchT: 0.139s, DataT: 0.012s, Loss: 0.0131, IoU: 0.9761 (val)\n",
      "06-Feb-22 03:53:11 - Ep: [36] TotalT: 47.2 min, BatchT: 0.272s, DataT: 0.004s, GpuDaT: 0.002s, Loss: 0.0126\n",
      "06-Feb-22 03:53:21 - Ep: [36]  ValT: 0.17 min, BatchT: 0.137s, DataT: 0.012s, Loss: 0.0132, IoU: 0.9761 (val)\n",
      "06-Feb-22 03:54:29 - Ep: [37] TotalT: 48.5 min, BatchT: 0.271s, DataT: 0.003s, GpuDaT: 0.002s, Loss: 0.0126\n",
      "06-Feb-22 03:54:40 - Ep: [37]  ValT: 0.18 min, BatchT: 0.143s, DataT: 0.014s, Loss: 0.0135, IoU: 0.9754 (val)\n",
      "06-Feb-22 03:55:49 - Ep: [38] TotalT: 49.8 min, BatchT: 0.273s, DataT: 0.004s, GpuDaT: 0.002s, Loss: 0.0124\n",
      "06-Feb-22 03:55:59 - Ep: [38]  ValT: 0.17 min, BatchT: 0.138s, DataT: 0.012s, Loss: 0.0133, IoU: 0.9758 (val)\n",
      "06-Feb-22 03:57:07 - Ep: [39] TotalT: 51.1 min, BatchT: 0.271s, DataT: 0.003s, GpuDaT: 0.002s, Loss: 0.0121\n",
      "06-Feb-22 03:57:18 - Ep: [39]  ValT: 0.17 min, BatchT: 0.137s, DataT: 0.013s, Loss: 0.0136, IoU: 0.9751 (val)\n",
      "06-Feb-22 03:57:18 - LR was reduced to 1.2500e-05\n"
     ]
    },
    {
     "name": "stdout",
     "output_type": "stream",
     "text": [
      "Epoch    33: reducing learning rate of group 0 to 1.2500e-05.\n"
     ]
    },
    {
     "name": "stderr",
     "output_type": "stream",
     "text": [
      "06-Feb-22 03:58:26 - Ep: [40] TotalT: 52.4 min, BatchT: 0.272s, DataT: 0.004s, GpuDaT: 0.002s, Loss: 0.0124\n",
      "06-Feb-22 03:58:37 - Ep: [40]  ValT: 0.18 min, BatchT: 0.147s, DataT: 0.019s, Loss: 0.0131, IoU: 0.9761 (val)\n",
      "06-Feb-22 03:59:45 - Ep: [41] TotalT: 53.7 min, BatchT: 0.272s, DataT: 0.004s, GpuDaT: 0.002s, Loss: 0.0121\n",
      "06-Feb-22 03:59:56 - Ep: [41]  ValT: 0.18 min, BatchT: 0.143s, DataT: 0.016s, Loss: 0.0132, IoU: 0.9761 (val)\n",
      "06-Feb-22 04:01:04 - Ep: [42] TotalT: 55.1 min, BatchT: 0.271s, DataT: 0.004s, GpuDaT: 0.002s, Loss: 0.0123\n",
      "06-Feb-22 04:01:15 - Ep: [42]  ValT: 0.18 min, BatchT: 0.149s, DataT: 0.021s, Loss: 0.0132, IoU: 0.9760 (val)\n",
      "06-Feb-22 04:02:23 - Ep: [43] TotalT: 56.4 min, BatchT: 0.270s, DataT: 0.003s, GpuDaT: 0.002s, Loss: 0.0121\n",
      "06-Feb-22 04:02:34 - Ep: [43]  ValT: 0.17 min, BatchT: 0.138s, DataT: 0.013s, Loss: 0.0137, IoU: 0.9751 (val)\n",
      "06-Feb-22 04:03:42 - Ep: [44] TotalT: 57.7 min, BatchT: 0.271s, DataT: 0.003s, GpuDaT: 0.002s, Loss: 0.0120\n",
      "06-Feb-22 04:03:52 - Ep: [44]  ValT: 0.17 min, BatchT: 0.136s, DataT: 0.012s, Loss: 0.0133, IoU: 0.9758 (val)\n",
      "06-Feb-22 04:05:00 - Ep: [45] TotalT: 59.0 min, BatchT: 0.270s, DataT: 0.003s, GpuDaT: 0.002s, Loss: 0.0121\n",
      "06-Feb-22 04:05:10 - Ep: [45]  ValT: 0.17 min, BatchT: 0.139s, DataT: 0.012s, Loss: 0.0131, IoU: 0.9761 (val)\n",
      "06-Feb-22 04:05:10 - LR was reduced to 6.2500e-06\n"
     ]
    },
    {
     "name": "stdout",
     "output_type": "stream",
     "text": [
      "Epoch    39: reducing learning rate of group 0 to 6.2500e-06.\n"
     ]
    },
    {
     "name": "stderr",
     "output_type": "stream",
     "text": [
      "06-Feb-22 04:06:18 - Ep: [46] TotalT: 60.3 min, BatchT: 0.271s, DataT: 0.004s, GpuDaT: 0.002s, Loss: 0.0119\n",
      "06-Feb-22 04:06:29 - Ep: [46]  ValT: 0.17 min, BatchT: 0.138s, DataT: 0.014s, Loss: 0.0129, IoU: 0.9766 (val)\n",
      "06-Feb-22 04:07:37 - Ep: [47] TotalT: 61.6 min, BatchT: 0.270s, DataT: 0.003s, GpuDaT: 0.002s, Loss: 0.0122\n",
      "06-Feb-22 04:07:47 - Ep: [47]  ValT: 0.17 min, BatchT: 0.136s, DataT: 0.012s, Loss: 0.0129, IoU: 0.9766 (val)\n",
      "06-Feb-22 04:08:55 - Ep: [48] TotalT: 62.9 min, BatchT: 0.271s, DataT: 0.004s, GpuDaT: 0.002s, Loss: 0.0120\n",
      "06-Feb-22 04:09:05 - Ep: [48]  ValT: 0.17 min, BatchT: 0.140s, DataT: 0.015s, Loss: 0.0131, IoU: 0.9762 (val)\n",
      "06-Feb-22 04:10:13 - Ep: [49] TotalT: 64.2 min, BatchT: 0.270s, DataT: 0.003s, GpuDaT: 0.002s, Loss: 0.0119\n",
      "06-Feb-22 04:10:24 - Ep: [49]  ValT: 0.17 min, BatchT: 0.140s, DataT: 0.012s, Loss: 0.0130, IoU: 0.9763 (val)\n",
      "06-Feb-22 04:11:32 - Ep: [50] TotalT: 65.5 min, BatchT: 0.273s, DataT: 0.004s, GpuDaT: 0.002s, Loss: 0.0122\n",
      "06-Feb-22 04:11:43 - Ep: [50]  ValT: 0.17 min, BatchT: 0.140s, DataT: 0.014s, Loss: 0.0130, IoU: 0.9763 (val)\n",
      "06-Feb-22 04:12:51 - Ep: [51] TotalT: 66.8 min, BatchT: 0.271s, DataT: 0.003s, GpuDaT: 0.002s, Loss: 0.0117\n",
      "06-Feb-22 04:13:02 - Ep: [51]  ValT: 0.17 min, BatchT: 0.141s, DataT: 0.016s, Loss: 0.0130, IoU: 0.9762 (val)\n",
      "06-Feb-22 04:13:02 - LR was reduced to 3.1250e-06\n"
     ]
    },
    {
     "name": "stdout",
     "output_type": "stream",
     "text": [
      "Epoch    45: reducing learning rate of group 0 to 3.1250e-06.\n"
     ]
    },
    {
     "name": "stderr",
     "output_type": "stream",
     "text": [
      "06-Feb-22 04:14:10 - Ep: [52] TotalT: 68.2 min, BatchT: 0.272s, DataT: 0.004s, GpuDaT: 0.002s, Loss: 0.0116\n",
      "06-Feb-22 04:14:21 - Ep: [52]  ValT: 0.18 min, BatchT: 0.149s, DataT: 0.020s, Loss: 0.0129, IoU: 0.9765 (val)\n",
      "06-Feb-22 04:15:30 - Ep: [53] TotalT: 69.5 min, BatchT: 0.272s, DataT: 0.004s, GpuDaT: 0.002s, Loss: 0.0117\n",
      "06-Feb-22 04:15:40 - Ep: [53]  ValT: 0.17 min, BatchT: 0.139s, DataT: 0.014s, Loss: 0.0129, IoU: 0.9766 (val)\n",
      "06-Feb-22 04:16:48 - Ep: [54] TotalT: 70.8 min, BatchT: 0.271s, DataT: 0.004s, GpuDaT: 0.002s, Loss: 0.0116\n",
      "06-Feb-22 04:16:59 - Ep: [54]  ValT: 0.17 min, BatchT: 0.139s, DataT: 0.012s, Loss: 0.0130, IoU: 0.9764 (val)\n",
      "06-Feb-22 04:18:07 - Ep: [55] TotalT: 72.1 min, BatchT: 0.272s, DataT: 0.004s, GpuDaT: 0.002s, Loss: 0.0121\n",
      "06-Feb-22 04:18:18 - Ep: [55]  ValT: 0.17 min, BatchT: 0.138s, DataT: 0.013s, Loss: 0.0130, IoU: 0.9763 (val)\n",
      "06-Feb-22 04:19:25 - Ep: [56] TotalT: 73.4 min, BatchT: 0.270s, DataT: 0.003s, GpuDaT: 0.002s, Loss: 0.0120\n",
      "06-Feb-22 04:19:36 - Ep: [56]  ValT: 0.18 min, BatchT: 0.143s, DataT: 0.015s, Loss: 0.0130, IoU: 0.9762 (val)\n",
      "06-Feb-22 04:20:45 - Ep: [57] TotalT: 74.7 min, BatchT: 0.273s, DataT: 0.004s, GpuDaT: 0.002s, Loss: 0.0119\n",
      "06-Feb-22 04:20:55 - Ep: [57]  ValT: 0.18 min, BatchT: 0.142s, DataT: 0.018s, Loss: 0.0130, IoU: 0.9763 (val)\n",
      "06-Feb-22 04:20:55 - LR was reduced to 1.5625e-06\n"
     ]
    },
    {
     "name": "stdout",
     "output_type": "stream",
     "text": [
      "Epoch    51: reducing learning rate of group 0 to 1.5625e-06.\n"
     ]
    },
    {
     "name": "stderr",
     "output_type": "stream",
     "text": [
      "06-Feb-22 04:22:03 - Ep: [58] TotalT: 76.0 min, BatchT: 0.270s, DataT: 0.003s, GpuDaT: 0.002s, Loss: 0.0120\n",
      "06-Feb-22 04:22:14 - Ep: [58]  ValT: 0.17 min, BatchT: 0.140s, DataT: 0.014s, Loss: 0.0131, IoU: 0.9760 (val)\n",
      "06-Feb-22 04:23:22 - Ep: [59] TotalT: 77.4 min, BatchT: 0.271s, DataT: 0.004s, GpuDaT: 0.002s, Loss: 0.0119\n",
      "06-Feb-22 04:23:32 - Ep: [59]  ValT: 0.17 min, BatchT: 0.138s, DataT: 0.014s, Loss: 0.0131, IoU: 0.9761 (val)\n",
      "06-Feb-22 04:23:32 - Early Stopping\n",
      "06-Feb-22 04:23:32 - Best validation combination metric of 0.97660 in epoch 53.\n",
      "06-Feb-22 04:23:32 - Training with 1 GPUS\n",
      "06-Feb-22 04:23:32 - Training is done with mixed precision\n"
     ]
    },
    {
     "name": "stdout",
     "output_type": "stream",
     "text": [
      "Train Data Augmentations: [RandomCrop(always_apply=False, p=1.0, height=384, width=384)]\n",
      "Train Image Data Augmentations: []\n",
      "####################################################################################################\n",
      "####################################################################################################\n",
      "Fold 4 --> Train: 9399, Val: 2349\n",
      "####################################################################################################\n",
      "Last 5 sample weights: [1.0, 1.0, 1.0, 1.0, 1.0]\n",
      "unet timm-efficientnet-b1 noisy-student BatchNorm: True Decoder Channel: [256, 128, 64, 32, 16], Decoder Attention Type: None\n"
     ]
    },
    {
     "name": "stderr",
     "output_type": "stream",
     "text": [
      "06-Feb-22 04:24:40 - Ep: [1] TotalT: 1.1 min, BatchT: 0.270s, DataT: 0.003s, GpuDaT: 0.002s, Loss: 0.1128\n",
      "06-Feb-22 04:24:51 - Ep: [1]  ValT: 0.17 min, BatchT: 0.137s, DataT: 0.012s, Loss: 0.0490, IoU: 0.9389 (val)\n",
      "06-Feb-22 04:25:59 - Ep: [2] TotalT: 2.4 min, BatchT: 0.270s, DataT: 0.003s, GpuDaT: 0.002s, Loss: 0.0451\n",
      "06-Feb-22 04:26:09 - Ep: [2]  ValT: 0.17 min, BatchT: 0.139s, DataT: 0.014s, Loss: 0.0346, IoU: 0.9478 (val)\n",
      "06-Feb-22 04:27:18 - Ep: [3] TotalT: 3.8 min, BatchT: 0.273s, DataT: 0.003s, GpuDaT: 0.002s, Loss: 0.0360\n",
      "06-Feb-22 04:27:28 - Ep: [3]  ValT: 0.17 min, BatchT: 0.140s, DataT: 0.015s, Loss: 0.0311, IoU: 0.9506 (val)\n",
      "06-Feb-22 04:28:37 - Ep: [4] TotalT: 5.1 min, BatchT: 0.271s, DataT: 0.003s, GpuDaT: 0.002s, Loss: 0.0304\n",
      "06-Feb-22 04:28:47 - Ep: [4]  ValT: 0.17 min, BatchT: 0.141s, DataT: 0.013s, Loss: 0.0274, IoU: 0.9549 (val)\n",
      "06-Feb-22 04:29:56 - Ep: [5] TotalT: 6.4 min, BatchT: 0.273s, DataT: 0.004s, GpuDaT: 0.002s, Loss: 0.0260\n",
      "06-Feb-22 04:30:07 - Ep: [5]  ValT: 0.18 min, BatchT: 0.144s, DataT: 0.016s, Loss: 0.0263, IoU: 0.9568 (val)\n",
      "06-Feb-22 04:31:15 - Ep: [6] TotalT: 7.7 min, BatchT: 0.272s, DataT: 0.004s, GpuDaT: 0.002s, Loss: 0.0255\n",
      "06-Feb-22 04:31:26 - Ep: [6]  ValT: 0.17 min, BatchT: 0.139s, DataT: 0.015s, Loss: 0.0234, IoU: 0.9605 (val)\n",
      "06-Feb-22 04:32:34 - Ep: [7] TotalT: 9.0 min, BatchT: 0.272s, DataT: 0.004s, GpuDaT: 0.002s, Loss: 0.0222\n",
      "06-Feb-22 04:32:45 - Ep: [7]  ValT: 0.18 min, BatchT: 0.146s, DataT: 0.017s, Loss: 0.0215, IoU: 0.9630 (val)\n",
      "06-Feb-22 04:33:54 - Ep: [8] TotalT: 10.4 min, BatchT: 0.272s, DataT: 0.004s, GpuDaT: 0.002s, Loss: 0.0219\n",
      "06-Feb-22 04:34:04 - Ep: [8]  ValT: 0.17 min, BatchT: 0.135s, DataT: 0.011s, Loss: 0.0231, IoU: 0.9600 (val)\n",
      "06-Feb-22 04:35:13 - Ep: [9] TotalT: 11.7 min, BatchT: 0.273s, DataT: 0.003s, GpuDaT: 0.002s, Loss: 0.0210\n",
      "06-Feb-22 04:35:23 - Ep: [9]  ValT: 0.17 min, BatchT: 0.136s, DataT: 0.012s, Loss: 0.0209, IoU: 0.9638 (val)\n",
      "06-Feb-22 04:36:31 - Ep: [10] TotalT: 13.0 min, BatchT: 0.272s, DataT: 0.004s, GpuDaT: 0.002s, Loss: 0.0196\n",
      "06-Feb-22 04:36:42 - Ep: [10]  ValT: 0.17 min, BatchT: 0.137s, DataT: 0.012s, Loss: 0.0201, IoU: 0.9650 (val)\n",
      "06-Feb-22 04:37:50 - Ep: [11] TotalT: 14.3 min, BatchT: 0.270s, DataT: 0.004s, GpuDaT: 0.002s, Loss: 0.0187\n",
      "06-Feb-22 04:38:00 - Ep: [11]  ValT: 0.18 min, BatchT: 0.142s, DataT: 0.014s, Loss: 0.0205, IoU: 0.9644 (val)\n",
      "06-Feb-22 04:39:09 - Ep: [12] TotalT: 15.6 min, BatchT: 0.272s, DataT: 0.004s, GpuDaT: 0.002s, Loss: 0.0185\n",
      "06-Feb-22 04:39:19 - Ep: [12]  ValT: 0.17 min, BatchT: 0.137s, DataT: 0.012s, Loss: 0.0196, IoU: 0.9655 (val)\n",
      "06-Feb-22 04:40:27 - Ep: [13] TotalT: 16.9 min, BatchT: 0.270s, DataT: 0.003s, GpuDaT: 0.002s, Loss: 0.0180\n",
      "06-Feb-22 04:40:37 - Ep: [13]  ValT: 0.17 min, BatchT: 0.141s, DataT: 0.014s, Loss: 0.0183, IoU: 0.9677 (val)\n",
      "06-Feb-22 04:41:46 - Ep: [14] TotalT: 18.2 min, BatchT: 0.270s, DataT: 0.004s, GpuDaT: 0.002s, Loss: 0.0179\n",
      "06-Feb-22 04:41:56 - Ep: [14]  ValT: 0.17 min, BatchT: 0.138s, DataT: 0.013s, Loss: 0.0180, IoU: 0.9681 (val)\n",
      "06-Feb-22 04:43:04 - Ep: [15] TotalT: 19.5 min, BatchT: 0.271s, DataT: 0.004s, GpuDaT: 0.002s, Loss: 0.0176\n",
      "06-Feb-22 04:43:15 - Ep: [15]  ValT: 0.18 min, BatchT: 0.143s, DataT: 0.017s, Loss: 0.0181, IoU: 0.9680 (val)\n",
      "06-Feb-22 04:44:23 - Ep: [16] TotalT: 20.8 min, BatchT: 0.270s, DataT: 0.003s, GpuDaT: 0.002s, Loss: 0.0176\n",
      "06-Feb-22 04:44:33 - Ep: [16]  ValT: 0.17 min, BatchT: 0.140s, DataT: 0.016s, Loss: 0.0192, IoU: 0.9662 (val)\n",
      "06-Feb-22 04:45:41 - Ep: [17] TotalT: 22.1 min, BatchT: 0.271s, DataT: 0.004s, GpuDaT: 0.002s, Loss: 0.0167\n",
      "06-Feb-22 04:45:52 - Ep: [17]  ValT: 0.17 min, BatchT: 0.141s, DataT: 0.015s, Loss: 0.0185, IoU: 0.9669 (val)\n",
      "06-Feb-22 04:47:01 - Ep: [18] TotalT: 23.5 min, BatchT: 0.274s, DataT: 0.005s, GpuDaT: 0.002s, Loss: 0.0160\n",
      "06-Feb-22 04:47:11 - Ep: [18]  ValT: 0.17 min, BatchT: 0.139s, DataT: 0.013s, Loss: 0.0173, IoU: 0.9688 (val)\n",
      "06-Feb-22 04:48:20 - Ep: [19] TotalT: 24.8 min, BatchT: 0.271s, DataT: 0.003s, GpuDaT: 0.002s, Loss: 0.0161\n",
      "06-Feb-22 04:48:30 - Ep: [19]  ValT: 0.17 min, BatchT: 0.138s, DataT: 0.013s, Loss: 0.0194, IoU: 0.9651 (val)\n",
      "06-Feb-22 04:48:30 - LR was reduced to 5.0000e-05\n"
     ]
    },
    {
     "name": "stdout",
     "output_type": "stream",
     "text": [
      "Epoch    13: reducing learning rate of group 0 to 5.0000e-05.\n"
     ]
    },
    {
     "name": "stderr",
     "output_type": "stream",
     "text": [
      "06-Feb-22 04:49:38 - Ep: [20] TotalT: 26.1 min, BatchT: 0.272s, DataT: 0.004s, GpuDaT: 0.002s, Loss: 0.0154\n",
      "06-Feb-22 04:49:49 - Ep: [20]  ValT: 0.18 min, BatchT: 0.145s, DataT: 0.014s, Loss: 0.0172, IoU: 0.9694 (val)\n",
      "06-Feb-22 04:50:58 - Ep: [21] TotalT: 27.4 min, BatchT: 0.272s, DataT: 0.004s, GpuDaT: 0.002s, Loss: 0.0150\n",
      "06-Feb-22 04:51:08 - Ep: [21]  ValT: 0.17 min, BatchT: 0.139s, DataT: 0.015s, Loss: 0.0157, IoU: 0.9719 (val)\n",
      "06-Feb-22 04:52:16 - Ep: [22] TotalT: 28.7 min, BatchT: 0.271s, DataT: 0.003s, GpuDaT: 0.002s, Loss: 0.0143\n",
      "06-Feb-22 04:52:27 - Ep: [22]  ValT: 0.18 min, BatchT: 0.143s, DataT: 0.015s, Loss: 0.0156, IoU: 0.9721 (val)\n",
      "06-Feb-22 04:53:37 - Ep: [23] TotalT: 30.1 min, BatchT: 0.276s, DataT: 0.005s, GpuDaT: 0.002s, Loss: 0.0150\n",
      "06-Feb-22 04:53:47 - Ep: [23]  ValT: 0.17 min, BatchT: 0.139s, DataT: 0.016s, Loss: 0.0154, IoU: 0.9725 (val)\n",
      "06-Feb-22 04:54:55 - Ep: [24] TotalT: 31.4 min, BatchT: 0.271s, DataT: 0.003s, GpuDaT: 0.002s, Loss: 0.0148\n",
      "06-Feb-22 04:55:06 - Ep: [24]  ValT: 0.18 min, BatchT: 0.144s, DataT: 0.019s, Loss: 0.0152, IoU: 0.9728 (val)\n",
      "06-Feb-22 04:56:14 - Ep: [25] TotalT: 32.7 min, BatchT: 0.270s, DataT: 0.003s, GpuDaT: 0.002s, Loss: 0.0141\n",
      "06-Feb-22 04:56:25 - Ep: [25]  ValT: 0.18 min, BatchT: 0.142s, DataT: 0.014s, Loss: 0.0152, IoU: 0.9730 (val)\n",
      "06-Feb-22 04:57:34 - Ep: [26] TotalT: 34.0 min, BatchT: 0.274s, DataT: 0.005s, GpuDaT: 0.003s, Loss: 0.0141\n",
      "06-Feb-22 04:57:44 - Ep: [26]  ValT: 0.17 min, BatchT: 0.137s, DataT: 0.014s, Loss: 0.0159, IoU: 0.9717 (val)\n",
      "06-Feb-22 04:58:52 - Ep: [27] TotalT: 35.3 min, BatchT: 0.272s, DataT: 0.003s, GpuDaT: 0.002s, Loss: 0.0137\n",
      "06-Feb-22 04:59:03 - Ep: [27]  ValT: 0.17 min, BatchT: 0.137s, DataT: 0.013s, Loss: 0.0154, IoU: 0.9725 (val)\n",
      "06-Feb-22 04:59:03 - LR was reduced to 2.5000e-05\n"
     ]
    },
    {
     "name": "stdout",
     "output_type": "stream",
     "text": [
      "Epoch    21: reducing learning rate of group 0 to 2.5000e-05.\n"
     ]
    },
    {
     "name": "stderr",
     "output_type": "stream",
     "text": [
      "06-Feb-22 05:00:11 - Ep: [28] TotalT: 36.6 min, BatchT: 0.271s, DataT: 0.003s, GpuDaT: 0.002s, Loss: 0.0138\n",
      "06-Feb-22 05:00:21 - Ep: [28]  ValT: 0.17 min, BatchT: 0.138s, DataT: 0.015s, Loss: 0.0148, IoU: 0.9736 (val)\n",
      "06-Feb-22 05:01:29 - Ep: [29] TotalT: 37.9 min, BatchT: 0.270s, DataT: 0.003s, GpuDaT: 0.002s, Loss: 0.0134\n",
      "06-Feb-22 05:01:39 - Ep: [29]  ValT: 0.17 min, BatchT: 0.136s, DataT: 0.013s, Loss: 0.0151, IoU: 0.9728 (val)\n",
      "06-Feb-22 05:02:47 - Ep: [30] TotalT: 39.2 min, BatchT: 0.269s, DataT: 0.003s, GpuDaT: 0.002s, Loss: 0.0132\n",
      "06-Feb-22 05:02:57 - Ep: [30]  ValT: 0.17 min, BatchT: 0.138s, DataT: 0.015s, Loss: 0.0152, IoU: 0.9729 (val)\n",
      "06-Feb-22 05:04:05 - Ep: [31] TotalT: 40.5 min, BatchT: 0.269s, DataT: 0.003s, GpuDaT: 0.002s, Loss: 0.0131\n",
      "06-Feb-22 05:04:15 - Ep: [31]  ValT: 0.17 min, BatchT: 0.136s, DataT: 0.012s, Loss: 0.0149, IoU: 0.9734 (val)\n",
      "06-Feb-22 05:05:22 - Ep: [32] TotalT: 41.8 min, BatchT: 0.268s, DataT: 0.003s, GpuDaT: 0.002s, Loss: 0.0129\n",
      "06-Feb-22 05:05:32 - Ep: [32]  ValT: 0.17 min, BatchT: 0.135s, DataT: 0.012s, Loss: 0.0151, IoU: 0.9730 (val)\n",
      "06-Feb-22 05:06:39 - Ep: [33] TotalT: 43.1 min, BatchT: 0.267s, DataT: 0.003s, GpuDaT: 0.002s, Loss: 0.0131\n",
      "06-Feb-22 05:06:50 - Ep: [33]  ValT: 0.17 min, BatchT: 0.135s, DataT: 0.012s, Loss: 0.0150, IoU: 0.9731 (val)\n",
      "06-Feb-22 05:07:57 - Ep: [34] TotalT: 44.4 min, BatchT: 0.268s, DataT: 0.003s, GpuDaT: 0.002s, Loss: 0.0129\n",
      "06-Feb-22 05:08:07 - Ep: [34]  ValT: 0.17 min, BatchT: 0.136s, DataT: 0.013s, Loss: 0.0149, IoU: 0.9735 (val)\n",
      "06-Feb-22 05:08:07 - LR was reduced to 1.2500e-05\n"
     ]
    },
    {
     "name": "stdout",
     "output_type": "stream",
     "text": [
      "Epoch    28: reducing learning rate of group 0 to 1.2500e-05.\n"
     ]
    },
    {
     "name": "stderr",
     "output_type": "stream",
     "text": [
      "06-Feb-22 05:09:15 - Ep: [35] TotalT: 45.7 min, BatchT: 0.269s, DataT: 0.003s, GpuDaT: 0.002s, Loss: 0.0128\n",
      "06-Feb-22 05:09:25 - Ep: [35]  ValT: 0.17 min, BatchT: 0.134s, DataT: 0.011s, Loss: 0.0145, IoU: 0.9738 (val)\n",
      "06-Feb-22 05:10:32 - Ep: [36] TotalT: 47.0 min, BatchT: 0.268s, DataT: 0.003s, GpuDaT: 0.002s, Loss: 0.0129\n",
      "06-Feb-22 05:10:42 - Ep: [36]  ValT: 0.17 min, BatchT: 0.136s, DataT: 0.013s, Loss: 0.0147, IoU: 0.9736 (val)\n",
      "06-Feb-22 05:11:50 - Ep: [37] TotalT: 48.3 min, BatchT: 0.268s, DataT: 0.003s, GpuDaT: 0.002s, Loss: 0.0123\n",
      "06-Feb-22 05:12:00 - Ep: [37]  ValT: 0.17 min, BatchT: 0.138s, DataT: 0.014s, Loss: 0.0148, IoU: 0.9734 (val)\n",
      "06-Feb-22 05:13:07 - Ep: [38] TotalT: 49.6 min, BatchT: 0.268s, DataT: 0.003s, GpuDaT: 0.002s, Loss: 0.0121\n",
      "06-Feb-22 05:13:18 - Ep: [38]  ValT: 0.17 min, BatchT: 0.138s, DataT: 0.013s, Loss: 0.0146, IoU: 0.9739 (val)\n",
      "06-Feb-22 05:14:25 - Ep: [39] TotalT: 50.9 min, BatchT: 0.267s, DataT: 0.003s, GpuDaT: 0.002s, Loss: 0.0126\n",
      "06-Feb-22 05:14:35 - Ep: [39]  ValT: 0.17 min, BatchT: 0.135s, DataT: 0.012s, Loss: 0.0146, IoU: 0.9737 (val)\n",
      "06-Feb-22 05:15:42 - Ep: [40] TotalT: 52.2 min, BatchT: 0.267s, DataT: 0.003s, GpuDaT: 0.002s, Loss: 0.0124\n",
      "06-Feb-22 05:15:52 - Ep: [40]  ValT: 0.17 min, BatchT: 0.136s, DataT: 0.013s, Loss: 0.0147, IoU: 0.9736 (val)\n",
      "06-Feb-22 05:15:52 - LR was reduced to 6.2500e-06\n"
     ]
    },
    {
     "name": "stdout",
     "output_type": "stream",
     "text": [
      "Epoch    34: reducing learning rate of group 0 to 6.2500e-06.\n"
     ]
    },
    {
     "name": "stderr",
     "output_type": "stream",
     "text": [
      "06-Feb-22 05:17:00 - Ep: [41] TotalT: 53.5 min, BatchT: 0.269s, DataT: 0.003s, GpuDaT: 0.002s, Loss: 0.0120\n",
      "06-Feb-22 05:17:10 - Ep: [41]  ValT: 0.17 min, BatchT: 0.138s, DataT: 0.014s, Loss: 0.0146, IoU: 0.9739 (val)\n",
      "06-Feb-22 05:18:18 - Ep: [42] TotalT: 54.8 min, BatchT: 0.269s, DataT: 0.003s, GpuDaT: 0.002s, Loss: 0.0122\n",
      "06-Feb-22 05:18:28 - Ep: [42]  ValT: 0.17 min, BatchT: 0.138s, DataT: 0.014s, Loss: 0.0146, IoU: 0.9739 (val)\n",
      "06-Feb-22 05:19:36 - Ep: [43] TotalT: 56.1 min, BatchT: 0.269s, DataT: 0.003s, GpuDaT: 0.002s, Loss: 0.0126\n",
      "06-Feb-22 05:19:46 - Ep: [43]  ValT: 0.17 min, BatchT: 0.137s, DataT: 0.014s, Loss: 0.0147, IoU: 0.9735 (val)\n",
      "06-Feb-22 05:20:54 - Ep: [44] TotalT: 57.4 min, BatchT: 0.269s, DataT: 0.004s, GpuDaT: 0.002s, Loss: 0.0122\n",
      "06-Feb-22 05:21:04 - Ep: [44]  ValT: 0.17 min, BatchT: 0.137s, DataT: 0.013s, Loss: 0.0145, IoU: 0.9739 (val)\n",
      "06-Feb-22 05:22:11 - Ep: [45] TotalT: 58.6 min, BatchT: 0.267s, DataT: 0.003s, GpuDaT: 0.002s, Loss: 0.0125\n",
      "06-Feb-22 05:22:21 - Ep: [45]  ValT: 0.17 min, BatchT: 0.136s, DataT: 0.013s, Loss: 0.0146, IoU: 0.9738 (val)\n",
      "06-Feb-22 05:23:29 - Ep: [46] TotalT: 59.9 min, BatchT: 0.268s, DataT: 0.003s, GpuDaT: 0.002s, Loss: 0.0122\n",
      "06-Feb-22 05:23:39 - Ep: [46]  ValT: 0.17 min, BatchT: 0.135s, DataT: 0.013s, Loss: 0.0146, IoU: 0.9737 (val)\n",
      "06-Feb-22 05:23:39 - LR was reduced to 3.1250e-06\n"
     ]
    },
    {
     "name": "stdout",
     "output_type": "stream",
     "text": [
      "Epoch    40: reducing learning rate of group 0 to 3.1250e-06.\n"
     ]
    },
    {
     "name": "stderr",
     "output_type": "stream",
     "text": [
      "06-Feb-22 05:24:46 - Ep: [47] TotalT: 61.2 min, BatchT: 0.267s, DataT: 0.003s, GpuDaT: 0.002s, Loss: 0.0123\n",
      "06-Feb-22 05:24:56 - Ep: [47]  ValT: 0.17 min, BatchT: 0.135s, DataT: 0.012s, Loss: 0.0144, IoU: 0.9742 (val)\n",
      "06-Feb-22 05:26:03 - Ep: [48] TotalT: 62.5 min, BatchT: 0.267s, DataT: 0.003s, GpuDaT: 0.002s, Loss: 0.0123\n",
      "06-Feb-22 05:26:14 - Ep: [48]  ValT: 0.17 min, BatchT: 0.136s, DataT: 0.013s, Loss: 0.0145, IoU: 0.9740 (val)\n",
      "06-Feb-22 05:27:21 - Ep: [49] TotalT: 63.8 min, BatchT: 0.267s, DataT: 0.003s, GpuDaT: 0.002s, Loss: 0.0120\n",
      "06-Feb-22 05:27:31 - Ep: [49]  ValT: 0.17 min, BatchT: 0.137s, DataT: 0.014s, Loss: 0.0142, IoU: 0.9744 (val)\n",
      "06-Feb-22 05:28:38 - Ep: [50] TotalT: 65.1 min, BatchT: 0.267s, DataT: 0.003s, GpuDaT: 0.002s, Loss: 0.0122\n",
      "06-Feb-22 05:28:48 - Ep: [50]  ValT: 0.17 min, BatchT: 0.136s, DataT: 0.013s, Loss: 0.0143, IoU: 0.9743 (val)\n",
      "06-Feb-22 05:29:55 - Ep: [51] TotalT: 66.4 min, BatchT: 0.267s, DataT: 0.003s, GpuDaT: 0.002s, Loss: 0.0123\n",
      "06-Feb-22 05:30:06 - Ep: [51]  ValT: 0.17 min, BatchT: 0.136s, DataT: 0.012s, Loss: 0.0146, IoU: 0.9737 (val)\n",
      "06-Feb-22 05:31:13 - Ep: [52] TotalT: 67.7 min, BatchT: 0.267s, DataT: 0.003s, GpuDaT: 0.002s, Loss: 0.0119\n",
      "06-Feb-22 05:31:23 - Ep: [52]  ValT: 0.17 min, BatchT: 0.137s, DataT: 0.014s, Loss: 0.0145, IoU: 0.9739 (val)\n",
      "06-Feb-22 05:31:23 - LR was reduced to 1.5625e-06\n"
     ]
    },
    {
     "name": "stdout",
     "output_type": "stream",
     "text": [
      "Epoch    46: reducing learning rate of group 0 to 1.5625e-06.\n"
     ]
    },
    {
     "name": "stderr",
     "output_type": "stream",
     "text": [
      "06-Feb-22 05:32:30 - Ep: [53] TotalT: 69.0 min, BatchT: 0.267s, DataT: 0.003s, GpuDaT: 0.002s, Loss: 0.0122\n",
      "06-Feb-22 05:32:40 - Ep: [53]  ValT: 0.17 min, BatchT: 0.135s, DataT: 0.012s, Loss: 0.0144, IoU: 0.9741 (val)\n",
      "06-Feb-22 05:33:47 - Ep: [54] TotalT: 70.2 min, BatchT: 0.267s, DataT: 0.003s, GpuDaT: 0.002s, Loss: 0.0122\n",
      "06-Feb-22 05:33:58 - Ep: [54]  ValT: 0.17 min, BatchT: 0.137s, DataT: 0.014s, Loss: 0.0145, IoU: 0.9740 (val)\n",
      "06-Feb-22 05:35:05 - Ep: [55] TotalT: 71.5 min, BatchT: 0.267s, DataT: 0.003s, GpuDaT: 0.002s, Loss: 0.0119\n",
      "06-Feb-22 05:35:15 - Ep: [55]  ValT: 0.17 min, BatchT: 0.136s, DataT: 0.013s, Loss: 0.0147, IoU: 0.9737 (val)\n",
      "06-Feb-22 05:36:22 - Ep: [56] TotalT: 72.8 min, BatchT: 0.267s, DataT: 0.003s, GpuDaT: 0.002s, Loss: 0.0122\n",
      "06-Feb-22 05:36:32 - Ep: [56]  ValT: 0.17 min, BatchT: 0.135s, DataT: 0.012s, Loss: 0.0145, IoU: 0.9740 (val)\n",
      "06-Feb-22 05:37:39 - Ep: [57] TotalT: 74.1 min, BatchT: 0.267s, DataT: 0.003s, GpuDaT: 0.002s, Loss: 0.0119\n",
      "06-Feb-22 05:37:49 - Ep: [57]  ValT: 0.17 min, BatchT: 0.137s, DataT: 0.013s, Loss: 0.0145, IoU: 0.9740 (val)\n",
      "06-Feb-22 05:38:57 - Ep: [58] TotalT: 75.4 min, BatchT: 0.267s, DataT: 0.003s, GpuDaT: 0.002s, Loss: 0.0121\n",
      "06-Feb-22 05:39:07 - Ep: [58]  ValT: 0.17 min, BatchT: 0.136s, DataT: 0.013s, Loss: 0.0144, IoU: 0.9742 (val)\n",
      "06-Feb-22 05:39:07 - LR was reduced to 7.8125e-07\n"
     ]
    },
    {
     "name": "stdout",
     "output_type": "stream",
     "text": [
      "Epoch    52: reducing learning rate of group 0 to 7.8125e-07.\n"
     ]
    },
    {
     "name": "stderr",
     "output_type": "stream",
     "text": [
      "06-Feb-22 05:40:14 - Ep: [59] TotalT: 76.7 min, BatchT: 0.266s, DataT: 0.003s, GpuDaT: 0.002s, Loss: 0.0122\n",
      "06-Feb-22 05:40:24 - Ep: [59]  ValT: 0.17 min, BatchT: 0.137s, DataT: 0.014s, Loss: 0.0147, IoU: 0.9738 (val)\n",
      "06-Feb-22 05:41:31 - Ep: [60] TotalT: 78.0 min, BatchT: 0.267s, DataT: 0.003s, GpuDaT: 0.002s, Loss: 0.0120\n",
      "06-Feb-22 05:41:41 - Ep: [60]  ValT: 0.17 min, BatchT: 0.136s, DataT: 0.012s, Loss: 0.0144, IoU: 0.9741 (val)\n",
      "06-Feb-22 05:42:49 - Ep: [61] TotalT: 79.3 min, BatchT: 0.267s, DataT: 0.004s, GpuDaT: 0.002s, Loss: 0.0120\n",
      "06-Feb-22 05:42:59 - Ep: [61]  ValT: 0.17 min, BatchT: 0.138s, DataT: 0.015s, Loss: 0.0151, IoU: 0.9731 (val)\n",
      "06-Feb-22 05:44:06 - Ep: [62] TotalT: 80.6 min, BatchT: 0.268s, DataT: 0.003s, GpuDaT: 0.002s, Loss: 0.0119\n",
      "06-Feb-22 05:44:16 - Ep: [62]  ValT: 0.17 min, BatchT: 0.136s, DataT: 0.013s, Loss: 0.0146, IoU: 0.9738 (val)\n",
      "06-Feb-22 05:44:16 - Early Stopping\n",
      "06-Feb-22 05:44:16 - Best validation combination metric of 0.97441 in epoch 49.\n"
     ]
    }
   ],
   "source": [
    "exp_nb = \"7-4\"\n",
    "path = 'data/trainval_2022_02_05.pkl' #'data/trainval_2021_12_31.pkl'\n",
    "\n",
    "hps_dict = {\n",
    "    ############\n",
    "    # Data\n",
    "    ############\n",
    "    \"df_path\": path,\n",
    "\n",
    "    ############\n",
    "    # Training\n",
    "    ############\n",
    "\n",
    "    ## Experiment Setup\n",
    "    \"name\": f\"Exp{exp_nb}\",\n",
    "\n",
    "    ## Model\n",
    "    \"num_classes\": 1,\n",
    "    \"input_channel\": 4,\n",
    "    \"backbone\": \"timm_efficientnet_b1\",\n",
    "    \"pretrained\": 1,\n",
    "    \"model\": \"unet\",\n",
    "\n",
    "    # Training Setup\n",
    "#     \"resume\": \"trained_models/Exp7-4/fold_0/2022-02-05_23-13-25/best_metric_18_0.9768.pt\",\n",
    "    \"print_freq\": 1000,\n",
    "    \"use_fp16\": 1,\n",
    "    \"patience\": 5,\n",
    "\n",
    "    # Optimizer\n",
    "    \"lr\": 0.0001,\n",
    "    \"weight_decay\": 0.0,\n",
    "\n",
    "    ## Data Augmentation on CPU\n",
    "    \"train_crop_size\": 384,\n",
    "    \"train_batch_size\": 32,\n",
    "    \"cutmix_alpha\": 0,\n",
    "    \"da_brightness_magnitude\": 0.0,\n",
    "    \"da_contrast_magnitude\": 0.0,\n",
    "\n",
    "    # Data Augmentation on GPU\n",
    "    \"gpu_da_params\": [0.25],\n",
    "    \n",
    "    ### Loss, Metric\n",
    "    \"alpha\": 0,\n",
    "#     \"loss\": \"lovasz\",\n",
    "           }\n",
    "\n",
    "for fold_nb in range(5):\n",
    "    hps = HyperParams(**hps_dict)\n",
    "    hps.fold_nb = fold_nb\n",
    "    num_batches = 8000 // (32 * torch.cuda.device_count())\n",
    "    hps.num_batches = num_batches\n",
    "    train_dataset, train_loader, val_dataset, val_loader = get_dataloaders(hps)\n",
    "#     continue\n",
    "\n",
    "    best_metric, best_metric_epoch = train(hps, train_loader, val_loader)"
   ]
  },
  {
   "cell_type": "markdown",
   "id": "marked-dinner",
   "metadata": {},
   "source": [
    "# Validate"
   ]
  },
  {
   "cell_type": "markdown",
   "id": "indirect-adventure",
   "metadata": {},
   "source": [
    "## Get best threshold"
   ]
  },
  {
   "cell_type": "code",
   "execution_count": 3,
   "id": "reliable-toronto",
   "metadata": {
    "ExecuteTime": {
     "end_time": "2022-02-05T22:09:55.204155Z",
     "start_time": "2022-02-05T22:09:55.172435Z"
    }
   },
   "outputs": [
    {
     "data": {
      "text/plain": [
       "HyperParams(df_path='data/trainval_2022_01_03_2.pkl', fold_nb=0, only_val=False, train_batch_size=32, val_batch_size=32, train_crop_size=384, randomsizecrop_interpolation=1, da_p_cutout=0.0, cutmix_alpha=0.0, random_sized_params=[0.0, 0.0], da_brightness_magnitude=0.0, da_contrast_magnitude=0.0, name='Exp7-3', num_classes=1, input_channel=4, extra_bands=[], smp_decoder_use_batchnorm=True, smp_decoder_channels_mult=1.0, smp_decoder_use_attention=False, backbone='timm_efficientnet_b1', pretrained=1, model='unetplusplus', n_epochs=1000, use_fp16=1, patience=4, num_batches=250, print_freq=1000, weight_decay=0.0, lr=0.001, gpu_da_params=[0.25], alpha=0.5)"
      ]
     },
     "execution_count": 3,
     "metadata": {},
     "output_type": "execute_result"
    }
   ],
   "source": [
    "hps = HyperParams(**open_from_yaml(\"trained_models/Exp7-3\"))\n",
    "hps"
   ]
  },
  {
   "cell_type": "code",
   "execution_count": 2,
   "id": "inclusive-return",
   "metadata": {
    "ExecuteTime": {
     "end_time": "2022-02-06T09:18:35.103472Z",
     "start_time": "2022-02-06T09:17:10.233803Z"
    },
    "scrolled": true
   },
   "outputs": [
    {
     "name": "stdout",
     "output_type": "stream",
     "text": [
      "data/trainval_2021_12_20.pkl\n",
      "unet timm-efficientnet-b1 noisy-student BatchNorm: True Decoder Channel: [256, 128, 64, 32, 16], Decoder Attention Type: None\n",
      "Loaded trained_models/Exp12-0/fold_0/2022-02-06_00-24-24/best_metric_31_0.9111.pt at epoch 31\n",
      "unet timm-efficientnet-b1 noisy-student BatchNorm: True Decoder Channel: [256, 128, 64, 32, 16], Decoder Attention Type: None\n",
      "Loaded trained_models/Exp12-0/fold_1/2022-02-06_01-30-34/best_metric_29_0.9221.pt at epoch 29\n",
      "unet timm-efficientnet-b1 noisy-student BatchNorm: True Decoder Channel: [256, 128, 64, 32, 16], Decoder Attention Type: None\n",
      "Loaded trained_models/Exp12-0/fold_2/2022-02-06_02-36-46/best_metric_31_0.9129.pt at epoch 31\n",
      "unet timm-efficientnet-b1 noisy-student BatchNorm: True Decoder Channel: [256, 128, 64, 32, 16], Decoder Attention Type: None\n",
      "Loaded trained_models/Exp12-0/fold_3/2022-02-06_03-42-36/best_metric_31_0.9122.pt at epoch 31\n",
      "unet timm-efficientnet-b1 noisy-student BatchNorm: True Decoder Channel: [256, 128, 64, 32, 16], Decoder Attention Type: None\n",
      "Loaded trained_models/Exp12-0/fold_4/2022-02-06_04-46-48/best_metric_29_0.9155.pt at epoch 29\n",
      "####################################################################################################\n",
      "Performance @ t = 0.30 (['Exp12-0'])\n",
      "====================================================================================================\n",
      "recall       0.977226\n",
      "precision    0.915227\n",
      "IoU          0.896113\n",
      "dtype: float64\n",
      "####################################################################################################\n",
      "Performance @ t = 0.35 (['Exp12-0'])\n",
      "====================================================================================================\n",
      "recall       0.973477\n",
      "precision    0.926139\n",
      "IoU          0.903345\n",
      "dtype: float64\n",
      "####################################################################################################\n",
      "Performance @ t = 0.40 (['Exp12-0'])\n",
      "====================================================================================================\n",
      "recall       0.969452\n",
      "precision    0.935893\n",
      "IoU          0.909084\n",
      "dtype: float64\n",
      "####################################################################################################\n",
      "Performance @ t = 0.45 (['Exp12-0'])\n",
      "====================================================================================================\n",
      "recall       0.964641\n",
      "precision    0.944524\n",
      "IoU          0.912917\n",
      "dtype: float64\n",
      "####################################################################################################\n",
      "Performance @ t = 0.50 (['Exp12-0'])\n",
      "====================================================================================================\n",
      "recall       0.959407\n",
      "precision    0.951589\n",
      "IoU          0.914758\n",
      "dtype: float64\n",
      "####################################################################################################\n",
      "Performance @ t = 0.55 (['Exp12-0'])\n",
      "====================================================================================================\n",
      "recall       0.953437\n",
      "precision    0.957105\n",
      "IoU          0.914365\n",
      "dtype: float64\n",
      "####################################################################################################\n",
      "Performance @ t = 0.60 (['Exp12-0'])\n",
      "====================================================================================================\n",
      "recall       0.947130\n",
      "precision    0.961160\n",
      "IoU          0.912217\n",
      "dtype: float64\n",
      "####################################################################################################\n",
      "Performance @ t = 0.50 (['Exp12-0'])\n",
      "====================================================================================================\n",
      "recall       0.959407\n",
      "precision    0.951589\n",
      "IoU          0.914758\n",
      "dtype: float64\n",
      "====================================================================================================\n",
      "Best IoU of @0.50: 0.9148\n"
     ]
    }
   ],
   "source": [
    "hps = HyperParams(**open_from_yaml(\"trained_models/Exp12-0\"))\n",
    "print(hps.df_path)\n",
    "df, stats, best_threshold = cross_validation([hps], thresholds=[0.3, 0.35, 0.4, 0.45, 0.5, 0.55, 0.6], debug=True)"
   ]
  },
  {
   "cell_type": "code",
   "execution_count": 6,
   "id": "incomplete-letters",
   "metadata": {
    "ExecuteTime": {
     "end_time": "2022-01-21T08:08:42.781449Z",
     "start_time": "2022-01-21T08:05:52.360284Z"
    },
    "scrolled": true
   },
   "outputs": [
    {
     "name": "stdout",
     "output_type": "stream",
     "text": [
      "unetplusplus timm-efficientnet-b1 noisy-student BatchNorm: True Decoder Channel: [256, 128, 64, 32, 16], Decoder Attention Type: None\n",
      "Loaded trained_models/Exp9-0/fold_0/2022-01-20_19-01-20/best_metric_40_0.9677.pt at epoch 40\n",
      "unetplusplus timm-efficientnet-b1 noisy-student BatchNorm: True Decoder Channel: [256, 128, 64, 32, 16], Decoder Attention Type: None\n",
      "Loaded trained_models/Exp9-1/fold_0/2022-01-20_11-22-02/best_metric_46_0.9667.pt at epoch 46\n",
      "unetplusplus timm-efficientnet-b1 noisy-student BatchNorm: True Decoder Channel: [256, 128, 64, 32, 16], Decoder Attention Type: None\n",
      "Loaded trained_models/Exp9-0/fold_1/2022-01-20_20-28-12/best_metric_32_0.9669.pt at epoch 32\n",
      "unetplusplus timm-efficientnet-b1 noisy-student BatchNorm: True Decoder Channel: [256, 128, 64, 32, 16], Decoder Attention Type: None\n",
      "Loaded trained_models/Exp9-1/fold_1/2022-01-20_12-50-05/best_metric_43_0.9664.pt at epoch 43\n",
      "unetplusplus timm-efficientnet-b1 noisy-student BatchNorm: True Decoder Channel: [256, 128, 64, 32, 16], Decoder Attention Type: None\n",
      "Loaded trained_models/Exp9-0/fold_2/2022-01-20_21-41-48/best_metric_30_0.9679.pt at epoch 30\n",
      "unetplusplus timm-efficientnet-b1 noisy-student BatchNorm: True Decoder Channel: [256, 128, 64, 32, 16], Decoder Attention Type: None\n",
      "Loaded trained_models/Exp9-1/fold_2/2022-01-20_14-23-16/best_metric_43_0.9674.pt at epoch 43\n",
      "unetplusplus timm-efficientnet-b1 noisy-student BatchNorm: True Decoder Channel: [256, 128, 64, 32, 16], Decoder Attention Type: None\n",
      "Loaded trained_models/Exp9-0/fold_3/2022-01-20_22-51-56/best_metric_42_0.9677.pt at epoch 42\n",
      "unetplusplus timm-efficientnet-b1 noisy-student BatchNorm: True Decoder Channel: [256, 128, 64, 32, 16], Decoder Attention Type: None\n",
      "Loaded trained_models/Exp9-1/fold_3/2022-01-20_15-52-37/best_metric_47_0.9669.pt at epoch 47\n",
      "unetplusplus timm-efficientnet-b1 noisy-student BatchNorm: True Decoder Channel: [256, 128, 64, 32, 16], Decoder Attention Type: None\n",
      "Loaded trained_models/Exp9-0/fold_4/2022-01-21_00-07-16/best_metric_39_0.9687.pt at epoch 39\n",
      "unetplusplus timm-efficientnet-b1 noisy-student BatchNorm: True Decoder Channel: [256, 128, 64, 32, 16], Decoder Attention Type: None\n",
      "Loaded trained_models/Exp9-1/fold_4/2022-01-20_17-32-06/best_metric_51_0.9682.pt at epoch 51\n",
      "####################################################################################################\n",
      "Performance @ t = 0.5 (['Exp9-0', 'Exp9-1'])\n",
      "====================================================================================================\n",
      "recall       0.984082\n",
      "precision    0.983686\n",
      "IoU          0.968280\n",
      "dtype: float64\n",
      "====================================================================================================\n",
      "Best IoU of @0.5: 0.9683\n"
     ]
    }
   ],
   "source": [
    "hps_list = []\n",
    "hps_list.append(HyperParams(**open_from_yaml(\"trained_models/Exp9-0\")))\n",
    "hps_list.append(HyperParams(**open_from_yaml(\"trained_models/Exp9-1\")))\n",
    "df, stats, best_threshold = cross_validation(hps_list, debug=False)"
   ]
  },
  {
   "cell_type": "markdown",
   "id": "abroad-framework",
   "metadata": {},
   "source": [
    "## Visualize"
   ]
  },
  {
   "cell_type": "code",
   "execution_count": 5,
   "id": "numerous-mattress",
   "metadata": {
    "ExecuteTime": {
     "end_time": "2022-01-27T20:28:48.228534Z",
     "start_time": "2022-01-27T20:28:48.183400Z"
    }
   },
   "outputs": [
    {
     "name": "stdout",
     "output_type": "stream",
     "text": [
      "Exp9-1\n"
     ]
    }
   ],
   "source": [
    "hps_list = []\n",
    "hps = HyperParams(**open_from_yaml(\"trained_models/Exp9-1\"))\n",
    "hps_list.append(hps)\n",
    "df = pd.read_pickle(hps.df_path)\n",
    "\n",
    "pred_name = \"_\".join([hps_.name for hps_ in hps_list])\n",
    "print(pred_name)\n",
    "threshold = 0.5 #0.8 #0.3"
   ]
  },
  {
   "cell_type": "code",
   "execution_count": 6,
   "id": "typical-montana",
   "metadata": {
    "ExecuteTime": {
     "end_time": "2022-01-27T20:30:04.485808Z",
     "start_time": "2022-01-27T20:28:48.229869Z"
    }
   },
   "outputs": [
    {
     "name": "stdout",
     "output_type": "stream",
     "text": [
      "unetplusplus timm-efficientnet-b1 noisy-student BatchNorm: True Decoder Channel: [256, 128, 64, 32, 16], Decoder Attention Type: None\n",
      "Loaded trained_models/Exp9-1/fold_0/2022-01-20_11-22-02/best_metric_46_0.9667.pt at epoch 46\n",
      "unetplusplus timm-efficientnet-b1 noisy-student BatchNorm: True Decoder Channel: [256, 128, 64, 32, 16], Decoder Attention Type: None\n",
      "Loaded trained_models/Exp9-1/fold_1/2022-01-20_12-50-05/best_metric_43_0.9664.pt at epoch 43\n",
      "unetplusplus timm-efficientnet-b1 noisy-student BatchNorm: True Decoder Channel: [256, 128, 64, 32, 16], Decoder Attention Type: None\n",
      "Loaded trained_models/Exp9-1/fold_2/2022-01-20_14-23-16/best_metric_43_0.9674.pt at epoch 43\n",
      "unetplusplus timm-efficientnet-b1 noisy-student BatchNorm: True Decoder Channel: [256, 128, 64, 32, 16], Decoder Attention Type: None\n",
      "Loaded trained_models/Exp9-1/fold_3/2022-01-20_15-52-37/best_metric_47_0.9669.pt at epoch 47\n",
      "unetplusplus timm-efficientnet-b1 noisy-student BatchNorm: True Decoder Channel: [256, 128, 64, 32, 16], Decoder Attention Type: None\n",
      "Loaded trained_models/Exp9-1/fold_4/2022-01-20_17-32-06/best_metric_51_0.9682.pt at epoch 51\n"
     ]
    },
    {
     "name": "stderr",
     "output_type": "stream",
     "text": [
      "/opt/conda/lib/python3.8/site-packages/numpy/lib/npyio.py:528: VisibleDeprecationWarning: Creating an ndarray from ragged nested sequences (which is a list-or-tuple of lists-or-tuples-or ndarrays with different lengths or shapes) is deprecated. If you meant to do this, you must specify 'dtype=object' when creating the ndarray.\n",
      "  arr = np.asanyarray(arr)\n"
     ]
    }
   ],
   "source": [
    "also_save_preds = True\n",
    "\n",
    "subset = \"val_all_folds\"\n",
    "export = return_metrics_all_folds(hps_list, threshold=threshold, on_gpu=True, output_spatial_size=(512, 512), also_save_preds=also_save_preds,\n",
    "                                  save_path=f\"/data/C2S_CNN/predictions/{pred_name}_{subset}.bc\")\n",
    "export_path = f\"/data/C2S_CNN/predictions/metrics_{pred_name}_{subset}.npy\"\n",
    "np.save(export_path, export)"
   ]
  },
  {
   "cell_type": "code",
   "execution_count": 21,
   "id": "precise-ethernet",
   "metadata": {
    "ExecuteTime": {
     "end_time": "2022-01-27T20:47:02.272593Z",
     "start_time": "2022-01-27T20:47:02.227931Z"
    }
   },
   "outputs": [
    {
     "name": "stdout",
     "output_type": "stream",
     "text": [
      "Exp9-0_Exp9-1\n"
     ]
    }
   ],
   "source": [
    "hps_list = []\n",
    "hps = HyperParams(**open_from_yaml(\"trained_models/Exp9-1\"))\n",
    "hps_list.append(hps)\n",
    "df = pd.read_pickle(hps.df_path)\n",
    "\n",
    "pred_name = \"_\".join([hps_.name for hps_ in hps_list])\n",
    "print(pred_name)\n",
    "threshold = 0.5 #0.8 #0.3"
   ]
  },
  {
   "cell_type": "code",
   "execution_count": 22,
   "id": "elder-october",
   "metadata": {
    "ExecuteTime": {
     "end_time": "2022-01-27T20:47:02.482317Z",
     "start_time": "2022-01-27T20:47:02.379055Z"
    }
   },
   "outputs": [
    {
     "name": "stdout",
     "output_type": "stream",
     "text": [
      "(11748, 512, 512)\n",
      "11748 11748\n"
     ]
    }
   ],
   "source": [
    "subset = \"val_all_folds\"\n",
    "\n",
    "export_path = f\"/data/C2S_CNN/predictions/metrics_{pred_name}_{subset}.npy\"\n",
    "pred_path = f\"/data/C2S_CNN/predictions/{pred_name}_{subset}.bc\"\n",
    "preds = bcolz.open(pred_path)\n",
    "\n",
    "_, tps, fps, fns = np.load(export_path, allow_pickle=True)\n",
    "print(preds.shape)\n",
    "    \n",
    "img_paths, GT_paths, biomes = [], [], []\n",
    "hps.only_val = True\n",
    "for fold_nb in range(5):    \n",
    "    hps.fold_nb = fold_nb\n",
    "    val_dataset, val_loader = get_dataloaders(hps=hps)\n",
    "    img_paths.extend(val_dataset.img_paths)\n",
    "    GT_paths.extend(val_dataset.mask_paths)\n",
    "\n",
    "print(len(img_paths), len(GT_paths))"
   ]
  },
  {
   "cell_type": "code",
   "execution_count": 34,
   "id": "worthy-student",
   "metadata": {
    "ExecuteTime": {
     "end_time": "2022-01-27T21:00:30.854871Z",
     "start_time": "2022-01-27T21:00:30.827921Z"
    }
   },
   "outputs": [],
   "source": [
    "preds_list = [bcolz.open(f\"/data/C2S_CNN/predictions/Exp9-0_{subset}.bc\"), bcolz.open(f\"/data/C2S_CNN/predictions/Exp9-1_{subset}.bc\")]\n",
    "\n",
    "tp_col, fp_col, fn_col, pred_stds_015 = [], [], [], []\n",
    "for img_path in tqdm(df[\"B02_path\"].tolist()):\n",
    "    i = img_paths.index(img_path)\n",
    "    tp_col.append(tps[i])\n",
    "    fp_col.append(fps[i])\n",
    "    fn_col.append(fns[i])\n",
    "    pred = np.array([(preds[i].astype(np.float32) / 255.0) for preds in preds_list])\n",
    "    pred_std = np.std(pred, axis=0)\n",
    "    pred_stds_015.append((pred_std > 0.15).sum())\n",
    "\n",
    "df[\"tps\"] = tp_col\n",
    "df[\"fps\"] = fp_col\n",
    "df[\"fns\"] = fn_col\n",
    "df[\"pred_std_015_sum\"] = pred_stds_015\n",
    "\n",
    "calc_more_columns = True\n",
    "results = df.groupby(\"location\").apply(lambda grp: calc_ious(grp, calc_more_columns=calc_more_columns))"
   ]
  },
  {
   "cell_type": "code",
   "execution_count": 48,
   "id": "growing-grammar",
   "metadata": {
    "ExecuteTime": {
     "end_time": "2022-01-27T21:05:59.423143Z",
     "start_time": "2022-01-27T21:05:59.397892Z"
    },
    "scrolled": true
   },
   "outputs": [],
   "source": [
    "selection_criteria = \"FP+FN\" #\"FP+FN\" #\"FP+FN ratio\" #\"(FP+FN)/TP ratio\" #\"FP+FN\" #\"random\" #\"FP+FN\" #\"random\" \n",
    "specific_location = 0 #\"Senanga\" #\"Matadi\" #\"South America - Argentina\" #0 #\"Santa Cruz do Sul\" #\"Timbuktu\" #0 #\"Eritrea\" #0\n",
    "\n",
    "looked_at_paths, looked_at_idx = visualize_single_model(\n",
    "    df, tps, fps, fns, preds_list, threshold, img_paths, GT_paths, export_how_many=150, skip_how_many=0, alpha=0.4, selection_criteria=selection_criteria, specific_location=specific_location)"
   ]
  },
  {
   "cell_type": "code",
   "execution_count": 40,
   "id": "judicial-skirt",
   "metadata": {
    "ExecuteTime": {
     "end_time": "2022-01-21T09:11:16.324168Z",
     "start_time": "2022-01-21T09:11:16.260274Z"
    },
    "scrolled": true
   },
   "outputs": [
    {
     "data": {
      "text/plain": [
       "['data/train_features/dlmw/B02.tif',\n",
       " 'data/train_features/qjkg/B02.tif',\n",
       " 'data/train_features/yuji/B02.tif',\n",
       " 'data/train_features/iimu/B02.tif',\n",
       " 'data/train_features/tgdi/B02.tif',\n",
       " 'data/train_features/dfdi/B02.tif',\n",
       " 'data/train_features/dget/B02.tif',\n",
       " 'data/train_features/lcrt/B02.tif',\n",
       " 'data/train_features/rrdb/B02.tif',\n",
       " 'data/train_features/vdjb/B02.tif',\n",
       " 'data/train_features/agtf/B02.tif',\n",
       " 'data/train_features/pctp/B02.tif']"
      ]
     },
     "execution_count": 40,
     "metadata": {},
     "output_type": "execute_result"
    }
   ],
   "source": [
    "idx_to_match = [420, 8504, 10706, 7425, 7417, 2278, 7993, 9420, 1418, 8806, 6399, 5481, ]\n",
    "[path for idx, path in enumerate(img_paths) if idx in idx_to_match]"
   ]
  },
  {
   "cell_type": "markdown",
   "id": "postal-analyst",
   "metadata": {},
   "source": [
    "## Overwrite wrong labels with predictions"
   ]
  },
  {
   "cell_type": "markdown",
   "id": "frequent-reunion",
   "metadata": {},
   "source": [
    "### v1"
   ]
  },
  {
   "cell_type": "code",
   "execution_count": 4,
   "id": "pressed-education",
   "metadata": {
    "ExecuteTime": {
     "end_time": "2022-02-05T22:10:06.654945Z",
     "start_time": "2022-02-05T22:10:06.557815Z"
    }
   },
   "outputs": [
    {
     "name": "stdout",
     "output_type": "stream",
     "text": [
      "Exp0\n",
      "(11745, 512, 512)\n",
      "11745 11745\n"
     ]
    }
   ],
   "source": [
    "hps_list = []\n",
    "hps_dict = open_from_yaml(\"trained_models/Exp0\")\n",
    "hps_dict.pop(\"gamma\")\n",
    "hps = HyperParams(**hps_dict)\n",
    "hps_list.append(hps)\n",
    "df = pd.read_pickle(hps.df_path)\n",
    "\n",
    "threshold = 0.5 #0.3 #0.8 #0.3\n",
    "df = pd.read_pickle(hps.df_path)\n",
    "df = df.reset_index(drop=True)\n",
    "# img_paths = df[\"B02_path\"].tolist()\n",
    "\n",
    "pred_name = \"_\".join([hps_.name for hps_ in hps_list])\n",
    "print(pred_name)\n",
    "subset = \"val_all_folds\"\n",
    "\n",
    "pred_path = f\"/data/C2S_CNN/predictions/{pred_name}_{subset}.bc\"\n",
    "preds = bcolz.open(pred_path)\n",
    "print(preds.shape)\n",
    "\n",
    "img_paths, GT_paths, biomes = [], [], []\n",
    "hps.only_val = True\n",
    "for fold_nb in range(5):    \n",
    "    hps.fold_nb = fold_nb\n",
    "    val_dataset, val_loader = get_dataloaders(hps=hps)\n",
    "    img_paths.extend(val_dataset.img_paths)\n",
    "    GT_paths.extend(val_dataset.mask_paths)\n",
    "\n",
    "print(len(img_paths), len(GT_paths))"
   ]
  },
  {
   "cell_type": "code",
   "execution_count": 5,
   "id": "bibliographic-campus",
   "metadata": {
    "ExecuteTime": {
     "end_time": "2022-02-05T22:10:08.250004Z",
     "start_time": "2022-02-05T22:10:07.169057Z"
    },
    "scrolled": false
   },
   "outputs": [
    {
     "name": "stdout",
     "output_type": "stream",
     "text": [
      "empty     : Replaced 18 labels\n",
      "full      : Replaced 0 labels\n",
      "use_pred  : Replaced 449 labels\n"
     ]
    }
   ],
   "source": [
    "relabel_based_on_preds(relabeling_v1, img_paths, GT_paths, preds, threshold=threshold, debug=False)"
   ]
  },
  {
   "cell_type": "markdown",
   "id": "biological-reunion",
   "metadata": {},
   "source": [
    "# Submit"
   ]
  },
  {
   "cell_type": "markdown",
   "id": "otherwise-motor",
   "metadata": {},
   "source": [
    "## Export models to jit and copy jit paths"
   ]
  },
  {
   "cell_type": "code",
   "execution_count": 2,
   "id": "unique-category",
   "metadata": {
    "ExecuteTime": {
     "end_time": "2022-01-28T16:37:14.579359Z",
     "start_time": "2022-01-28T16:37:14.549215Z"
    }
   },
   "outputs": [],
   "source": [
    "def export_to_jit(experiment_yaml_path,  model_export_root=\"benchmark_src/assets\"):\n",
    "    \"\"\"Traces and exports a PyTorch model to jit\"\"\"\n",
    "    hps = HyperParams(**open_from_yaml(experiment_yaml_path))\n",
    "    hps.pretrained = False\n",
    "    experiment_name = experiment_yaml_path.split(\"/\")[-4]\n",
    "    fold_nb = experiment_yaml_path.split(\"/\")[-3].split(\"_\")[-1]\n",
    "    example_tensor = torch.rand(2, hps.input_channel, 256, 256).cuda()\n",
    "    model = build_model(hps)\n",
    "    model = model.cuda()\n",
    "    model.eval()\n",
    "    model_weights_paths = glob.glob(f\"{'/'.join(experiment_yaml_path.split('/')[:-1])}/*.pt\")\n",
    "    if len(model_weights_paths) != 1:\n",
    "        raise ValueError(f\"No model weights or multiple found: {model_weights_paths}\")\n",
    "    model_checkpoint = torch.load(model_weights_paths[0])\n",
    "    model.load_state_dict(model_checkpoint[\"model_state_dict\"])\n",
    "    traced_script_module = torch.jit.trace(model, example_tensor, check_trace=True, check_tolerance=1e-05)\n",
    "    os.makedirs(model_export_root, exist_ok=True)\n",
    "    jit_export_path = f\"{model_export_root}/CNN-{experiment_name}_fold{fold_nb}_jit.pt\"\n",
    "    print(f\"Exporting jit model to {jit_export_path}\")\n",
    "    traced_script_module.save(jit_export_path)"
   ]
  },
  {
   "cell_type": "code",
   "execution_count": 1,
   "id": "preceding-wildlife",
   "metadata": {
    "ExecuteTime": {
     "end_time": "2022-05-02T09:00:43.922575Z",
     "start_time": "2022-05-02T09:00:43.919960Z"
    }
   },
   "outputs": [],
   "source": [
    "# import shutil\n",
    "# shutil.rmtree(\"benchmark_src/assets/\")"
   ]
  },
  {
   "cell_type": "code",
   "execution_count": 5,
   "id": "directed-determination",
   "metadata": {
    "ExecuteTime": {
     "end_time": "2022-01-27T09:51:53.290686Z",
     "start_time": "2022-01-27T09:51:42.983503Z"
    }
   },
   "outputs": [
    {
     "name": "stdout",
     "output_type": "stream",
     "text": [
      "unetplusplus timm-efficientnet-b1 noisy-student BatchNorm: True Decoder Channel: [256, 128, 64, 32, 16], Decoder Attention Type: None\n",
      "Exporting jit model to benchmark_src/assets/CNN-Exp4-1_fold4_jit.pt\n",
      "unetplusplus timm-efficientnet-b1 noisy-student BatchNorm: True Decoder Channel: [256, 128, 64, 32, 16], Decoder Attention Type: None\n",
      "Exporting jit model to benchmark_src/assets/CNN-Exp4-1_fold3_jit.pt\n",
      "unetplusplus timm-efficientnet-b1 noisy-student BatchNorm: True Decoder Channel: [256, 128, 64, 32, 16], Decoder Attention Type: None\n",
      "Exporting jit model to benchmark_src/assets/CNN-Exp4-1_fold2_jit.pt\n",
      "unetplusplus timm-efficientnet-b1 noisy-student BatchNorm: True Decoder Channel: [256, 128, 64, 32, 16], Decoder Attention Type: None\n",
      "Exporting jit model to benchmark_src/assets/CNN-Exp4-1_fold0_jit.pt\n",
      "unetplusplus timm-efficientnet-b1 noisy-student BatchNorm: True Decoder Channel: [256, 128, 64, 32, 16], Decoder Attention Type: None\n",
      "Exporting jit model to benchmark_src/assets/CNN-Exp4-1_fold1_jit.pt\n"
     ]
    }
   ],
   "source": [
    "for path in glob.glob(\"trained_models/Exp4-1/*/*/*.yaml\")[:]:\n",
    "    export_to_jit(path)"
   ]
  },
  {
   "cell_type": "markdown",
   "id": "equivalent-breast",
   "metadata": {},
   "source": [
    "## Predict"
   ]
  },
  {
   "cell_type": "code",
   "execution_count": 3,
   "id": "temporal-thesis",
   "metadata": {
    "ExecuteTime": {
     "end_time": "2022-01-28T16:37:57.057396Z",
     "start_time": "2022-01-28T16:37:57.026353Z"
    }
   },
   "outputs": [
    {
     "name": "stdout",
     "output_type": "stream",
     "text": [
      "Overwriting benchmark_src/main.py\n"
     ]
    }
   ],
   "source": [
    "%%file benchmark_src/main.py\n",
    "import os\n",
    "from pathlib import Path\n",
    "from typing import List\n",
    "\n",
    "from loguru import logger\n",
    "import pandas as pd\n",
    "from PIL import Image\n",
    "import torch\n",
    "import typer\n",
    "import numpy as np\n",
    "import tifffile\n",
    "import segmentation_models_pytorch as smp\n",
    "\n",
    "#### DRIVENDATA\n",
    "ROOT_DIRECTORY = Path(\"/codeexecution\")\n",
    "PREDICTIONS_DIRECTORY = ROOT_DIRECTORY / \"predictions\"\n",
    "ASSETS_DIRECTORY = ROOT_DIRECTORY / \"assets\"\n",
    "DATA_DIRECTORY = ROOT_DIRECTORY / \"data\"\n",
    "INPUT_IMAGES_DIRECTORY = DATA_DIRECTORY / \"test_features\"\n",
    "\n",
    "# ###### LOCAL TESTING\n",
    "# ROOT_DIRECTORY = Path(\"benchmark_src\")\n",
    "# DATA_DIRECTORY = Path(\"data\")\n",
    "# PREDICTIONS_DIRECTORY = ROOT_DIRECTORY / \"predictions\"\n",
    "# ASSETS_DIRECTORY = ROOT_DIRECTORY / \"assets\"\n",
    "# INPUT_IMAGES_DIRECTORY = DATA_DIRECTORY / \"test_features\"\n",
    "\n",
    "# Set the pytorch cache directory and include cached models in your submission.zip\n",
    "os.environ[\"TORCH_HOME\"] = str(ASSETS_DIRECTORY / \"assets/torch\")\n",
    "\n",
    "class TestDataset(torch.utils.data.Dataset):\n",
    "    def __init__(self, img_paths):\n",
    "        self.img_paths = img_paths\n",
    "\n",
    "    def __getitem__(self, idx):\n",
    "        arr_x = tifffile.imread([self.img_paths[idx].replace(\"B02.tif\", f\"B0{k}.tif\") for k in [2, 3, 4, 8]])\n",
    "        arr_x = np.nan_to_num(arr_x)\n",
    "        arr_x = (arr_x / 2 ** 16).astype(np.float32)\n",
    "\n",
    "        sample = {\"image\": arr_x}\n",
    "        sample[\"chip_id\"] = self.img_paths[idx].split(\"/\")[-2]\n",
    "        return sample\n",
    "\n",
    "    def __len__(self):\n",
    "        return len(self.img_paths)\n",
    "\n",
    "def get_metadata(features_dir, bands):\n",
    "    \"\"\"\n",
    "    Given a folder of feature data, return a dataframe where the index is the chip id\n",
    "    and there is a column for the path to each band's TIF image.\n",
    "\n",
    "    Args:\n",
    "        features_dir (os.PathLike): path to the directory of feature data, which should have\n",
    "            a folder for each chip\n",
    "        bands (list[str]): list of bands provided for each chip\n",
    "    \"\"\"\n",
    "    chip_metadata = pd.DataFrame(index=[f\"{band}_path\" for band in bands])\n",
    "    chip_ids = (\n",
    "        pth.name for pth in features_dir.iterdir() if not pth.name.startswith(\".\")\n",
    "    )\n",
    "\n",
    "    for chip_id in chip_ids:\n",
    "        chip_bands = [f\"{features_dir}/{chip_id}/{band}.tif\" for band in bands]\n",
    "        chip_metadata[chip_id] = chip_bands\n",
    "\n",
    "    return chip_metadata.transpose().reset_index().rename(columns={\"index\": \"chip_id\"})\n",
    "\n",
    "\n",
    "def make_predictions(models, x_paths, bands, predictions_dir):\n",
    "    \"\"\"Predicts cloud cover and saves results to the predictions directory.\n",
    "\n",
    "    Args:\n",
    "        model (CloudModel): an instantiated CloudModel based on pl.LightningModule\n",
    "        x_paths (pd.DataFrame): a dataframe with a row for each chip. There must be a column for chip_id,\n",
    "                and a column with the path to the TIF for each of bands provided\n",
    "        bands (list[str]): list of bands provided for each chip\n",
    "        predictions_dir (os.PathLike): Destination directory to save the predicted TIF masks\n",
    "    \"\"\"\n",
    "#     print(x_paths)\n",
    "    test_dataset = TestDataset(img_paths=x_paths)\n",
    "    test_dataloader = torch.utils.data.DataLoader(\n",
    "        test_dataset,\n",
    "        batch_size=14,\n",
    "        num_workers=4,\n",
    "        shuffle=False,\n",
    "        pin_memory=True,\n",
    "    )\n",
    "    torch.set_grad_enabled(False)\n",
    "    for batch_index, batch in enumerate(test_dataloader):\n",
    "        logger.debug(f\"Predicting batch {batch_index} of {len(test_dataloader)}\")\n",
    "        x = batch[\"image\"].cuda(non_blocking=True)\n",
    "        preds = torch.softmax(models[0](x), dim=1)[:, 1]\n",
    "        for model_nb in range(1, len(models)):\n",
    "            preds += torch.softmax(models[model_nb](x), dim=1)[:, 1]\n",
    "        preds /= len(models)\n",
    "        preds = (preds > 0.45).cpu().numpy().astype(\"uint8\")\n",
    "        for chip_id, pred in zip(batch[\"chip_id\"], preds):\n",
    "            chip_pred_path = predictions_dir / f\"{chip_id}.tif\"\n",
    "            chip_pred_im = Image.fromarray(pred)\n",
    "            chip_pred_im.save(chip_pred_path)\n",
    "\n",
    "\n",
    "def main(\n",
    "    experiment_names=[\"Exp4\"] * 5,\n",
    "    fold_list=[0, 1, 2, 3, 4],\n",
    "    trained_models_dir: Path = ASSETS_DIRECTORY,\n",
    "    test_features_dir: Path = DATA_DIRECTORY / \"test_features\",\n",
    "    predictions_dir: Path = PREDICTIONS_DIRECTORY,\n",
    "    bands: List[str] = [\"B02\", \"B03\", \"B04\", \"B08\"],\n",
    "):\n",
    "    \"\"\"\n",
    "    Generate predictions for the chips in test_features_dir using the model saved at\n",
    "    model_weights_path.\n",
    "\n",
    "    Predictions are saved in predictions_dir. The default paths to all three files are based on\n",
    "    the structure of the code execution runtime.\n",
    "\n",
    "    Args:\n",
    "        hps_paths: Path to the model hyperparameters.\n",
    "        test_features_dir (os.PathLike, optional): Path to the features for the test data. Defaults\n",
    "            to 'data/test_features' in the same directory as main.py\n",
    "        predictions_dir (os.PathLike, optional): Destination directory to save the predicted TIF masks\n",
    "            Defaults to 'predictions' in the same directory as main.py\n",
    "        bands (List[str], optional): List of bands provided for each chip\n",
    "    \"\"\"\n",
    "    if not os.path.exists(test_features_dir):\n",
    "        raise ValueError(\n",
    "            f\"The directory for test feature images must exist and {test_features_dir} does not exist\"\n",
    "        )\n",
    "    os.makedirs(predictions_dir, exist_ok=True)\n",
    "\n",
    "    models = []\n",
    "    for experiment_name, fold_nb in zip(experiment_names, fold_list):\n",
    "        jit_model_path = f\"{trained_models_dir}/CNN-{experiment_name}_fold{fold_nb}_jit.pt\"\n",
    "        if not os.path.exists(jit_model_path):\n",
    "            raise ValueError(f\"Model path {jit_model_path} not found.\")\n",
    "        model = torch.jit.load(jit_model_path)\n",
    "        model.eval()\n",
    "        model = model.cuda()\n",
    "        models.append(model)\n",
    "        logger.info(f\"Using {jit_model_path}\")\n",
    "    \n",
    "    logger.info(\"Loading test metadata\")\n",
    "    test_metadata = get_metadata(test_features_dir, bands=bands)\n",
    "    logger.info(f\"Found {len(test_metadata)} chips\")\n",
    "\n",
    "    logger.info(\"Generating predictions in batches\")\n",
    "    make_predictions(models, test_metadata[\"B02_path\"].tolist(), bands, predictions_dir)\n",
    "    logger.info(f\"\"\"Saved {len(list(predictions_dir.glob(\"*.tif\")))} predictions\"\"\")\n",
    "\n",
    "if __name__ == \"__main__\":\n",
    "    typer.run(main)"
   ]
  },
  {
   "cell_type": "code",
   "execution_count": null,
   "id": "inside-entrepreneur",
   "metadata": {
    "ExecuteTime": {
     "start_time": "2022-01-04T14:28:39.775Z"
    }
   },
   "outputs": [
    {
     "name": "stderr",
     "output_type": "stream",
     "text": [
      "2022-01-04 14:28:25.544 | INFO     | benchmark_src.main:main:142 - Using benchmark_src/assets/CNN-Exp7_fold0_jit.pt\n",
      "2022-01-04 14:28:25.953 | INFO     | benchmark_src.main:main:142 - Using benchmark_src/assets/CNN-Exp7_fold1_jit.pt\n",
      "2022-01-04 14:28:26.332 | INFO     | benchmark_src.main:main:142 - Using benchmark_src/assets/CNN-Exp7_fold2_jit.pt\n",
      "2022-01-04 14:28:26.621 | INFO     | benchmark_src.main:main:142 - Using benchmark_src/assets/CNN-Exp7_fold3_jit.pt\n",
      "2022-01-04 14:28:26.919 | INFO     | benchmark_src.main:main:142 - Using benchmark_src/assets/CNN-Exp7_fold4_jit.pt\n",
      "2022-01-04 14:28:27.239 | INFO     | benchmark_src.main:main:142 - Using benchmark_src/assets/CNN-Exp7_2_fold0_jit.pt\n",
      "2022-01-04 14:28:27.526 | INFO     | benchmark_src.main:main:142 - Using benchmark_src/assets/CNN-Exp7_2_fold1_jit.pt\n",
      "2022-01-04 14:28:27.816 | INFO     | benchmark_src.main:main:142 - Using benchmark_src/assets/CNN-Exp7_2_fold2_jit.pt\n",
      "2022-01-04 14:28:28.108 | INFO     | benchmark_src.main:main:142 - Using benchmark_src/assets/CNN-Exp7_2_fold3_jit.pt\n",
      "2022-01-04 14:28:28.403 | INFO     | benchmark_src.main:main:142 - Using benchmark_src/assets/CNN-Exp7_2_fold4_jit.pt\n",
      "2022-01-04 14:28:28.403 | INFO     | benchmark_src.main:main:144 - Loading test metadata\n",
      "/home/philip/Python/OnCloudN/benchmark_src/main.py:64: PerformanceWarning: DataFrame is highly fragmented.  This is usually the result of calling `frame.insert` many times, which has poor performance.  Consider joining all columns at once using pd.concat(axis=1) instead.  To get a de-fragmented frame, use `newframe = frame.copy()`\n",
      "  chip_metadata[chip_id] = chip_bands\n",
      "2022-01-04 14:28:28.506 | INFO     | benchmark_src.main:main:146 - Found 483 chips\n",
      "2022-01-04 14:28:28.507 | INFO     | benchmark_src.main:main:148 - Generating predictions in batches\n",
      "2022-01-04 14:28:28.825 | DEBUG    | benchmark_src.main:make_predictions:90 - Predicting batch 0 of 41\n",
      "2022-01-04 14:28:33.794 | DEBUG    | benchmark_src.main:make_predictions:90 - Predicting batch 1 of 41\n",
      "2022-01-04 14:29:16.379 | DEBUG    | benchmark_src.main:make_predictions:90 - Predicting batch 2 of 41\n",
      "2022-01-04 14:29:17.618 | DEBUG    | benchmark_src.main:make_predictions:90 - Predicting batch 3 of 41\n",
      "2022-01-04 14:29:18.857 | DEBUG    | benchmark_src.main:make_predictions:90 - Predicting batch 4 of 41\n",
      "2022-01-04 14:29:20.097 | DEBUG    | benchmark_src.main:make_predictions:90 - Predicting batch 5 of 41\n",
      "2022-01-04 14:29:21.338 | DEBUG    | benchmark_src.main:make_predictions:90 - Predicting batch 6 of 41\n",
      "2022-01-04 14:29:22.581 | DEBUG    | benchmark_src.main:make_predictions:90 - Predicting batch 7 of 41\n",
      "2022-01-04 14:29:23.825 | DEBUG    | benchmark_src.main:make_predictions:90 - Predicting batch 8 of 41\n",
      "2022-01-04 14:29:25.070 | DEBUG    | benchmark_src.main:make_predictions:90 - Predicting batch 9 of 41\n",
      "2022-01-04 14:29:26.316 | DEBUG    | benchmark_src.main:make_predictions:90 - Predicting batch 10 of 41\n",
      "2022-01-04 14:29:27.561 | DEBUG    | benchmark_src.main:make_predictions:90 - Predicting batch 11 of 41\n"
     ]
    }
   ],
   "source": [
    "from benchmark_src.main import main\n",
    "from pathlib import Path\n",
    "\n",
    "main()"
   ]
  },
  {
   "cell_type": "code",
   "execution_count": 4,
   "id": "dramatic-jersey",
   "metadata": {
    "ExecuteTime": {
     "end_time": "2022-01-28T16:38:30.475214Z",
     "start_time": "2022-01-28T16:38:01.661411Z"
    }
   },
   "outputs": [
    {
     "name": "stdout",
     "output_type": "stream",
     "text": [
      "updating: __pycache__/ (stored 0%)\n",
      "updating: __pycache__/main.cpython-38.pyc (deflated 47%)\n",
      "updating: assets/ (stored 0%)\n",
      "updating: assets/CNN-Exp11-0_fold4_jit.pt (deflated 9%)\n",
      "updating: assets/CNN-Exp11-0_fold0_jit.pt (deflated 9%)\n",
      "updating: assets/CNN-Exp4_fold3_jit.pt (deflated 9%)\n",
      "updating: assets/CNN-Exp8_3_fold4_jit.pt (deflated 9%)\n",
      "updating: assets/CNN-Exp8_3_fold2_jit.pt (deflated 9%)\n",
      "updating: assets/CNN-Exp11-0_fold2_jit.pt (deflated 9%)\n",
      "updating: assets/CNN-Exp11-0_fold1_jit.pt (deflated 9%)\n",
      "updating: assets/CNN-Exp8_3_fold1_jit.pt (deflated 9%)\n",
      "updating: assets/CNN-Exp11-0_fold3_jit.pt (deflated 9%)\n",
      "updating: assets/CNN-Exp4_fold0_jit.pt (deflated 9%)\n",
      "updating: assets/CNN-Exp8_3_fold3_jit.pt (deflated 9%)\n",
      "updating: assets/CNN-Exp8_3_fold0_jit.pt (deflated 9%)\n",
      "updating: assets/CNN-Exp7-3_fold4_jit.pt (deflated 9%)\n",
      "updating: assets/CNN-Exp7-3_fold0_jit.pt (deflated 9%)\n",
      "updating: assets/CNN-Exp7-3_fold1_jit.pt (deflated 9%)\n",
      "updating: assets/CNN-Exp4_fold4_jit.pt (deflated 9%)\n",
      "updating: assets/CNN-Exp7-3_fold2_jit.pt (deflated 9%)\n",
      "updating: assets/CNN-Exp7-3_fold3_jit.pt (deflated 9%)\n",
      "updating: assets/CNN-Exp4_fold1_jit.pt (deflated 9%)\n",
      "updating: assets/CNN-Exp4_fold2_jit.pt (deflated 9%)\n",
      "updating: main.py (deflated 63%)\n"
     ]
    }
   ],
   "source": [
    "!cd benchmark_src && zip -r ../submission17.zip *"
   ]
  }
 ],
 "metadata": {
  "kernelspec": {
   "display_name": "Python 3",
   "language": "python",
   "name": "python3"
  },
  "language_info": {
   "codemirror_mode": {
    "name": "ipython",
    "version": 3
   },
   "file_extension": ".py",
   "mimetype": "text/x-python",
   "name": "python",
   "nbconvert_exporter": "python",
   "pygments_lexer": "ipython3",
   "version": "3.8.5"
  },
  "toc": {
   "base_numbering": 1,
   "nav_menu": {},
   "number_sections": true,
   "sideBar": true,
   "skip_h1_title": false,
   "title_cell": "Table of Contents",
   "title_sidebar": "Contents",
   "toc_cell": false,
   "toc_position": {},
   "toc_section_display": true,
   "toc_window_display": false
  }
 },
 "nbformat": 4,
 "nbformat_minor": 5
}
